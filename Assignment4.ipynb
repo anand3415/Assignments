{
  "nbformat": 4,
  "nbformat_minor": 0,
  "metadata": {
    "colab": {
      "provenance": []
    },
    "kernelspec": {
      "name": "python3",
      "display_name": "Python 3"
    },
    "language_info": {
      "name": "python"
    }
  },
  "cells": [
    {
      "cell_type": "markdown",
      "source": [
        "1. What exactly is []?"
      ],
      "metadata": {
        "id": "lANnLzkAbrSl"
      }
    },
    {
      "cell_type": "code",
      "source": [
        "# [] this represents a empty list."
      ],
      "metadata": {
        "id": "84bzDk5QbtSR"
      },
      "execution_count": 1,
      "outputs": []
    },
    {
      "cell_type": "markdown",
      "source": [
        "2. In a list of values stored in a variable called spam, how would you assign the value &#39;hello&#39; as the\n",
        "third value? (Assume [2, 4, 6, 8, 10] are in spam.)"
      ],
      "metadata": {
        "id": "1hoV4rMxbxyu"
      }
    },
    {
      "cell_type": "code",
      "source": [
        "spam = [2,4,6,8,10]\n",
        "spam.insert(2,'hello')\n",
        "print(spam)"
      ],
      "metadata": {
        "colab": {
          "base_uri": "https://localhost:8080/"
        },
        "id": "ral0RhAabxNk",
        "outputId": "7e547469-ce16-4a6d-cece-6eacefc27abc"
      },
      "execution_count": 7,
      "outputs": [
        {
          "output_type": "stream",
          "name": "stdout",
          "text": [
            "[2, 4, 'hello', 6, 8, 10]\n"
          ]
        }
      ]
    },
    {
      "cell_type": "code",
      "source": [
        "spam = ['a','b','c','d']"
      ],
      "metadata": {
        "id": "iS7bAoUYcL1A"
      },
      "execution_count": 8,
      "outputs": []
    },
    {
      "cell_type": "markdown",
      "source": [
        "3. What is the value of spam[int(int('3'*2)/11)]?"
      ],
      "metadata": {
        "id": "BPktX6e_dJMg"
      }
    },
    {
      "cell_type": "code",
      "source": [
        "spam[int(int('3'*2)/11)]"
      ],
      "metadata": {
        "colab": {
          "base_uri": "https://localhost:8080/",
          "height": 36
        },
        "id": "mSvdX1j2dIcT",
        "outputId": "bf4d58c4-bdf9-4708-b44f-ec56c65d84ef"
      },
      "execution_count": 10,
      "outputs": [
        {
          "output_type": "execute_result",
          "data": {
            "text/plain": [
              "'d'"
            ],
            "application/vnd.google.colaboratory.intrinsic+json": {
              "type": "string"
            }
          },
          "metadata": {},
          "execution_count": 10
        }
      ]
    },
    {
      "cell_type": "markdown",
      "source": [
        "4. What is the value of spam[-1]?"
      ],
      "metadata": {
        "id": "Qz-7vgSmdlIo"
      }
    },
    {
      "cell_type": "code",
      "source": [
        "spam[-1]"
      ],
      "metadata": {
        "colab": {
          "base_uri": "https://localhost:8080/",
          "height": 36
        },
        "id": "uzV2aGFbdXwN",
        "outputId": "3a26b311-e3d5-4d43-fdf0-4f3c242d8482"
      },
      "execution_count": 11,
      "outputs": [
        {
          "output_type": "execute_result",
          "data": {
            "text/plain": [
              "'d'"
            ],
            "application/vnd.google.colaboratory.intrinsic+json": {
              "type": "string"
            }
          },
          "metadata": {},
          "execution_count": 11
        }
      ]
    },
    {
      "cell_type": "markdown",
      "source": [
        "5. What is the value of spam[:2]?"
      ],
      "metadata": {
        "id": "AH8kJApIdrOM"
      }
    },
    {
      "cell_type": "code",
      "source": [
        "spam[:2]"
      ],
      "metadata": {
        "colab": {
          "base_uri": "https://localhost:8080/"
        },
        "id": "8Lk75gqGdory",
        "outputId": "bc0c4149-8b39-4104-f8e9-5354f131dcd9"
      },
      "execution_count": 12,
      "outputs": [
        {
          "output_type": "execute_result",
          "data": {
            "text/plain": [
              "['a', 'b']"
            ]
          },
          "metadata": {},
          "execution_count": 12
        }
      ]
    },
    {
      "cell_type": "code",
      "source": [
        "bacon = [3.14, 'cat',11,'cat',True]"
      ],
      "metadata": {
        "id": "819mGyOYdtMH"
      },
      "execution_count": 20,
      "outputs": []
    },
    {
      "cell_type": "markdown",
      "source": [
        "6. What is the value of bacon.index('cat')?"
      ],
      "metadata": {
        "id": "dvIvAcmDd-76"
      }
    },
    {
      "cell_type": "code",
      "source": [
        "bacon.index('cat')"
      ],
      "metadata": {
        "colab": {
          "base_uri": "https://localhost:8080/"
        },
        "id": "H4W7SWHAeEEU",
        "outputId": "aca984c6-b7b7-423e-be62-2845873f7932"
      },
      "execution_count": 15,
      "outputs": [
        {
          "output_type": "execute_result",
          "data": {
            "text/plain": [
              "1"
            ]
          },
          "metadata": {},
          "execution_count": 15
        }
      ]
    },
    {
      "cell_type": "markdown",
      "source": [
        "7. How does bacon.append(99) change the look of the list value in bacon?"
      ],
      "metadata": {
        "id": "NCcge5tYeQA4"
      }
    },
    {
      "cell_type": "code",
      "source": [
        "bacon.append(99)\n",
        "print(bacon)"
      ],
      "metadata": {
        "colab": {
          "base_uri": "https://localhost:8080/"
        },
        "id": "O1ATwABteS3Y",
        "outputId": "1f94dba4-f033-4c89-b64d-ef4addcd001b"
      },
      "execution_count": 21,
      "outputs": [
        {
          "output_type": "stream",
          "name": "stdout",
          "text": [
            "[3.14, 'cat', 11, 'cat', True, 99]\n"
          ]
        }
      ]
    },
    {
      "cell_type": "markdown",
      "source": [
        "8. How does bacon.remove(&#39;cat&#39;) change the look of the list in bacon?"
      ],
      "metadata": {
        "id": "j_cMyzy7em43"
      }
    },
    {
      "cell_type": "code",
      "source": [
        "bacon.remove('cat')\n",
        "print(bacon)"
      ],
      "metadata": {
        "colab": {
          "base_uri": "https://localhost:8080/"
        },
        "id": "t8JhOtuceg_K",
        "outputId": "3b5f8454-5beb-4d72-fa30-d65dabb99040"
      },
      "execution_count": 22,
      "outputs": [
        {
          "output_type": "stream",
          "name": "stdout",
          "text": [
            "[3.14, 11, 'cat', True, 99]\n"
          ]
        }
      ]
    },
    {
      "cell_type": "markdown",
      "source": [
        "9. What are the list concatenation and list replication operators?"
      ],
      "metadata": {
        "id": "a3CeY4lQexMt"
      }
    },
    {
      "cell_type": "code",
      "source": [
        "# list concatenation refers to adding 2 or more list.\n",
        "#for example:\n",
        "a = [1,2,3]\n",
        "b = [4,5,6]\n",
        "c = a+b\n",
        "# list replication refers to extendng or duplicating a list several times.\n",
        "# for example:\n",
        "d = a*3"
      ],
      "metadata": {
        "id": "2fI2oPOweuOW"
      },
      "execution_count": null,
      "outputs": []
    },
    {
      "cell_type": "markdown",
      "source": [
        "10. What is difference between the list methods append() and insert()?"
      ],
      "metadata": {
        "id": "TnVH5K8cgcVO"
      }
    },
    {
      "cell_type": "code",
      "source": [
        "# append(): this method adds an element to the end of a list.\n",
        "# insert(): this method adds an element to the specified index of a list."
      ],
      "metadata": {
        "id": "_x9ZcIRIgf4u"
      },
      "execution_count": 23,
      "outputs": []
    },
    {
      "cell_type": "markdown",
      "source": [
        "11. What are the two methods for removing items from a list?"
      ],
      "metadata": {
        "id": "JCn4nQldhFlX"
      }
    },
    {
      "cell_type": "code",
      "source": [
        "# pop() and remove()  \n",
        "# Example - \n",
        "l = ['a','b','c','d']\n",
        "l.pop(2)\n",
        "l.remove('b')"
      ],
      "metadata": {
        "id": "xwIQBYh-hFCA"
      },
      "execution_count": 25,
      "outputs": []
    },
    {
      "cell_type": "markdown",
      "source": [
        "12. Describe how list values and string values are identical."
      ],
      "metadata": {
        "id": "YuC4uX5fhNWy"
      }
    },
    {
      "cell_type": "code",
      "source": [
        "# Because both act the same that is both contains data in a sequence that can be accessed through indexing.\n",
        "a = ['1','2','3','4','5']\n",
        "b = '12345'\n",
        "a[1]\n",
        "b[1]\n",
        "# The above code will give same output."
      ],
      "metadata": {
        "id": "JNy_TGVlhMrE"
      },
      "execution_count": null,
      "outputs": []
    },
    {
      "cell_type": "markdown",
      "source": [
        "13. What&#39;s the difference between tuples and lists?"
      ],
      "metadata": {
        "id": "aLGfS4wLiH-Y"
      }
    },
    {
      "cell_type": "code",
      "source": [
        "# tuples(): tuples is a dataset which is immutable that is the values in a tuple cannot be modified.\n",
        "# list[]: list is a dataset which is mutable that is the values in a list can be modified or changed."
      ],
      "metadata": {
        "id": "pVH1llmCiKLz"
      },
      "execution_count": null,
      "outputs": []
    },
    {
      "cell_type": "markdown",
      "source": [
        "14. How do you type a tuple value that only contains the integer 42?"
      ],
      "metadata": {
        "id": "REV3_2a9iYTw"
      }
    },
    {
      "cell_type": "code",
      "source": [
        "tup = tuple([42])"
      ],
      "metadata": {
        "id": "ocufUj_piZ3R"
      },
      "execution_count": null,
      "outputs": []
    },
    {
      "cell_type": "markdown",
      "source": [
        "15. How do you get a list value's tuple form? How do you get a tuple value's list form?"
      ],
      "metadata": {
        "id": "EGVpV17rjsp0"
      }
    },
    {
      "cell_type": "code",
      "source": [
        "lst = [1,2,3,4]\n",
        "tup = (4,5,6,7)\n",
        "tup_1 = tuple(lst)\n",
        "lst_1 = list(tup)"
      ],
      "metadata": {
        "id": "XCjbhCXxjXrl"
      },
      "execution_count": null,
      "outputs": []
    },
    {
      "cell_type": "markdown",
      "source": [
        "16. Variables that &quot;contain&quot; list values are not necessarily lists themselves. Instead, what do they\n",
        "contain?"
      ],
      "metadata": {
        "id": "il3WeJddkWIX"
      }
    },
    {
      "cell_type": "code",
      "source": [
        "# Those contain elements of a list."
      ],
      "metadata": {
        "id": "N3QokPsYkab9"
      },
      "execution_count": null,
      "outputs": []
    },
    {
      "cell_type": "markdown",
      "source": [
        "17. How do you distinguish between copy.copy() and copy.deepcopy()?"
      ],
      "metadata": {
        "id": "607m-OhElFTa"
      }
    },
    {
      "cell_type": "code",
      "source": [
        "# copy() is used to copy the elements to a new location whereas deepcopy() is used in case of nested list which goes through each list recursively to store it to a new location."
      ],
      "metadata": {
        "id": "aZCq2N2XlHgU"
      },
      "execution_count": null,
      "outputs": []
    }
  ]
}