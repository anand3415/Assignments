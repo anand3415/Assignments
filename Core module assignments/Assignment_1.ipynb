{
  "nbformat": 4,
  "nbformat_minor": 0,
  "metadata": {
    "colab": {
      "provenance": []
    },
    "kernelspec": {
      "name": "python3",
      "display_name": "Python 3"
    },
    "language_info": {
      "name": "python"
    }
  },
  "cells": [
    {
      "cell_type": "markdown",
      "source": [
        "1. Write a Python program to reverse a string without using any built-in string reversal functions."
      ],
      "metadata": {
        "id": "1Jf_SX5bPKjc"
      }
    },
    {
      "cell_type": "code",
      "source": [
        "def reverse_string(string):\n",
        "  reversed_string = \"\"\n",
        "  for i in range(len(string) - 1, -1, -1):\n",
        "    reversed_string += string[i]\n",
        "  return reversed_string\n",
        "\n",
        "\n",
        "\n",
        "string = \"Hello, world!\"\n",
        "reversed_string = reverse_string(string)\n",
        "print(f\"The reversed string is: {reversed_string}\")"
      ],
      "metadata": {
        "colab": {
          "base_uri": "https://localhost:8080/"
        },
        "id": "_n4J9KRAPj6h",
        "outputId": "e0ad2000-25ee-44b8-ec82-4b1b73649bbe"
      },
      "execution_count": null,
      "outputs": [
        {
          "output_type": "stream",
          "name": "stdout",
          "text": [
            "The reversed string is: !dlrow ,olleH\n"
          ]
        }
      ]
    },
    {
      "cell_type": "markdown",
      "source": [
        "2. Implement a function to check if a given string is a palindrome."
      ],
      "metadata": {
        "id": "M9Py5HuWPLuv"
      }
    },
    {
      "cell_type": "code",
      "source": [
        "def is_palindrome(string):\n",
        "  reversed_string = \"\"\n",
        "  for i in range(len(string) - 1, -1, -1):\n",
        "    reversed_string += string[i]\n",
        "  return string == reversed_string\n",
        "\n",
        "\n",
        "\n",
        "string = \"racecar\"\n",
        "print(f\"Is {string} a palindrome? {is_palindrome(string)}\")\n"
      ],
      "metadata": {
        "colab": {
          "base_uri": "https://localhost:8080/"
        },
        "id": "TSXlyWcmSuT2",
        "outputId": "c01a8e93-7ad0-4a72-9e62-b52e6965639f"
      },
      "execution_count": null,
      "outputs": [
        {
          "output_type": "stream",
          "name": "stdout",
          "text": [
            "Is racecar a palindrome? True\n"
          ]
        }
      ]
    },
    {
      "cell_type": "markdown",
      "source": [
        "3. Write a program to find the largest element in a given list."
      ],
      "metadata": {
        "id": "sQ0i6v9RPLxJ"
      }
    },
    {
      "cell_type": "code",
      "source": [
        "def find_largest_element(list_of_numbers):\n",
        "  largest_element = list_of_numbers[0]\n",
        "  for number in list_of_numbers:\n",
        "    if number > largest_element:\n",
        "      largest_element = number\n",
        "  return largest_element\n",
        "\n",
        "\n",
        "list_of_numbers = [10, 4, 2, 9, 7, 5, 1, 3, 6, 8]\n",
        "largest_element = find_largest_element(list_of_numbers)\n",
        "print(f\"The largest element in the list is {largest_element}\")\n"
      ],
      "metadata": {
        "colab": {
          "base_uri": "https://localhost:8080/"
        },
        "id": "MJ3znSPcTByV",
        "outputId": "d6a01688-86d3-4561-db93-3856931a232b"
      },
      "execution_count": null,
      "outputs": [
        {
          "output_type": "stream",
          "name": "stdout",
          "text": [
            "The largest element in the list is 10\n"
          ]
        }
      ]
    },
    {
      "cell_type": "markdown",
      "source": [
        "4. Implement a function to count the occurrence of each element in a list."
      ],
      "metadata": {
        "id": "_9b9qKf0PLzp"
      }
    },
    {
      "cell_type": "code",
      "source": [
        "def count_occurrences(list_of_elements):\n",
        "  occurrence_counts = {}\n",
        "  for element in list_of_elements:\n",
        "    if element in occurrence_counts:\n",
        "      occurrence_counts[element] += 1\n",
        "    else:\n",
        "      occurrence_counts[element] = 1\n",
        "  return occurrence_counts\n",
        "\n",
        "\n",
        "\n",
        "list_of_elements = [1, 2, 3, 1, 2, 3, 4, 5, 1, 2]\n",
        "occurrence_counts = count_occurrences(list_of_elements)\n",
        "print(f\"The occurrence counts are: {occurrence_counts}\")\n"
      ],
      "metadata": {
        "colab": {
          "base_uri": "https://localhost:8080/"
        },
        "id": "FmpM2grTTRL7",
        "outputId": "08d8966e-1761-4bae-f498-cef6ebabb1d7"
      },
      "execution_count": null,
      "outputs": [
        {
          "output_type": "stream",
          "name": "stdout",
          "text": [
            "The occurrence counts are: {1: 3, 2: 3, 3: 2, 4: 1, 5: 1}\n"
          ]
        }
      ]
    },
    {
      "cell_type": "markdown",
      "source": [
        "5. Write a Python program to find the second largest number in a list."
      ],
      "metadata": {
        "id": "YutxM9xfPL2G"
      }
    },
    {
      "cell_type": "code",
      "source": [
        "def find_second_largest_number(list_of_numbers):\n",
        "  list_of_numbers.sort()\n",
        "  second_largest_number = list_of_numbers[-2]\n",
        "  return second_largest_number\n",
        "\n",
        "list_of_numbers = [10, 4, 2, 9, 7, 5, 1, 3, 6, 8]\n",
        "second_largest_number = find_second_largest_number(list_of_numbers)\n",
        "print(f\"The second largest number in the list is {second_largest_number}\")"
      ],
      "metadata": {
        "colab": {
          "base_uri": "https://localhost:8080/"
        },
        "id": "qfbrvniAT0k6",
        "outputId": "74f4c511-6a95-436c-d449-edd045e30018"
      },
      "execution_count": null,
      "outputs": [
        {
          "output_type": "stream",
          "name": "stdout",
          "text": [
            "The second largest number in the list is 9\n"
          ]
        }
      ]
    },
    {
      "cell_type": "markdown",
      "source": [
        "6. Implement a function to remove duplicate elements from a list."
      ],
      "metadata": {
        "id": "F7F2tPkVPL4k"
      }
    },
    {
      "cell_type": "code",
      "source": [
        "def remove_duplicates(list_of_elements):\n",
        "  new_list = []\n",
        "  seen_elements = set()\n",
        "  for element in list_of_elements:\n",
        "    if element not in seen_elements:\n",
        "      new_list.append(element)\n",
        "      seen_elements.add(element)\n",
        "  return new_list\n",
        "\n",
        "\n",
        "list_of_elements = [1, 2, 3, 1, 2, 3, 4, 5, 1, 2]\n",
        "new_list = remove_duplicates(list_of_elements)\n",
        "print(f\"The new list without duplicates is: {new_list}\")"
      ],
      "metadata": {
        "colab": {
          "base_uri": "https://localhost:8080/"
        },
        "id": "pVPrce5SUrlY",
        "outputId": "5fb98e29-b363-4a50-b516-e386360d7559"
      },
      "execution_count": null,
      "outputs": [
        {
          "output_type": "stream",
          "name": "stdout",
          "text": [
            "The new list without duplicates is: [1, 2, 3, 4, 5]\n"
          ]
        }
      ]
    },
    {
      "cell_type": "markdown",
      "source": [
        "7. Write a program to calculate the factorial of a given number."
      ],
      "metadata": {
        "id": "Y-FN-bkqPL68"
      }
    },
    {
      "cell_type": "code",
      "source": [
        "def factorial(number):\n",
        "  if number == 0:\n",
        "    return 1\n",
        "  else:\n",
        "    return number * factorial(number - 1)\n",
        "\n",
        "number = 5\n",
        "factorial_of_number = factorial(number)\n",
        "print(f\"The factorial of {number} is {factorial_of_number}\")\n"
      ],
      "metadata": {
        "colab": {
          "base_uri": "https://localhost:8080/"
        },
        "id": "tH40WI6tVAej",
        "outputId": "3c2db1b5-2951-427a-84ca-7e4f87052403"
      },
      "execution_count": null,
      "outputs": [
        {
          "output_type": "stream",
          "name": "stdout",
          "text": [
            "The factorial of 5 is 120\n"
          ]
        }
      ]
    },
    {
      "cell_type": "markdown",
      "source": [
        "8. Implement a function to check if a given number is prime."
      ],
      "metadata": {
        "id": "TSzNaIDEPL9a"
      }
    },
    {
      "cell_type": "code",
      "source": [
        "def is_prime(number):\n",
        "  if number <= 1:\n",
        "    return False\n",
        "  for i in range(2, int(number ** 0.5) + 1):\n",
        "    if number % i == 0:\n",
        "      return False\n",
        "  return True\n",
        "\n",
        "\n",
        "\n",
        "number = 11\n",
        "is_prime_number = is_prime(number)\n",
        "print(f\"Is {number} a prime number? {is_prime_number}\")\n"
      ],
      "metadata": {
        "colab": {
          "base_uri": "https://localhost:8080/"
        },
        "id": "cDHiuL7XVTlF",
        "outputId": "5dceb49c-b5f6-4ffb-9b91-750a2c0477ea"
      },
      "execution_count": null,
      "outputs": [
        {
          "output_type": "stream",
          "name": "stdout",
          "text": [
            "Is 11 a prime number? True\n"
          ]
        }
      ]
    },
    {
      "cell_type": "markdown",
      "source": [
        "9. Write a Python program to sort a list of integers in ascending order."
      ],
      "metadata": {
        "id": "qGNEy0kKPL_-"
      }
    },
    {
      "cell_type": "code",
      "source": [
        "def sort_list(list_of_numbers):\n",
        "  new_list = list_of_numbers[:]\n",
        "  for i in range(len(new_list)):\n",
        "    for j in range(i + 1, len(new_list)):\n",
        "      if new_list[i] > new_list[j]:\n",
        "        temp = new_list[i]\n",
        "        new_list[i] = new_list[j]\n",
        "        new_list[j] = temp\n",
        "  return new_list\n",
        "\n",
        "\n",
        "\n",
        "list_of_numbers = [10, 4, 2, 9, 7, 5, 1, 3, 6, 8]\n",
        "sorted_list = sort_list(list_of_numbers)\n",
        "print(f\"The sorted list is: {sorted_list}\")\n"
      ],
      "metadata": {
        "colab": {
          "base_uri": "https://localhost:8080/"
        },
        "id": "aqIQ4Mw8VkIt",
        "outputId": "b1e95aca-5510-4868-c396-66f6fed86398"
      },
      "execution_count": null,
      "outputs": [
        {
          "output_type": "stream",
          "name": "stdout",
          "text": [
            "The sorted list is: [1, 2, 3, 4, 5, 6, 7, 8, 9, 10]\n"
          ]
        }
      ]
    },
    {
      "cell_type": "markdown",
      "source": [
        "10. Implement a function to find the sum of all numbers in a list."
      ],
      "metadata": {
        "id": "YvTHR3AJPMCU"
      }
    },
    {
      "cell_type": "code",
      "source": [
        "def find_sum_of_list(list_of_numbers):\n",
        "  sum_of_numbers = 0\n",
        "  for number in list_of_numbers:\n",
        "    sum_of_numbers += number\n",
        "  return sum_of_numbers\n",
        "\n",
        "\n",
        "list_of_numbers = [10, 4, 2, 9, 7, 5, 1, 3, 6, 8]\n",
        "sum_of_numbers = find_sum_of_list(list_of_numbers)\n",
        "print(f\"The sum of the numbers in the list is {sum_of_numbers}\")\n"
      ],
      "metadata": {
        "colab": {
          "base_uri": "https://localhost:8080/"
        },
        "id": "YEUZqwzZV8bc",
        "outputId": "4a55c55b-1163-447d-e7ca-9ccc91431b81"
      },
      "execution_count": null,
      "outputs": [
        {
          "output_type": "stream",
          "name": "stdout",
          "text": [
            "The sum of the numbers in the list is 55\n"
          ]
        }
      ]
    },
    {
      "cell_type": "markdown",
      "source": [
        "11. Write a program to find the common elements between two lists.\n"
      ],
      "metadata": {
        "id": "Hy1vCOqyPME4"
      }
    },
    {
      "cell_type": "code",
      "source": [
        "def find_common_elements(list1, list2):\n",
        "  common_elements = []\n",
        "  for element in list1:\n",
        "    if element in list2:\n",
        "      common_elements.append(element)\n",
        "  return common_elements\n",
        "\n",
        "\n",
        "list1 = [1, 2, 3, 4, 5, 6, 7, 8, 9, 10]\n",
        "list2 = [2, 3, 5, 7, 11, 13, 17, 19, 23, 29]\n",
        "common_elements = find_common_elements(list1, list2)\n",
        "print(f\"The common elements between the two lists are {common_elements}\")\n"
      ],
      "metadata": {
        "colab": {
          "base_uri": "https://localhost:8080/"
        },
        "id": "eiQrQMGvWoV8",
        "outputId": "591448f9-a4e8-4431-d778-1dd2f13bba50"
      },
      "execution_count": null,
      "outputs": [
        {
          "output_type": "stream",
          "name": "stdout",
          "text": [
            "The common elements between the two lists are [2, 3, 5, 7]\n"
          ]
        }
      ]
    },
    {
      "cell_type": "markdown",
      "source": [
        "12. Implement a function to check if a given string is an anagram of another string."
      ],
      "metadata": {
        "id": "AqZNkDeEPMHB"
      }
    },
    {
      "cell_type": "code",
      "source": [
        "def is_anagram(string1, string2):\n",
        "  if len(string1) != len(string2):\n",
        "    return False\n",
        "  character_counts = {}\n",
        "  for character in string1:\n",
        "    if character in character_counts:\n",
        "      character_counts[character] += 1\n",
        "    else:\n",
        "      character_counts[character] = 1\n",
        "  for character in string2:\n",
        "    if character not in character_counts:\n",
        "      return False\n",
        "    else:\n",
        "      character_counts[character] -= 1\n",
        "  for count in character_counts.values():\n",
        "    if count != 0:\n",
        "      return False\n",
        "  return True\n",
        "\n",
        "\n",
        "\n",
        "string1 = \"hello\"\n",
        "string2 = \"olleh\"\n",
        "is_anagram_result = is_anagram(string1, string2)\n",
        "print(f\"Are the two strings anagrams? {is_anagram_result}\")\n"
      ],
      "metadata": {
        "colab": {
          "base_uri": "https://localhost:8080/"
        },
        "id": "0_lLZLDDWo03",
        "outputId": "f5425abd-6896-4d56-9d1d-9d975dc21de3"
      },
      "execution_count": null,
      "outputs": [
        {
          "output_type": "stream",
          "name": "stdout",
          "text": [
            "Are the two strings anagrams? True\n"
          ]
        }
      ]
    },
    {
      "cell_type": "markdown",
      "source": [
        "13. Write a Python program to generate all permutations of a given string."
      ],
      "metadata": {
        "id": "wwzA8TwEPMJm"
      }
    },
    {
      "cell_type": "code",
      "source": [
        "def generate_permutations(string):\n",
        "  if len(string) == 0:\n",
        "    yield \"\"\n",
        "  else:\n",
        "    for i in range(len(string)):\n",
        "      remaining_string = string[i + 1:]\n",
        "      for permutation in generate_permutations(remaining_string):\n",
        "        yield string[i] + permutation\n",
        "\n",
        "\n",
        "\n",
        "string = \"hello\"\n",
        "for permutation in generate_permutations(string):\n",
        "  print(permutation)\n"
      ],
      "metadata": {
        "colab": {
          "base_uri": "https://localhost:8080/"
        },
        "id": "W0qSoAhnWpop",
        "outputId": "ae3a7731-2ec9-44ff-85ca-58a05d229070"
      },
      "execution_count": null,
      "outputs": [
        {
          "output_type": "stream",
          "name": "stdout",
          "text": [
            "hello\n",
            "helo\n",
            "helo\n",
            "heo\n",
            "hllo\n",
            "hlo\n",
            "hlo\n",
            "ho\n",
            "ello\n",
            "elo\n",
            "elo\n",
            "eo\n",
            "llo\n",
            "lo\n",
            "lo\n",
            "o\n"
          ]
        }
      ]
    },
    {
      "cell_type": "markdown",
      "source": [
        "14. Implement a function to calculate the Fibonacci sequence up to a given number of terms."
      ],
      "metadata": {
        "id": "h8bA9yG9PMMB"
      }
    },
    {
      "cell_type": "code",
      "source": [
        "def fibonacci(n):\n",
        "  if n <= 1:\n",
        "    return [n]\n",
        "  else:\n",
        "    fibonacci_numbers = [0, 1]\n",
        "    for i in range(2, n + 1):\n",
        "      fibonacci_numbers.append(fibonacci_numbers[i - 1] + fibonacci_numbers[i - 2])\n",
        "    return fibonacci_numbers\n",
        "\n",
        "\n",
        "\n",
        "n = 10\n",
        "fibonacci_numbers = fibonacci(n)\n",
        "print(f\"The Fibonacci numbers up to {n} are: {fibonacci_numbers}\")\n"
      ],
      "metadata": {
        "colab": {
          "base_uri": "https://localhost:8080/"
        },
        "id": "wQKWMIS9WqIs",
        "outputId": "932879cf-55eb-4880-e7fb-beb1b0b313fc"
      },
      "execution_count": null,
      "outputs": [
        {
          "output_type": "stream",
          "name": "stdout",
          "text": [
            "The Fibonacci numbers up to 10 are: [0, 1, 1, 2, 3, 5, 8, 13, 21, 34, 55]\n"
          ]
        }
      ]
    },
    {
      "cell_type": "markdown",
      "source": [
        "15. Write a program to find the median of a list of numbers."
      ],
      "metadata": {
        "id": "4eDC1aKsPMOl"
      }
    },
    {
      "cell_type": "code",
      "source": [
        "def find_median(list_of_numbers):\n",
        "  list_of_numbers.sort()\n",
        "  length_of_list = len(list_of_numbers)\n",
        "  if length_of_list % 2 == 0:\n",
        "    median = (list_of_numbers[length_of_list // 2] +\n",
        "              list_of_numbers[length_of_list // 2 - 1]) / 2\n",
        "  else:\n",
        "    median = list_of_numbers[length_of_list // 2]\n",
        "  return median\n",
        "\n",
        "\n",
        "list_of_numbers = [1, 2, 3, 4, 5, 6, 7, 8, 9, 10]\n",
        "median = find_median(list_of_numbers)\n",
        "print(f\"The median of the list is {median}\")"
      ],
      "metadata": {
        "colab": {
          "base_uri": "https://localhost:8080/"
        },
        "id": "kUT8etaoWqvO",
        "outputId": "2e998283-5a51-493e-9251-43cccbe3311a"
      },
      "execution_count": null,
      "outputs": [
        {
          "output_type": "stream",
          "name": "stdout",
          "text": [
            "The median of the list is 5.5\n"
          ]
        }
      ]
    },
    {
      "cell_type": "markdown",
      "source": [
        "16. Implement a function to check if a given list is sorted in non-decreasing order."
      ],
      "metadata": {
        "id": "Zk8qBycBPMRA"
      }
    },
    {
      "cell_type": "code",
      "source": [
        "def is_sorted_non_decreasing(list_of_numbers):\n",
        "  for i in range(len(list_of_numbers) - 1):\n",
        "    if list_of_numbers[i] > list_of_numbers[i + 1]:\n",
        "      return False\n",
        "  return True\n",
        "\n",
        "\n",
        "\n",
        "list_of_numbers = [1, 2, 3, 4, 5]\n",
        "is_sorted_result = is_sorted_non_decreasing(list_of_numbers)\n",
        "print(f\"Is the list sorted in non-decreasing order? {is_sorted_result}\")\n"
      ],
      "metadata": {
        "colab": {
          "base_uri": "https://localhost:8080/"
        },
        "id": "RIfkjGB4WrDX",
        "outputId": "0625290e-5f61-4bcd-c25e-07b77eb98379"
      },
      "execution_count": null,
      "outputs": [
        {
          "output_type": "stream",
          "name": "stdout",
          "text": [
            "Is the list sorted in non-decreasing order? True\n"
          ]
        }
      ]
    },
    {
      "cell_type": "markdown",
      "source": [
        "17. Write a Python program to find the intersection of two lists."
      ],
      "metadata": {
        "id": "fGaGRDVjPMTW"
      }
    },
    {
      "cell_type": "code",
      "source": [
        "def find_intersection(list1, list2):\n",
        "  intersection = []\n",
        "  for element in list1:\n",
        "    if element in list2:\n",
        "      intersection.append(element)\n",
        "  return intersection\n",
        "\n",
        "\n",
        "list1 = [1, 2, 3, 4, 5]\n",
        "list2 = [2, 3, 5, 6, 7]\n",
        "intersection = find_intersection(list1, list2)\n",
        "print(f\"The intersection of the two lists is {intersection}\")\n"
      ],
      "metadata": {
        "colab": {
          "base_uri": "https://localhost:8080/"
        },
        "id": "r7nq2D8LWrd8",
        "outputId": "88ad485a-b902-43fc-879d-5b63119baa2b"
      },
      "execution_count": null,
      "outputs": [
        {
          "output_type": "stream",
          "name": "stdout",
          "text": [
            "The intersection of the two lists is [2, 3, 5]\n"
          ]
        }
      ]
    },
    {
      "cell_type": "markdown",
      "source": [
        "18. Implement a function to find the maximum subarray sum in a given list."
      ],
      "metadata": {
        "id": "O4SI_xWgPMVs"
      }
    },
    {
      "cell_type": "code",
      "source": [
        "def max_subarray_sum(list_nums):\n",
        "  max_ending_here = 0\n",
        "  max_so_far = float(\"-inf\")\n",
        "\n",
        "  for num in list_nums:\n",
        "    max_ending_here = max(max_ending_here + num, num)\n",
        "    max_so_far = max(max_so_far, max_ending_here)\n",
        "\n",
        "  return max_so_far\n",
        "\n",
        "\n",
        "\n",
        "list_nums = [1, 2, -3, 4, -1, 2, 1, -5, 4]\n",
        "print(max_subarray_sum(list_nums))\n"
      ],
      "metadata": {
        "colab": {
          "base_uri": "https://localhost:8080/"
        },
        "id": "lSZqDAyNWsXp",
        "outputId": "4efdec01-3075-42cb-a79e-4262556eee28"
      },
      "execution_count": null,
      "outputs": [
        {
          "output_type": "stream",
          "name": "stdout",
          "text": [
            "6\n"
          ]
        }
      ]
    },
    {
      "cell_type": "markdown",
      "source": [
        "19. Write a program to remove all vowels from a given string."
      ],
      "metadata": {
        "id": "wpQ0BmNzPMYG"
      }
    },
    {
      "cell_type": "code",
      "source": [
        "def remove_vowels(str1):\n",
        "  vowels = \"aeiouAEIOU\"\n",
        "  new_str = \"\"\n",
        "  for char in str1:\n",
        "    if char not in vowels:\n",
        "      new_str += char\n",
        "\n",
        "  return new_str\n",
        "\n",
        "\n",
        "\n",
        "str1 = \"This is a string with vowels.\"\n",
        "print(remove_vowels(str1))\n"
      ],
      "metadata": {
        "colab": {
          "base_uri": "https://localhost:8080/"
        },
        "id": "BdEHb9wqWstU",
        "outputId": "efdba6da-8b49-498f-a9ee-af9a9cc26285"
      },
      "execution_count": null,
      "outputs": [
        {
          "output_type": "stream",
          "name": "stdout",
          "text": [
            "Ths s  strng wth vwls.\n"
          ]
        }
      ]
    },
    {
      "cell_type": "markdown",
      "source": [
        "20. Implement a function to reverse the order of words in a given sentence."
      ],
      "metadata": {
        "id": "HHcU_BkDPKzb"
      }
    },
    {
      "cell_type": "code",
      "source": [
        "def reverse_words(sentence):\n",
        "  words = sentence.split(\" \")\n",
        "  reversed_words = words[::-1]\n",
        "\n",
        "  return \" \".join(reversed_words)\n",
        "\n",
        "\n",
        "\n",
        "sentence = \"This is a sentence\"\n",
        "print(reverse_words(sentence))\n"
      ],
      "metadata": {
        "colab": {
          "base_uri": "https://localhost:8080/"
        },
        "id": "G1NrTPE7WtEG",
        "outputId": "17f435c9-077d-4b18-8f5c-a94e448af9a3"
      },
      "execution_count": null,
      "outputs": [
        {
          "output_type": "stream",
          "name": "stdout",
          "text": [
            "sentence a is This\n"
          ]
        }
      ]
    },
    {
      "cell_type": "markdown",
      "source": [
        "21. Write a Python program to check if two strings are anagrams of each other."
      ],
      "metadata": {
        "id": "ddTVb4FOPK2F"
      }
    },
    {
      "cell_type": "code",
      "source": [
        "def is_anagram(str1, str2):\n",
        "  if len(str1) != len(str2):\n",
        "    return False\n",
        "\n",
        "  char_counts = {}\n",
        "  for char in str1:\n",
        "    if char in char_counts:\n",
        "      char_counts[char] += 1\n",
        "    else:\n",
        "      char_counts[char] = 1\n",
        "\n",
        "  for char in str2:\n",
        "    if char not in char_counts or char_counts[char] == 0:\n",
        "      return False\n",
        "    else:\n",
        "      char_counts[char] -= 1\n",
        "\n",
        "  return True\n",
        "\n",
        "\n",
        "def main():\n",
        "  str1 = \"listen\"\n",
        "  str2 = \"silent\"\n",
        "\n",
        "  if is_anagram(str1, str2):\n",
        "    print(\"The strings are anagrams.\")\n",
        "  else:\n",
        "    print(\"The strings are not anagrams.\")\n",
        "\n",
        "main()"
      ],
      "metadata": {
        "id": "zCwvYx9WWtWb",
        "colab": {
          "base_uri": "https://localhost:8080/"
        },
        "outputId": "4d9b09e5-1c72-4dbb-d039-f0ab606e197d"
      },
      "execution_count": 2,
      "outputs": [
        {
          "output_type": "stream",
          "name": "stdout",
          "text": [
            "The strings are anagrams.\n"
          ]
        }
      ]
    },
    {
      "cell_type": "markdown",
      "source": [
        "22. Implement a function to find the first non-repeating character in a string."
      ],
      "metadata": {
        "id": "muK6ySdzPK4h"
      }
    },
    {
      "cell_type": "code",
      "source": [
        "def first_non_repeating_character(str1):\n",
        "  char_counts = {}\n",
        "  for char in str1:\n",
        "    if char in char_counts:\n",
        "      char_counts[char] += 1\n",
        "    else:\n",
        "      char_counts[char] = 1\n",
        "\n",
        "  for i, char in enumerate(str1):\n",
        "    if char_counts[char] == 1:\n",
        "      return char\n",
        "\n",
        "  return None\n",
        "\n",
        "\n",
        "def main():\n",
        "  str1 = \"hello world\"\n",
        "\n",
        "  first_non_repeating_char = first_non_repeating_character(str1)\n",
        "  if first_non_repeating_char is not None:\n",
        "    print(\"The first non-repeating character is:\", first_non_repeating_char)\n",
        "  else:\n",
        "    print(\"There are no non-repeating characters in the string.\")\n",
        "\n",
        "\n",
        "\n",
        "main()\n"
      ],
      "metadata": {
        "id": "oTX53Ty-WuJ0",
        "colab": {
          "base_uri": "https://localhost:8080/"
        },
        "outputId": "3151872d-c990-42a4-bdee-ea073a03a8a6"
      },
      "execution_count": 3,
      "outputs": [
        {
          "output_type": "stream",
          "name": "stdout",
          "text": [
            "The first non-repeating character is: h\n"
          ]
        }
      ]
    },
    {
      "cell_type": "markdown",
      "source": [
        "23. Write a program to find the prime factors of a given number."
      ],
      "metadata": {
        "id": "4efaiWG4PK9e"
      }
    },
    {
      "cell_type": "code",
      "source": [
        "def prime_factors(number):\n",
        "  factors = []\n",
        "  for i in range(2, int(number ** 0.5) + 1):\n",
        "    while number % i == 0:\n",
        "      factors.append(i)\n",
        "      number //= i\n",
        "\n",
        "  if number > 1:\n",
        "    factors.append(number)\n",
        "\n",
        "  return factors\n",
        "\n",
        "\n",
        "def main():\n",
        "  number = 120\n",
        "  factors = prime_factors(number)\n",
        "  print(\"The prime factors of\", number, \"are:\", factors)\n",
        "\n",
        "\n",
        "\n",
        "main()\n"
      ],
      "metadata": {
        "id": "3IlMBobNWumd",
        "colab": {
          "base_uri": "https://localhost:8080/"
        },
        "outputId": "bfd01c22-f7fe-42ec-f6ab-5b5b02456a8c"
      },
      "execution_count": 4,
      "outputs": [
        {
          "output_type": "stream",
          "name": "stdout",
          "text": [
            "The prime factors of 120 are: [2, 2, 2, 3, 5]\n"
          ]
        }
      ]
    },
    {
      "cell_type": "markdown",
      "source": [
        "24. Implement a function to check if a given number is a power of two."
      ],
      "metadata": {
        "id": "GWLgwYW6WiP0"
      }
    },
    {
      "cell_type": "code",
      "source": [
        "def is_power_of_two(number):\n",
        "  if number <= 0:\n",
        "    return False\n",
        "\n",
        "  return number & (number - 1) == 0\n",
        "\n",
        "\n",
        "def main():\n",
        "  number = 16\n",
        "  print(number, \"is a power of two:\", is_power_of_two(number))\n",
        "\n",
        "\n",
        "\n",
        "main()\n"
      ],
      "metadata": {
        "id": "rzr2FgYhWvfd",
        "colab": {
          "base_uri": "https://localhost:8080/"
        },
        "outputId": "9e3c7c00-48de-42a6-8891-f14e9d2523a4"
      },
      "execution_count": 5,
      "outputs": [
        {
          "output_type": "stream",
          "name": "stdout",
          "text": [
            "16 is a power of two: True\n"
          ]
        }
      ]
    },
    {
      "cell_type": "markdown",
      "source": [
        "25. Write a Python program to merge two sorted lists into a single sorted list."
      ],
      "metadata": {
        "id": "YgdLOsx0Wh8F"
      }
    },
    {
      "cell_type": "code",
      "source": [
        "def merge_sorted_lists(list1, list2):\n",
        "  merged_list = []\n",
        "  i = 0\n",
        "  j = 0\n",
        "  while i < len(list1) and j < len(list2):\n",
        "    if list1[i] <= list2[j]:\n",
        "      merged_list.append(list1[i])\n",
        "      i += 1\n",
        "    else:\n",
        "      merged_list.append(list2[j])\n",
        "      j += 1\n",
        "\n",
        "  merged_list += list1[i:]\n",
        "  merged_list += list2[j:]\n",
        "\n",
        "  return merged_list\n",
        "\n",
        "\n",
        "def main():\n",
        "  list1 = [1, 3, 5, 7, 9]\n",
        "  list2 = [2, 4, 6, 8, 10]\n",
        "  merged_list = merge_sorted_lists(list1, list2)\n",
        "  print(merged_list)\n",
        "\n",
        "\n",
        "main()\n"
      ],
      "metadata": {
        "id": "J3otbyX8WwG3",
        "colab": {
          "base_uri": "https://localhost:8080/"
        },
        "outputId": "c417924c-1610-4c53-f0a3-592f44895275"
      },
      "execution_count": 6,
      "outputs": [
        {
          "output_type": "stream",
          "name": "stdout",
          "text": [
            "[1, 2, 3, 4, 5, 6, 7, 8, 9, 10]\n"
          ]
        }
      ]
    },
    {
      "cell_type": "markdown",
      "source": [
        "26. Implement a function to find the mode of a list of numbers."
      ],
      "metadata": {
        "id": "dEizPEwd1gz0"
      }
    },
    {
      "cell_type": "code",
      "source": [
        "def mode(list_of_numbers):\n",
        "  mode_count = 0\n",
        "  mode = list_of_numbers[0]\n",
        "  for number in list_of_numbers:\n",
        "    count = list_of_numbers.count(number)\n",
        "    if count > mode_count:\n",
        "      mode_count = count\n",
        "      mode = number\n",
        "\n",
        "  return mode\n",
        "\n",
        "\n",
        "def main():\n",
        "  list_of_numbers = [1, 2, 3, 3, 3, 4, 5, 5, 6]\n",
        "  mode_of_numbers = mode(list_of_numbers)\n",
        "  print(\"The mode of the list is:\", mode_of_numbers)\n",
        "\n",
        "\n",
        "\n",
        "main()\n"
      ],
      "metadata": {
        "colab": {
          "base_uri": "https://localhost:8080/"
        },
        "id": "_ZU781tt2PIN",
        "outputId": "aed8a176-bad5-42e6-efd5-e90e9721cf44"
      },
      "execution_count": 7,
      "outputs": [
        {
          "output_type": "stream",
          "name": "stdout",
          "text": [
            "The mode of the list is: 3\n"
          ]
        }
      ]
    },
    {
      "cell_type": "markdown",
      "source": [
        "27. Write a program to find the greatest common divisor (GCD) of two numbers."
      ],
      "metadata": {
        "id": "WYZP870r1gxc"
      }
    },
    {
      "cell_type": "code",
      "source": [
        "def gcd(x, y):\n",
        "  while y != 0:\n",
        "    x, y = y, x % y\n",
        "\n",
        "  return x\n",
        "\n",
        "\n",
        "def main():\n",
        "  x = 12\n",
        "  y = 18\n",
        "  gcd_of_numbers = gcd(x, y)\n",
        "  print(\"The greatest common divisor of\", x, \"and\", y, \"is:\", gcd_of_numbers)\n",
        "\n",
        "\n",
        "\n",
        "main()\n"
      ],
      "metadata": {
        "colab": {
          "base_uri": "https://localhost:8080/"
        },
        "id": "OzGuzq7s2PmK",
        "outputId": "5c260f43-903b-486f-b3db-39169cb31ead"
      },
      "execution_count": 8,
      "outputs": [
        {
          "output_type": "stream",
          "name": "stdout",
          "text": [
            "The greatest common divisor of 12 and 18 is: 6\n"
          ]
        }
      ]
    },
    {
      "cell_type": "markdown",
      "source": [
        "28. Implement a function to calculate the square root of a given number."
      ],
      "metadata": {
        "id": "0KVLVRf11gu-"
      }
    },
    {
      "cell_type": "code",
      "source": [
        "def square_root(number):\n",
        "  low = 0\n",
        "  high = number\n",
        "  mid = 0\n",
        "  while low <= high:\n",
        "    mid = (low + high) // 2\n",
        "    if mid * mid <= number < (mid + 1) * (mid + 1):\n",
        "      return mid\n",
        "    elif number < mid * mid:\n",
        "      high = mid - 1\n",
        "    else:\n",
        "      low = mid + 1\n",
        "\n",
        "  return mid\n",
        "\n",
        "\n",
        "def mn():\n",
        "  number = 16\n",
        "  square_root_of_number = square_root(number)\n",
        "  print(\"The square root of\", number, \"is:\", square_root_of_number)\n",
        "\n",
        "\n",
        "\n",
        "mn()\n"
      ],
      "metadata": {
        "colab": {
          "base_uri": "https://localhost:8080/"
        },
        "id": "wSTqRlVH2QE3",
        "outputId": "5227e9b8-0e7c-4f5e-9aba-0c671290eb09"
      },
      "execution_count": 9,
      "outputs": [
        {
          "output_type": "stream",
          "name": "stdout",
          "text": [
            "The square root of 16 is: 4\n"
          ]
        }
      ]
    },
    {
      "cell_type": "markdown",
      "source": [
        "29. Write a Python program to check if a given string is a valid palindrome ignoring non-alphanumeric characters."
      ],
      "metadata": {
        "id": "u-Uk2QUM1gsh"
      }
    },
    {
      "cell_type": "code",
      "source": [
        "import re\n",
        "\n",
        "def is_palindrome(string):\n",
        "  filtered_string = re.sub(r\"[^a-zA-Z0-9]\", \"\", string)\n",
        "  reversed_string = filtered_string[::-1]\n",
        "\n",
        "  return filtered_string == reversed_string\n",
        "\n",
        "\n",
        "def main():\n",
        "  string = \"A man, a plan, a canal: Panama\"\n",
        "  is_palindrome_string = is_palindrome(string)\n",
        "  print(\"The string '{}' is a palindrome: {}\".format(string, is_palindrome_string))\n",
        "\n",
        "\n",
        "\n",
        "main()\n"
      ],
      "metadata": {
        "colab": {
          "base_uri": "https://localhost:8080/"
        },
        "id": "iKR9zAjV2QV_",
        "outputId": "92f2d0be-354c-435f-aca2-9bfb7b7022eb"
      },
      "execution_count": 10,
      "outputs": [
        {
          "output_type": "stream",
          "name": "stdout",
          "text": [
            "The string 'A man, a plan, a canal: Panama' is a palindrome: False\n"
          ]
        }
      ]
    },
    {
      "cell_type": "markdown",
      "source": [
        "30. Implement a function to find the minimum element in a rotated sorted list."
      ],
      "metadata": {
        "id": "bBxP5Tsf1gqJ"
      }
    },
    {
      "cell_type": "code",
      "source": [
        "def find_minimum_element(list_of_numbers):\n",
        "  low = 0\n",
        "  high = len(list_of_numbers) - 1\n",
        "  while low < high:\n",
        "    mid = (low + high) // 2\n",
        "    if list_of_numbers[mid] > list_of_numbers[high]:\n",
        "      low = mid + 1\n",
        "    else:\n",
        "      high = mid\n",
        "\n",
        "  return list_of_numbers[low]\n",
        "\n",
        "\n",
        "def main():\n",
        "  list_of_numbers = [11, 13, 15, 1, 3, 5, 7, 9, 10]\n",
        "  minimum_element = find_minimum_element(list_of_numbers)\n",
        "  print(\"The minimum element in the list is:\", minimum_element)\n",
        "\n",
        "\n",
        "\n",
        "main()\n"
      ],
      "metadata": {
        "colab": {
          "base_uri": "https://localhost:8080/"
        },
        "id": "FeAhDHlp2Qtr",
        "outputId": "9b28b8bc-7bd9-47b7-c662-6b3c8da5a0ec"
      },
      "execution_count": 11,
      "outputs": [
        {
          "output_type": "stream",
          "name": "stdout",
          "text": [
            "The minimum element in the list is: 1\n"
          ]
        }
      ]
    },
    {
      "cell_type": "markdown",
      "source": [
        "31. Write a program to find the sum of all even numbers in a list."
      ],
      "metadata": {
        "id": "iFn4lMeM1gny"
      }
    },
    {
      "cell_type": "code",
      "source": [
        "def sum_of_even_numbers(numbers):\n",
        "    sum = 0\n",
        "    for num in numbers:\n",
        "        if num % 2 == 0:\n",
        "            sum += num\n",
        "    return sum\n",
        "\n",
        "\n",
        "list1 = [1, 2, 3, 4, 5, 6, 7, 8, 9, 10]\n",
        "print(sum_of_even_numbers(list1))\n",
        "\n",
        "list2 = [11, 12, 13, 14, 15, 16, 17, 18, 19, 20]\n",
        "print(sum_of_even_numbers(list2))\n"
      ],
      "metadata": {
        "colab": {
          "base_uri": "https://localhost:8080/"
        },
        "id": "kZ1ouJz42RMu",
        "outputId": "322e148d-6f09-4bd5-8ae0-04f8a0dd8316"
      },
      "execution_count": 14,
      "outputs": [
        {
          "output_type": "stream",
          "name": "stdout",
          "text": [
            "30\n",
            "80\n"
          ]
        }
      ]
    },
    {
      "cell_type": "markdown",
      "source": [
        "32. Implement a function to calculate the power of a number using recursion."
      ],
      "metadata": {
        "id": "HWKvUeXn1glJ"
      }
    },
    {
      "cell_type": "code",
      "source": [
        "def power(base, exponent):\n",
        "    if exponent == 0:\n",
        "        return 1\n",
        "    elif exponent > 0:\n",
        "        return base * power(base, exponent - 1)\n",
        "    else:\n",
        "        return 1 / power(base, -exponent)\n",
        "\n",
        "\n",
        "base = 2\n",
        "exponent = 3\n",
        "result = power(base, exponent)\n",
        "print(f\"{base} raised to the power of {exponent} is: {result}\")\n"
      ],
      "metadata": {
        "colab": {
          "base_uri": "https://localhost:8080/"
        },
        "id": "TpYKhNto2Rf8",
        "outputId": "311538f6-bbf9-497d-cd84-42c64b7df0b5"
      },
      "execution_count": 15,
      "outputs": [
        {
          "output_type": "stream",
          "name": "stdout",
          "text": [
            "2 raised to the power of 3 is: 8\n"
          ]
        }
      ]
    },
    {
      "cell_type": "markdown",
      "source": [
        "33. Write a Python program to remove duplicates from a list while preserving the order."
      ],
      "metadata": {
        "id": "siU7L6lV1giu"
      }
    },
    {
      "cell_type": "code",
      "source": [
        "def remove_duplicates(lst):\n",
        "    seen = set()\n",
        "    result = []\n",
        "    for item in lst:\n",
        "        if item not in seen:\n",
        "            seen.add(item)\n",
        "            result.append(item)\n",
        "    return result\n",
        "\n",
        "\n",
        "list1 = [1, 2, 3, 2, 4, 1, 5, 4]\n",
        "print(remove_duplicates(list1))\n",
        "\n",
        "list2 = [5, 4, 3, 2, 1]\n",
        "print(remove_duplicates(list2))\n",
        "\n"
      ],
      "metadata": {
        "colab": {
          "base_uri": "https://localhost:8080/"
        },
        "id": "r0UoF9Ke2SHl",
        "outputId": "239dbe07-2b0c-42f7-e23d-dad00736b695"
      },
      "execution_count": 16,
      "outputs": [
        {
          "output_type": "stream",
          "name": "stdout",
          "text": [
            "[1, 2, 3, 4, 5]\n",
            "[5, 4, 3, 2, 1]\n"
          ]
        }
      ]
    },
    {
      "cell_type": "markdown",
      "source": [
        "34. Implement a function to find the longest common prefix among a list of strings."
      ],
      "metadata": {
        "id": "I-77Ux2Y45oQ"
      }
    },
    {
      "cell_type": "code",
      "source": [
        "def longest_common_prefix(strings):\n",
        "    if not strings:\n",
        "        return \"\"\n",
        "\n",
        "    shortest_string = min(strings, key=len)\n",
        "\n",
        "    for i, char in enumerate(shortest_string):\n",
        "        for string in strings:\n",
        "            if string[i] != char:\n",
        "                return shortest_string[:i]\n",
        "\n",
        "    return shortest_string\n",
        "\n",
        "\n",
        "list = [\"flower\", \"flow\", \"flight\"]\n",
        "print(longest_common_prefix(list))\n",
        "\n",
        "\n"
      ],
      "metadata": {
        "colab": {
          "base_uri": "https://localhost:8080/"
        },
        "id": "SBev1UG12SjM",
        "outputId": "f296bcb5-8dfe-4983-e241-72cce7639eeb"
      },
      "execution_count": 17,
      "outputs": [
        {
          "output_type": "stream",
          "name": "stdout",
          "text": [
            "fl\n"
          ]
        }
      ]
    },
    {
      "cell_type": "markdown",
      "source": [
        "35. Write a program to check if a given number is a perfect square."
      ],
      "metadata": {
        "id": "oRGDCV4k1gds"
      }
    },
    {
      "cell_type": "code",
      "source": [
        "def is_perfect_square(num):\n",
        "    if num < 0:\n",
        "        return False\n",
        "    elif num == 0:\n",
        "        return True\n",
        "\n",
        "    left = 1\n",
        "    right = num\n",
        "\n",
        "    while left <= right:\n",
        "        mid = (left + right) // 2\n",
        "        square = mid * mid\n",
        "\n",
        "        if square == num:\n",
        "            return True\n",
        "        elif square < num:\n",
        "            left = mid + 1\n",
        "        else:\n",
        "            right = mid - 1\n",
        "\n",
        "    return False\n",
        "\n",
        "\n",
        "number1 = 16\n",
        "print(is_perfect_square(number1))\n",
        "\n",
        "number2 = 14\n",
        "print(is_perfect_square(number2))\n"
      ],
      "metadata": {
        "colab": {
          "base_uri": "https://localhost:8080/"
        },
        "id": "aPgJkXDS2TU1",
        "outputId": "e4f4866b-a3e8-4c04-854f-b37af97d8d3d"
      },
      "execution_count": 18,
      "outputs": [
        {
          "output_type": "stream",
          "name": "stdout",
          "text": [
            "True\n",
            "False\n"
          ]
        }
      ]
    },
    {
      "cell_type": "markdown",
      "source": [
        "36. Implement a function to calculate the product of all elements in a list."
      ],
      "metadata": {
        "id": "Jd_CFh8Q1gbi"
      }
    },
    {
      "cell_type": "code",
      "source": [
        "def calculate_product(numbers):\n",
        "    product = 1\n",
        "    for num in numbers:\n",
        "        product *= num\n",
        "    return product\n",
        "\n",
        "\n",
        "list1 = [1, 2, 3, 4, 5]\n",
        "print(calculate_product(list1))\n",
        "\n",
        "list2 = [2, 4, 6, 8, 10]\n",
        "print(calculate_product(list2))\n",
        "\n",
        "\n"
      ],
      "metadata": {
        "colab": {
          "base_uri": "https://localhost:8080/"
        },
        "id": "9lwwcAU52ToH",
        "outputId": "d2dc3863-5139-443d-bd9b-b440ebf7ea4a"
      },
      "execution_count": 19,
      "outputs": [
        {
          "output_type": "stream",
          "name": "stdout",
          "text": [
            "120\n",
            "3840\n"
          ]
        }
      ]
    },
    {
      "cell_type": "markdown",
      "source": [
        "37. Write a Python program to reverse the order of words in a sentence while preserving the word order."
      ],
      "metadata": {
        "id": "z62lQ8Jr1gZJ"
      }
    },
    {
      "cell_type": "code",
      "source": [
        "def reverse_sentence(sentence):\n",
        "    words = sentence.split()\n",
        "    reversed_words = words[::-1]\n",
        "    reversed_sentence = ' '.join(reversed_words)\n",
        "    return reversed_sentence\n",
        "\n",
        "\n",
        "\n",
        "sentence = \"The quick brown fox jumps over the lazy dog\"\n",
        "print(reverse_sentence(sentence))\n"
      ],
      "metadata": {
        "colab": {
          "base_uri": "https://localhost:8080/"
        },
        "id": "OfChk2gB2UM0",
        "outputId": "4187ae9c-2be4-4179-bcef-4a4513548424"
      },
      "execution_count": 20,
      "outputs": [
        {
          "output_type": "stream",
          "name": "stdout",
          "text": [
            "dog lazy the over jumps fox brown quick The\n"
          ]
        }
      ]
    },
    {
      "cell_type": "markdown",
      "source": [
        "38. Implement a function to find the missing number in a given list of consecutive numbers."
      ],
      "metadata": {
        "id": "-YcN5nDF1gWk"
      }
    },
    {
      "cell_type": "code",
      "source": [
        "def find_missing_number(numbers):\n",
        "    n = len(numbers) + 1\n",
        "    expected_sum = (n * (n + 1)) // 2\n",
        "    actual_sum = sum(numbers)\n",
        "    missing_number = expected_sum - actual_sum\n",
        "    return missing_number\n",
        "\n",
        "\n",
        "list1 = [1, 2, 3, 5, 6]\n",
        "print(find_missing_number(list1))\n",
        "\n",
        "list2 = [10, 11, 13, 14, 15]\n",
        "print(find_missing_number(list2))\n"
      ],
      "metadata": {
        "colab": {
          "base_uri": "https://localhost:8080/"
        },
        "id": "ONXCy-ms2UzE",
        "outputId": "15d419c3-505f-468a-e63d-39fc629c557a"
      },
      "execution_count": 21,
      "outputs": [
        {
          "output_type": "stream",
          "name": "stdout",
          "text": [
            "4\n",
            "-42\n"
          ]
        }
      ]
    },
    {
      "cell_type": "markdown",
      "source": [
        "39. Write a program to find the sum of digits of a given number."
      ],
      "metadata": {
        "id": "YUEV7mWz1gUI"
      }
    },
    {
      "cell_type": "code",
      "source": [
        "def sum_of_digits(number):\n",
        "\n",
        "    number_str = str(number)\n",
        "\n",
        "\n",
        "    digit_sum = 0\n",
        "\n",
        "\n",
        "    for digit in number_str:\n",
        "\n",
        "        digit_sum += int(digit)\n",
        "\n",
        "    return digit_sum\n",
        "\n",
        "\n",
        "num1 = 12345\n",
        "print(sum_of_digits(num1))\n"
      ],
      "metadata": {
        "colab": {
          "base_uri": "https://localhost:8080/"
        },
        "id": "fvkvKSdy2VI3",
        "outputId": "5a7d1b94-2910-4842-e0c2-307d6c16a13d"
      },
      "execution_count": 22,
      "outputs": [
        {
          "output_type": "stream",
          "name": "stdout",
          "text": [
            "15\n"
          ]
        }
      ]
    },
    {
      "cell_type": "markdown",
      "source": [
        "40. Implement a function to check if a given string is a valid palindrome considering case sensitivity."
      ],
      "metadata": {
        "id": "YKhsQoJp1gRT"
      }
    },
    {
      "cell_type": "code",
      "source": [
        "def is_valid_palindrome(s):\n",
        "    s = ''.join(e for e in s if e.isalnum())\n",
        "\n",
        "    return s == s[::-1]\n",
        "\n",
        "\n",
        "string1 = \"A man, a plan, a canal: Panama\"\n",
        "print(is_valid_palindrome(string1))\n"
      ],
      "metadata": {
        "colab": {
          "base_uri": "https://localhost:8080/"
        },
        "id": "_U5LOOiT2VfH",
        "outputId": "3012ca3a-9c14-4a71-deb7-37b4127894e1"
      },
      "execution_count": 23,
      "outputs": [
        {
          "output_type": "stream",
          "name": "stdout",
          "text": [
            "False\n"
          ]
        }
      ]
    },
    {
      "cell_type": "markdown",
      "source": [
        "41. Write a Python program to find the smallest missing positive integer in a list."
      ],
      "metadata": {
        "id": "fwE_bCUW1gOc"
      }
    },
    {
      "cell_type": "code",
      "source": [
        "def find_smallest_missing_positive(numbers):\n",
        "\n",
        "    positive_numbers = [num for num in numbers if num > 0]\n",
        "\n",
        "\n",
        "    if not positive_numbers:\n",
        "        return 1\n",
        "\n",
        "\n",
        "    n = len(positive_numbers)\n",
        "\n",
        "    for i in range(n):\n",
        "        num = abs(positive_numbers[i])\n",
        "        if num <= n:\n",
        "            positive_numbers[num - 1] = -abs(positive_numbers[num - 1])\n",
        "\n",
        "    for i in range(n):\n",
        "        if positive_numbers[i] > 0:\n",
        "            return i + 1\n",
        "\n",
        "    return n + 1\n",
        "\n",
        "\n",
        "list1 = [1, 2, 0]\n",
        "print(find_smallest_missing_positive(list1))\n",
        "\n",
        "\n"
      ],
      "metadata": {
        "colab": {
          "base_uri": "https://localhost:8080/"
        },
        "id": "H5Usi18u2V2m",
        "outputId": "ab877cd4-662d-46ac-94ad-dc028fce979c"
      },
      "execution_count": 24,
      "outputs": [
        {
          "output_type": "stream",
          "name": "stdout",
          "text": [
            "3\n"
          ]
        }
      ]
    },
    {
      "cell_type": "markdown",
      "source": [
        "42. Implement a function to find the longest palindrome substring in a given string."
      ],
      "metadata": {
        "id": "ekKfPhfR1gLS"
      }
    },
    {
      "cell_type": "code",
      "source": [
        "def longest_palindrome(s):\n",
        "    if not s:\n",
        "        return \"\"\n",
        "\n",
        "    start = 0\n",
        "    end = 0\n",
        "\n",
        "    for i in range(len(s)):\n",
        "        len1 = expand_around_center(s, i, i)\n",
        "        len2 = expand_around_center(s, i, i + 1)\n",
        "        max_len = max(len1, len2)\n",
        "\n",
        "        if max_len > end - start:\n",
        "            start = i - (max_len - 1) // 2\n",
        "            end = i + max_len // 2\n",
        "\n",
        "    return s[start:end + 1]\n",
        "\n",
        "def expand_around_center(s, left, right):\n",
        "    while left >= 0 and right < len(s) and s[left] == s[right]:\n",
        "        left -= 1\n",
        "        right += 1\n",
        "\n",
        "    return right - left - 1\n",
        "\n",
        "\n",
        "string1 = \"babad\"\n",
        "print(longest_palindrome(string1))\n",
        "\n",
        "string2 = \"cbbd\"\n",
        "print(longest_palindrome(string2))"
      ],
      "metadata": {
        "colab": {
          "base_uri": "https://localhost:8080/"
        },
        "id": "HR7imdOU2WY_",
        "outputId": "93a19fae-1050-4b14-bfba-feb069969d70"
      },
      "execution_count": 26,
      "outputs": [
        {
          "output_type": "stream",
          "name": "stdout",
          "text": [
            "aba\n",
            "bb\n"
          ]
        }
      ]
    },
    {
      "cell_type": "markdown",
      "source": [
        "43. Write a program to find the number of occurrences of a given element in a list."
      ],
      "metadata": {
        "id": "Cwc6l7D51gDu"
      }
    },
    {
      "cell_type": "code",
      "source": [
        "def count_occurrences(lst, element):\n",
        "    count = 0\n",
        "    for item in lst:\n",
        "        if item == element:\n",
        "            count += 1\n",
        "    return count\n",
        "\n",
        "\n",
        "list = [1, 2, 3, 4, 5, 2, 2, 6]\n",
        "element = 2\n",
        "print(count_occurrences(list, element))\n",
        "\n"
      ],
      "metadata": {
        "colab": {
          "base_uri": "https://localhost:8080/"
        },
        "id": "xDnbjmZO2WuH",
        "outputId": "ef3f9c44-7434-4894-aa83-2634fe2f4784"
      },
      "execution_count": 27,
      "outputs": [
        {
          "output_type": "stream",
          "name": "stdout",
          "text": [
            "3\n"
          ]
        }
      ]
    },
    {
      "cell_type": "markdown",
      "source": [
        "44. Implement a function to check if a given number is a perfect number."
      ],
      "metadata": {
        "id": "MU_F_mfa2G1b"
      }
    },
    {
      "cell_type": "code",
      "source": [
        "def is_perfect_number(number):\n",
        "    if number <= 0:\n",
        "        return False\n",
        "\n",
        "    divisor_sum = 0\n",
        "\n",
        "    for i in range(1, number):\n",
        "        if number % i == 0:\n",
        "            divisor_sum += i\n",
        "\n",
        "    return divisor_sum == number\n",
        "\n",
        "\n",
        "num1 = 6\n",
        "print(is_perfect_number(num1))\n",
        "\n",
        "num2 = 12\n",
        "print(is_perfect_number(num2))\n",
        "\n"
      ],
      "metadata": {
        "colab": {
          "base_uri": "https://localhost:8080/"
        },
        "id": "sABUoZKU2XBA",
        "outputId": "50cc9b80-96a7-4eb0-b678-60eb17d1c99e"
      },
      "execution_count": 28,
      "outputs": [
        {
          "output_type": "stream",
          "name": "stdout",
          "text": [
            "True\n",
            "False\n"
          ]
        }
      ]
    },
    {
      "cell_type": "markdown",
      "source": [
        "45. Write a Python program to remove all duplicates from a string."
      ],
      "metadata": {
        "id": "56N_jPZp2GsX"
      }
    },
    {
      "cell_type": "code",
      "source": [
        "def remove_duplicates(string):\n",
        "    result = ''\n",
        "    seen = set()\n",
        "\n",
        "    for char in string:\n",
        "        if char not in seen:\n",
        "            result += char\n",
        "            seen.add(char)\n",
        "\n",
        "    return result\n",
        "\n",
        "str1 = \"abracadabra\"\n",
        "print(remove_duplicates(str1))\n",
        "\n",
        "str2 = \"Mississippi\"\n",
        "print(remove_duplicates(str2))"
      ],
      "metadata": {
        "colab": {
          "base_uri": "https://localhost:8080/"
        },
        "id": "J3qh_IgL2XYE",
        "outputId": "80905e61-4748-4124-cb99-374a087abc40"
      },
      "execution_count": 29,
      "outputs": [
        {
          "output_type": "stream",
          "name": "stdout",
          "text": [
            "abrcd\n",
            "Misp\n"
          ]
        }
      ]
    },
    {
      "cell_type": "markdown",
      "source": [
        "46. Implement a function to find the first missing positive"
      ],
      "metadata": {
        "id": "hcQzFZZn2LSn"
      }
    },
    {
      "cell_type": "code",
      "source": [
        "def find_first_missing_positive(nums):\n",
        "    n = len(nums)\n",
        "    for i in range(n):\n",
        "        while 1 <= nums[i] <= n and nums[i] != nums[nums[i] - 1]:\n",
        "            nums[nums[i] - 1], nums[i] = nums[i], nums[nums[i] - 1]\n",
        "\n",
        "    for i in range(n):\n",
        "        if nums[i] != i + 1:\n",
        "            return i + 1\n",
        "\n",
        "    return n + 1\n",
        "\n",
        "list = [7, 8, 9, 11, 12]\n",
        "print(find_first_missing_positive(list))\n"
      ],
      "metadata": {
        "colab": {
          "base_uri": "https://localhost:8080/"
        },
        "id": "K88F--wo1eHh",
        "outputId": "1634347c-0b2d-44a7-991d-7f6a2f6c1898"
      },
      "execution_count": 30,
      "outputs": [
        {
          "output_type": "stream",
          "name": "stdout",
          "text": [
            "1\n"
          ]
        }
      ]
    }
  ]
}