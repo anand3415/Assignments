{
  "nbformat": 4,
  "nbformat_minor": 0,
  "metadata": {
    "colab": {
      "provenance": []
    },
    "kernelspec": {
      "name": "python3",
      "display_name": "Python 3"
    },
    "language_info": {
      "name": "python"
    }
  },
  "cells": [
    {
      "cell_type": "markdown",
      "source": [
        "\n",
        "1. Scenario: A company wants to analyze the sales performance of its products in different regions. They have collected the following data:\n",
        "   Region A: [10, 15, 12, 8, 14]\n",
        "   Region B: [18, 20, 16, 22, 25]\n",
        "   Calculate the mean sales for each region.\n"
      ],
      "metadata": {
        "id": "nWWeqgSnKSeT"
      }
    },
    {
      "cell_type": "code",
      "source": [
        "A = [10, 15, 12, 8, 14]\n",
        "B = [18, 20, 16, 22, 25]\n",
        "\n",
        "# Mean Sales for each region:\n",
        "import numpy as np\n",
        "print(np.mean(A))   # Mean of A = (10+15+12+8+14)/5 = 59/5 = 11.8\n",
        "\n",
        "print(np.mean(B))  # Mean of B = (18+20+16+22+25)/5 = 20.2"
      ],
      "metadata": {
        "colab": {
          "base_uri": "https://localhost:8080/"
        },
        "id": "o5K_c3-MKtHJ",
        "outputId": "9a760f24-269d-478a-b287-61d30c9574d3"
      },
      "execution_count": 54,
      "outputs": [
        {
          "output_type": "stream",
          "name": "stdout",
          "text": [
            "11.8\n",
            "20.2\n"
          ]
        }
      ]
    },
    {
      "cell_type": "markdown",
      "source": [
        "2. Scenario: A survey is conducted to measure customer satisfaction on a scale of 1 to 5. The data collected is as follows:\n",
        "   [4, 5, 2, 3, 5, 4, 3, 2, 4, 5]\n",
        "   Calculate the mode of the survey responses.\n"
      ],
      "metadata": {
        "id": "ru_AWLCfKSp2"
      }
    },
    {
      "cell_type": "code",
      "source": [
        "data = [4, 5, 2, 3, 5, 4, 3, 2, 4, 5]\n",
        "\n",
        "# Mode of survey responses.\n",
        "import statistics as st\n",
        "st.mode(data)"
      ],
      "metadata": {
        "colab": {
          "base_uri": "https://localhost:8080/"
        },
        "id": "9RMIqsmUL4l2",
        "outputId": "283374e3-f2af-48bc-8050-98d3b3b489ae"
      },
      "execution_count": 55,
      "outputs": [
        {
          "output_type": "execute_result",
          "data": {
            "text/plain": [
              "4"
            ]
          },
          "metadata": {},
          "execution_count": 55
        }
      ]
    },
    {
      "cell_type": "markdown",
      "source": [
        "3. Scenario: A company wants to compare the salaries of two departments. The salary data for Department A and Department B are as follows:\n",
        "   Department A: [5000, 6000, 5500, 7000]\n",
        "   Department B: [4500, 5500, 5800, 6000, 5200]\n",
        "   Calculate the median salary for each department.\n"
      ],
      "metadata": {
        "id": "mF_F6gHkKSwu"
      }
    },
    {
      "cell_type": "code",
      "source": [
        "A = [5000, 6000, 5500, 7000]\n",
        "B = [4500, 5500, 5800, 6000, 5200]\n",
        "# Median salary for each department\n",
        "\n",
        "print(np.median(A))\n",
        "print(np.median(B))"
      ],
      "metadata": {
        "colab": {
          "base_uri": "https://localhost:8080/"
        },
        "id": "NPgyROptMlEa",
        "outputId": "64a3972f-460d-402d-9505-630770a97678"
      },
      "execution_count": 56,
      "outputs": [
        {
          "output_type": "stream",
          "name": "stdout",
          "text": [
            "5750.0\n",
            "5500.0\n"
          ]
        }
      ]
    },
    {
      "cell_type": "markdown",
      "source": [
        "\n",
        "4. Scenario: A data analyst wants to determine the variability in the daily stock prices of a company. The data collected is as follows:\n",
        "   [25.5, 24.8, 26.1, 25.3, 24.9]\n",
        "   Calculate the range of the stock prices.\n"
      ],
      "metadata": {
        "id": "pMnY6K0IKS2R"
      }
    },
    {
      "cell_type": "code",
      "source": [
        "data =  [25.5, 24.8, 26.1, 25.3, 24.9]\n",
        "\n",
        "max = np.percentile(data,[100])\n",
        "min = np.percentile(data,[0])\n",
        "\n",
        "range = max - min\n",
        "print(range)"
      ],
      "metadata": {
        "colab": {
          "base_uri": "https://localhost:8080/"
        },
        "id": "gv0f4YhXNY3l",
        "outputId": "aa38300c-00f0-40b4-da62-d8d0bb71036e"
      },
      "execution_count": 57,
      "outputs": [
        {
          "output_type": "stream",
          "name": "stdout",
          "text": [
            "[1.3]\n"
          ]
        }
      ]
    },
    {
      "cell_type": "markdown",
      "source": [
        "5. Scenario: A study is conducted to compare the performance of two different teaching methods. The test scores of the students in each group are as follows:\n",
        "   Group A: [85, 90, 92, 88, 91]\n",
        "   Group B: [82, 88, 90, 86, 87]\n",
        "   Perform a t-test to determine if there is a significant difference in the mean scores between the two groups.\n"
      ],
      "metadata": {
        "id": "YwAsrFumKS6_"
      }
    },
    {
      "cell_type": "code",
      "source": [
        "A = [85, 90, 92, 88, 91]\n",
        "B = [82, 88, 90, 86, 87]\n",
        "\n",
        "first_group_mean = np.mean(A)\n",
        "second_group_mean = np.mean(B)\n",
        "\n",
        "print(first_group_mean)\n",
        "print(second_group_mean)"
      ],
      "metadata": {
        "colab": {
          "base_uri": "https://localhost:8080/"
        },
        "id": "8eGDwOUsPHDr",
        "outputId": "aadac602-7a63-4fb2-890e-e78620debad0"
      },
      "execution_count": 58,
      "outputs": [
        {
          "output_type": "stream",
          "name": "stdout",
          "text": [
            "89.2\n",
            "86.6\n"
          ]
        }
      ]
    },
    {
      "cell_type": "code",
      "source": [
        "import scipy\n",
        "scipy.stats.ttest_ind(A,B)\n",
        "\n",
        "print(\"T-Statistic:\", t_statistic)\n",
        "print(\"P-Value:\", p_value)"
      ],
      "metadata": {
        "colab": {
          "base_uri": "https://localhost:8080/"
        },
        "id": "OBVhq0qkSFE0",
        "outputId": "d555c63b-4db5-4135-d7bf-9dfbed9e0e3d"
      },
      "execution_count": 59,
      "outputs": [
        {
          "output_type": "stream",
          "name": "stdout",
          "text": [
            "T-Statistic: 1.5126584522688367\n",
            "P-Value: 0.007840333026249539\n"
          ]
        }
      ]
    },
    {
      "cell_type": "markdown",
      "source": [
        "6. Scenario: A company wants to analyze the relationship between advertising expenditure and sales. The data collected is as follows:\n",
        "   Advertising Expenditure (in thousands): [10, 15, 12, 8, 14]\n",
        "   Sales (in thousands): [25, 30, 28, 20, 26]\n",
        "   Calculate the correlation coefficient between advertising expenditure and sales.\n"
      ],
      "metadata": {
        "id": "FpDTBPprKS_Y"
      }
    },
    {
      "cell_type": "code",
      "source": [
        "adv_exp = [10, 15, 12, 8, 14]\n",
        "sales = [25, 30, 28, 20, 26]\n",
        "\n",
        "correlation_coefficient = np.corrcoef(adv_exp,sales)[0,1]\n",
        "\n",
        "print(\"Correlation Coefficient:\", correlation_coefficient)"
      ],
      "metadata": {
        "colab": {
          "base_uri": "https://localhost:8080/"
        },
        "id": "FITm5gRXVVOo",
        "outputId": "de061e8f-2ef5-4764-fe89-0a450ab92f71"
      },
      "execution_count": 60,
      "outputs": [
        {
          "output_type": "stream",
          "name": "stdout",
          "text": [
            "Correlation Coefficient: 0.8757511375750132\n"
          ]
        }
      ]
    },
    {
      "cell_type": "markdown",
      "source": [
        "7. Scenario: A survey is conducted to measure the heights of a group of people. The data collected is as follows:\n",
        "   [160, 170, 165, 155, 175, 180, 170]\n",
        "   Calculate the standard deviation of the heights.\n"
      ],
      "metadata": {
        "id": "7F50k8vsKTCh"
      }
    },
    {
      "cell_type": "code",
      "source": [
        "data = [160, 170, 165, 155, 175, 180, 170]\n",
        "\n",
        "# Standard deviation of the heights\n",
        "print(np.std(data))"
      ],
      "metadata": {
        "colab": {
          "base_uri": "https://localhost:8080/"
        },
        "id": "4OlMrljRVVkH",
        "outputId": "e94a1df5-65b7-445f-8dc2-a75589075dfd"
      },
      "execution_count": 61,
      "outputs": [
        {
          "output_type": "stream",
          "name": "stdout",
          "text": [
            "7.953949089757174\n"
          ]
        }
      ]
    },
    {
      "cell_type": "markdown",
      "source": [
        "8. Scenario: A company wants to analyze the relationship between employee tenure and job satisfaction. The data collected is as follows:\n",
        "   Employee Tenure (in years): [2, 3, 5, 4, 6, 2, 4]\n",
        "   Job Satisfaction (on a scale of 1 to 10): [7, 8, 6, 9, 5, 7, 6]\n",
        "   Perform a linear regression analysis to predict job satisfaction based on employee tenure.\n"
      ],
      "metadata": {
        "id": "hqJeGg0-KTFz"
      }
    },
    {
      "cell_type": "code",
      "source": [
        "emp_tenure = [2, 3, 5, 4, 6, 2, 4]\n",
        "job_sat = [7, 8, 6, 9, 5, 7, 6]\n",
        "\n",
        "from scipy.stats import linregress\n",
        "slope, intercept, r_value, p_value, std_err = linregress(emp_tenure, job_sat)\n",
        "\n",
        "print(\"Slope:\", slope)\n",
        "print(\"Intercept:\", intercept)\n",
        "print(\"R-value (Correlation coefficient):\", r_value)\n",
        "print(\"P-value:\", p_value)\n",
        "print(\"Standard error:\", std_err)"
      ],
      "metadata": {
        "colab": {
          "base_uri": "https://localhost:8080/"
        },
        "id": "OJi6qbKQVWB0",
        "outputId": "a732a4fb-0c53-4457-9e5a-b7db1bbea0cf"
      },
      "execution_count": 62,
      "outputs": [
        {
          "output_type": "stream",
          "name": "stdout",
          "text": [
            "Slope: -0.4680851063829787\n",
            "Intercept: 8.595744680851062\n",
            "R-value (Correlation coefficient): -0.520573376708331\n",
            "P-value: 0.23095550952297988\n",
            "Standard error: 0.34333860006713723\n"
          ]
        }
      ]
    },
    {
      "cell_type": "markdown",
      "source": [
        "9. Scenario: A study is conducted to compare the effectiveness of two different medications. The recovery times of the patients in each group are as follows:\n",
        "   Medication A: [10, 12, 14, 11, 13]\n",
        "   Medication B: [15, 17, 16, 14, 18]\n",
        "   Perform an analysis of variance (ANOVA) to determine if there is a significant difference in the mean recovery times between the two medications.\n"
      ],
      "metadata": {
        "id": "-ZvLZEiYKTIi"
      }
    },
    {
      "cell_type": "code",
      "source": [
        "med_A = [10, 12, 14, 11, 13]\n",
        "med_B = [15, 17, 16, 14, 18]\n",
        "\n",
        "f_value, p_value = stats.f_oneway(med_A, med_B)\n",
        "\n",
        "print(\"F-value:\", f_value)\n",
        "print(\"P-value:\", p_value)"
      ],
      "metadata": {
        "colab": {
          "base_uri": "https://localhost:8080/"
        },
        "id": "dyraHfTDVWgc",
        "outputId": "60444c29-d959-4ce4-b297-ba05fa6dc616"
      },
      "execution_count": 63,
      "outputs": [
        {
          "output_type": "stream",
          "name": "stdout",
          "text": [
            "F-value: 16.0\n",
            "P-value: 0.003949772803445326\n"
          ]
        }
      ]
    },
    {
      "cell_type": "markdown",
      "source": [
        "10. Scenario: A company wants to analyze customer feedback ratings on a scale of 1 to 10. The data collected is\n",
        "\n",
        " as follows:\n",
        "    [8, 9, 7, 6, 8, 10, 9, 8, 7, 8]\n",
        "    Calculate the 75th percentile of the feedback ratings.\n"
      ],
      "metadata": {
        "id": "ZFY3llivKTLH"
      }
    },
    {
      "cell_type": "code",
      "source": [
        "data = [8, 9, 7, 6, 8, 10, 9, 8, 7, 8]\n",
        "\n",
        "percentile = np.percentile(data,[75])\n",
        "\n",
        "print(percentile)"
      ],
      "metadata": {
        "colab": {
          "base_uri": "https://localhost:8080/"
        },
        "id": "OeZvPz3PVWzK",
        "outputId": "a91a7866-5af7-4388-dadd-a818b0b536d3"
      },
      "execution_count": 64,
      "outputs": [
        {
          "output_type": "stream",
          "name": "stdout",
          "text": [
            "[8.75]\n"
          ]
        }
      ]
    },
    {
      "cell_type": "markdown",
      "source": [
        "11. Scenario: A quality control department wants to test the weight consistency of a product. The weights of a sample of products are as follows:\n",
        "    [10.2, 9.8, 10.0, 10.5, 10.3, 10.1]\n",
        "    Perform a hypothesis test to determine if the mean weight differs significantly from 10 grams.\n"
      ],
      "metadata": {
        "id": "etiBe2CKKTNx"
      }
    },
    {
      "cell_type": "code",
      "source": [
        "data = [10.2, 9.8, 10.0, 10.5, 10.3, 10.1]\n",
        "\n",
        "t_statistic, p_value = stats.ttest_1samp(data, 10)\n",
        "\n",
        "\n",
        "print(\"T-Statistic:\", t_statistic)\n",
        "print(\"P-Value:\", p_value)"
      ],
      "metadata": {
        "colab": {
          "base_uri": "https://localhost:8080/"
        },
        "id": "RzlTL8uPVXPd",
        "outputId": "731cc411-f5bc-4b0a-f86d-986c91ead063"
      },
      "execution_count": 65,
      "outputs": [
        {
          "output_type": "stream",
          "name": "stdout",
          "text": [
            "T-Statistic: 1.5126584522688367\n",
            "P-Value: 0.19077595151110102\n"
          ]
        }
      ]
    },
    {
      "cell_type": "markdown",
      "source": [
        "12. Scenario: A company wants to analyze the click-through rates of two different website designs. The number of clicks for each design is as follows:\n",
        "    Design A: [100, 120, 110, 90, 95]\n",
        "    Design B: [80, 85, 90, 95, 100]\n",
        "    Perform a chi-square test to determine if there is a significant difference in the click-through rates between the two designs.\n"
      ],
      "metadata": {
        "id": "c1_RflamKTQs"
      }
    },
    {
      "cell_type": "code",
      "source": [
        "A = [100, 120, 110, 90, 95]\n",
        "B = [80, 85, 90, 95, 100]\n",
        "\n",
        "data = np.array([A,B])\n",
        "\n",
        "stats_test,p,dof,Expected_Values=stats.chi2_contingency(data)\n",
        "\n",
        "\n",
        "print(\"Chi-square statistic:\", stats_test)\n",
        "print(\"P-value:\", p)"
      ],
      "metadata": {
        "colab": {
          "base_uri": "https://localhost:8080/"
        },
        "id": "ul1vWUt7awxK",
        "outputId": "cbee5dd2-1fd9-4d10-91de-44ecf1c837d6"
      },
      "execution_count": 66,
      "outputs": [
        {
          "output_type": "stream",
          "name": "stdout",
          "text": [
            "Chi-square statistic: 6.110658166925435\n",
            "P-value: 0.19103526314060293\n"
          ]
        }
      ]
    },
    {
      "cell_type": "markdown",
      "source": [
        "13. Scenario: A survey is conducted to measure customer satisfaction with a product on a scale of 1 to 10. The data collected is as follows:\n",
        "    [7, 9, 6, 8, 10, 7, 8, 9, 7, 8]\n",
        "    Calculate the 95% confidence interval for the population mean satisfaction score.\n"
      ],
      "metadata": {
        "id": "fEfZep-rKTTd"
      }
    },
    {
      "cell_type": "code",
      "source": [
        "data = [7, 9, 6, 8, 10, 7, 8, 9, 7, 8]\n",
        "\n",
        "sample_mean = np.mean(data)\n",
        "\n",
        "std_dev = np.std(data, ddof=1)\n",
        "\n",
        "n = len(data)\n",
        "\n",
        "critical_value = stats.t.ppf(0.95, df = n-1)\n",
        "\n",
        "confidence_interval = (sample_mean - critical_value * std_dev / np.sqrt(n),\n",
        "                       sample_mean + critical_value * std_dev / np.sqrt(n))\n",
        "\n",
        "\n",
        "print(\"Sample Mean:\", sample_mean)\n",
        "print(\"Standard Deviation:\", std_dev)\n",
        "print(\"Sample Size:\", n)\n",
        "print(\"Confidence Interval (95%):\", confidence_interval)"
      ],
      "metadata": {
        "colab": {
          "base_uri": "https://localhost:8080/"
        },
        "id": "lNCMSnJmcwx0",
        "outputId": "fafaa268-d06b-4873-aa4f-3ae7ee7a9374"
      },
      "execution_count": 67,
      "outputs": [
        {
          "output_type": "stream",
          "name": "stdout",
          "text": [
            "Sample Mean: 7.9\n",
            "Standard Deviation: 1.1972189997378646\n",
            "Sample Size: 10\n",
            "Confidence Interval (95%): (7.205994644530591, 8.59400535546941)\n"
          ]
        }
      ]
    },
    {
      "cell_type": "markdown",
      "source": [
        "14. Scenario: A company wants to analyze the effect of temperature on product performance. The data collected is as follows:\n",
        "    Temperature (in degrees Celsius): [20, 22, 23, 19, 21]\n",
        "    Performance (on a scale of 1 to 10): [8, 7, 9, 6, 8]\n",
        "    Perform a simple linear regression to predict performance based on temperature.\n"
      ],
      "metadata": {
        "id": "wfjIpOiqKTWr"
      }
    },
    {
      "cell_type": "code",
      "source": [
        "temp = [20, 22, 23, 19, 21]\n",
        "performance =  [8, 7, 9, 6, 8]\n",
        "\n",
        "from scipy.stats import linregress\n",
        "slope, intercept, r_value, p_value, std_err = linregress(temp, performance)\n",
        "\n",
        "print(\"Slope:\", slope)\n",
        "print(\"Intercept:\", intercept)\n",
        "print(\"R-value (Correlation coefficient):\", r_value)\n",
        "print(\"P-value:\", p_value)\n",
        "print(\"Standard error:\", std_err)"
      ],
      "metadata": {
        "colab": {
          "base_uri": "https://localhost:8080/"
        },
        "id": "ZosysWrVh_KQ",
        "outputId": "bab34f78-01e5-4696-ab06-6af15e7db38e"
      },
      "execution_count": 68,
      "outputs": [
        {
          "output_type": "stream",
          "name": "stdout",
          "text": [
            "Slope: 0.5\n",
            "Intercept: -2.9000000000000004\n",
            "R-value (Correlation coefficient): 0.6933752452815364\n",
            "P-value: 0.19417134561205843\n",
            "Standard error: 0.30000000000000004\n"
          ]
        }
      ]
    },
    {
      "cell_type": "markdown",
      "source": [
        "15. Scenario: A study is conducted to compare the preferences of two groups of participants. The preferences are measured on a Likert scale from 1 to 5. The data collected is as follows:\n",
        "    Group A: [4, 3, 5, 2, 4]\n",
        "    Group B: [3, 2, 4, 3, 3]\n",
        "    Perform a Mann-Whitney U test to determine if there is a significant difference in the median preferences between the two groups.\n"
      ],
      "metadata": {
        "id": "KgWREBTaKTZd"
      }
    },
    {
      "cell_type": "code",
      "source": [
        "A = [4, 3, 5, 2, 4]\n",
        "B = [3, 2, 4, 3, 3]\n",
        "\n",
        "u_statistic, p_value = stats.mannwhitneyu(A,B)\n",
        "\n",
        "print(\"U-statistic:\", u_statistic)\n",
        "print(\"P-value:\", p_value)"
      ],
      "metadata": {
        "colab": {
          "base_uri": "https://localhost:8080/"
        },
        "id": "qQC5dOxvifls",
        "outputId": "b59baaf2-bd87-4c6b-ef1d-ce8d4e609157"
      },
      "execution_count": 69,
      "outputs": [
        {
          "output_type": "stream",
          "name": "stdout",
          "text": [
            "U-statistic: 17.0\n",
            "P-value: 0.380836480306712\n"
          ]
        }
      ]
    },
    {
      "cell_type": "markdown",
      "source": [
        "16. Scenario: A company wants to analyze the distribution of customer ages. The data collected is as follows:\n",
        "    [25, 30, 35, 40, 45, 50, 55, 60, 65, 70]\n",
        "    Calculate the interquartile range (IQR) of the ages.\n"
      ],
      "metadata": {
        "id": "_xFrhqbcKTcH"
      }
    },
    {
      "cell_type": "code",
      "source": [
        "data = [25, 30, 35, 40, 45, 50, 55, 60, 65, 70]\n",
        "\n",
        "q1 = np.percentile(data,25)\n",
        "q3 = np.percentile(data,75)\n",
        "\n",
        "iqr = q3 - q1\n",
        "\n",
        "\n",
        "print(\"Interquartile range (IQR): \",iqr)"
      ],
      "metadata": {
        "colab": {
          "base_uri": "https://localhost:8080/"
        },
        "id": "SUXUbzpqi7iJ",
        "outputId": "8274353f-bc53-4fe5-d6c6-6455087eddf3"
      },
      "execution_count": 70,
      "outputs": [
        {
          "output_type": "stream",
          "name": "stdout",
          "text": [
            "Interquartile range (IQR):  22.5\n"
          ]
        }
      ]
    },
    {
      "cell_type": "markdown",
      "source": [
        "\n",
        "17. Scenario: A study is conducted to compare the performance of three different machine learning algorithms. The accuracy scores for each algorithm are as follows:\n",
        "    Algorithm A: [0.85, 0.80, 0.82, 0.87, 0.83]\n",
        "    Algorithm B: [0.78, 0.82, 0.84, 0.80, 0.79]\n",
        "    Algorithm C: [0.90, 0.88, 0.89, 0.86, 0.87]\n",
        "    Perform a Kruskal-Wallis test to determine if there is a significant difference in the median accuracy scores between the algorithms.\n"
      ],
      "metadata": {
        "id": "wwQT1MJ2KTe4"
      }
    },
    {
      "cell_type": "code",
      "source": [
        "A = [0.85, 0.80, 0.82, 0.87, 0.83]\n",
        "B = [0.78, 0.82, 0.84, 0.80, 0.79]\n",
        "C = [0.90, 0.88, 0.89, 0.86, 0.87]\n",
        "\n",
        "h_statistic, p_value = stats.kruskal(A,B,C)\n",
        "\n",
        "print(\"H-statistic:\", h_statistic)\n",
        "print(\"P-value:\", p_value)"
      ],
      "metadata": {
        "colab": {
          "base_uri": "https://localhost:8080/"
        },
        "id": "o5wbh8fLkcvl",
        "outputId": "9dcf1d3e-0ff1-4df0-842d-f6dcaaaeb4cd"
      },
      "execution_count": 71,
      "outputs": [
        {
          "output_type": "stream",
          "name": "stdout",
          "text": [
            "H-statistic: 9.696947935368053\n",
            "P-value: 0.007840333026249539\n"
          ]
        }
      ]
    },
    {
      "cell_type": "markdown",
      "source": [
        "18. Scenario: A company wants to analyze the effect of price on sales. The data collected is as follows:\n",
        "    Price (in dollars): [10, 15, 12, 8, 14]\n",
        "    Sales: [100, 80, 90, 110, 95]\n",
        "    Perform a simple linear regression to predict\n",
        "\n",
        " sales based on price.\n"
      ],
      "metadata": {
        "id": "L5IO8dCeKThv"
      }
    },
    {
      "cell_type": "code",
      "source": [
        "price = [10, 15, 12, 8, 14]\n",
        "sales = [100, 80, 90, 110, 95]\n",
        "\n",
        "slope, intercept, r_value, p_value, std_err = linregress(price, sales)\n",
        "\n",
        "print(\"Slope:\", slope)\n",
        "print(\"Intercept:\", intercept)\n",
        "print(\"R-value (Correlation coefficient):\", r_value)\n",
        "print(\"P-value:\", p_value)\n",
        "print(\"Standard error:\", std_err)"
      ],
      "metadata": {
        "colab": {
          "base_uri": "https://localhost:8080/"
        },
        "id": "BSUVW60GlWtv",
        "outputId": "958075a4-e168-417a-e4d2-08ad764baa40"
      },
      "execution_count": 73,
      "outputs": [
        {
          "output_type": "stream",
          "name": "stdout",
          "text": [
            "Slope: -3.506097560975609\n",
            "Intercept: 136.3719512195122\n",
            "R-value (Correlation coefficient): -0.8979991308594848\n",
            "P-value: 0.03850178234753776\n",
            "Standard error: 0.9918303504036147\n"
          ]
        }
      ]
    },
    {
      "cell_type": "markdown",
      "source": [
        "19. Scenario: A survey is conducted to measure the satisfaction levels of customers with a new product. The data collected is as follows:\n",
        "    [7, 8, 9, 6, 8, 7, 9, 7, 8, 7]\n",
        "    Calculate the standard error of the mean satisfaction score.\n"
      ],
      "metadata": {
        "id": "-OVlTEn0KTk9"
      }
    },
    {
      "cell_type": "code",
      "source": [
        "data = [7, 8, 9, 6, 8, 7, 9, 7, 8, 7]\n",
        "\n",
        "std_dev = np.std(data, ddof=1)\n",
        "\n",
        "n = len(data)\n",
        "\n",
        "standard_error = std_dev / np.sqrt(n)\n",
        "\n",
        "print(\"Standard Error of the Mean:\", standard_error)"
      ],
      "metadata": {
        "colab": {
          "base_uri": "https://localhost:8080/"
        },
        "id": "22tLy0p1lvzn",
        "outputId": "dc9b90de-0215-4281-eec6-c4ea43e91e13"
      },
      "execution_count": 74,
      "outputs": [
        {
          "output_type": "stream",
          "name": "stdout",
          "text": [
            "Standard Error of the Mean: 0.30550504633038933\n"
          ]
        }
      ]
    },
    {
      "cell_type": "markdown",
      "source": [
        "20. Scenario: A company wants to analyze the relationship between advertising expenditure and sales. The data collected is as follows:\n",
        "    Advertising Expenditure (in thousands): [10, 15, 12, 8, 14]\n",
        "    Sales (in thousands): [25, 30, 28, 20, 26]\n",
        "    Perform a multiple regression analysis to predict sales based on advertising expenditure.\n"
      ],
      "metadata": {
        "id": "QuUkStSuKTne"
      }
    },
    {
      "cell_type": "code",
      "source": [
        "exp = np.array([10, 15, 12, 8, 14])\n",
        "sales = np.array([25, 30, 28, 20, 26])\n",
        "\n",
        "import statsmodels.api as sm\n",
        "\n",
        "exp = sm.add_constant(exp)\n",
        "\n",
        "model = sm.OLS(sales, exp)\n",
        "results = model.fit()\n",
        "print(results.summary())\n"
      ],
      "metadata": {
        "colab": {
          "base_uri": "https://localhost:8080/"
        },
        "id": "ewqSSPI6mY9a",
        "outputId": "c20a19bc-5c51-4d28-d890-d77ad9fc8a03"
      },
      "execution_count": 76,
      "outputs": [
        {
          "output_type": "stream",
          "name": "stdout",
          "text": [
            "                            OLS Regression Results                            \n",
            "==============================================================================\n",
            "Dep. Variable:                      y   R-squared:                       0.767\n",
            "Model:                            OLS   Adj. R-squared:                  0.689\n",
            "Method:                 Least Squares   F-statistic:                     9.872\n",
            "Date:                Wed, 12 Jul 2023   Prob (F-statistic):             0.0516\n",
            "Time:                        05:39:48   Log-Likelihood:                -9.5288\n",
            "No. Observations:                   5   AIC:                             23.06\n",
            "Df Residuals:                       3   BIC:                             22.28\n",
            "Df Model:                           1                                         \n",
            "Covariance Type:            nonrobust                                         \n",
            "==============================================================================\n",
            "                 coef    std err          t      P>|t|      [0.025      0.975]\n",
            "------------------------------------------------------------------------------\n",
            "const         12.2012      4.429      2.755      0.070      -1.893      26.296\n",
            "x1             1.1524      0.367      3.142      0.052      -0.015       2.320\n",
            "==============================================================================\n",
            "Omnibus:                          nan   Durbin-Watson:                   1.136\n",
            "Prob(Omnibus):                    nan   Jarque-Bera (JB):                0.546\n",
            "Skew:                          -0.267   Prob(JB):                        0.761\n",
            "Kurtosis:                       1.471   Cond. No.                         57.3\n",
            "==============================================================================\n",
            "\n",
            "Notes:\n",
            "[1] Standard Errors assume that the covariance matrix of the errors is correctly specified.\n"
          ]
        },
        {
          "output_type": "stream",
          "name": "stderr",
          "text": [
            "/usr/local/lib/python3.10/dist-packages/statsmodels/stats/stattools.py:74: ValueWarning: omni_normtest is not valid with less than 8 observations; 5 samples were given.\n",
            "  warn(\"omni_normtest is not valid with less than 8 observations; %i \"\n"
          ]
        }
      ]
    }
  ]
}