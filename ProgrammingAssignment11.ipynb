{
  "nbformat": 4,
  "nbformat_minor": 0,
  "metadata": {
    "colab": {
      "provenance": []
    },
    "kernelspec": {
      "name": "python3",
      "display_name": "Python 3"
    },
    "language_info": {
      "name": "python"
    }
  },
  "cells": [
    {
      "cell_type": "markdown",
      "source": [
        "1. Write a Python program to find words which are greater than given length k?\n",
        "\n",
        "\n",
        "\n",
        "\n",
        "\n",
        "\n",
        "\n",
        "\n"
      ],
      "metadata": {
        "id": "zZhXNYGpFMWE"
      }
    },
    {
      "cell_type": "code",
      "source": [
        "words = ['hello', 'anand', 'ineuron', 'watch', 'machine', 'orgranisation']\n",
        "k = int(input('Enter the length: '))\n",
        "print([i for i in words if len(i) > k])"
      ],
      "metadata": {
        "colab": {
          "base_uri": "https://localhost:8080/"
        },
        "id": "JPLDO9ryIUqx",
        "outputId": "a7a40257-dce3-42b5-c95f-9b62626d6365"
      },
      "execution_count": 16,
      "outputs": [
        {
          "output_type": "stream",
          "name": "stdout",
          "text": [
            "Enter the length: 6\n",
            "['ineuron', 'machine', 'orgranisation']\n"
          ]
        }
      ]
    },
    {
      "cell_type": "markdown",
      "source": [
        "2. Write a Python program for removing i-th character from a string?"
      ],
      "metadata": {
        "id": "3cIb0NiqIJvu"
      }
    },
    {
      "cell_type": "code",
      "source": [
        "string = 'organisation'\n",
        "k = int(input(\"Enter the character number: \"))\n",
        "print(\"\".join([string[i] for i in range(len(string)) if i!=k-1]))"
      ],
      "metadata": {
        "colab": {
          "base_uri": "https://localhost:8080/"
        },
        "id": "n2ynOBPvIU-v",
        "outputId": "d61a11cb-f4b3-48f7-a529-dcc4fef76d1b"
      },
      "execution_count": 20,
      "outputs": [
        {
          "output_type": "stream",
          "name": "stdout",
          "text": [
            "Enter the character number: 1\n",
            "rganisation\n"
          ]
        }
      ]
    },
    {
      "cell_type": "markdown",
      "source": [
        "3. Write a Python program to split and join a string?"
      ],
      "metadata": {
        "id": "yf3VBATVIKIa"
      }
    },
    {
      "cell_type": "code",
      "source": [
        "string = 'My name is Anand Jangir.'\n",
        "value = string.split(\" \")\n",
        "value_2 = \" \".join(value)\n",
        "\n",
        "print(value)\n",
        "print(value_2)"
      ],
      "metadata": {
        "colab": {
          "base_uri": "https://localhost:8080/"
        },
        "id": "MhAMTEADIVRN",
        "outputId": "8567195e-1385-4a21-b8a1-5ea186893ade"
      },
      "execution_count": 22,
      "outputs": [
        {
          "output_type": "stream",
          "name": "stdout",
          "text": [
            "['My', 'name', 'is', 'Anand', 'Jangir.']\n",
            "My name is Anand Jangir.\n"
          ]
        }
      ]
    },
    {
      "cell_type": "markdown",
      "source": [
        "4. Write a Python to check if a given string is binary string or not?"
      ],
      "metadata": {
        "id": "DnAVvR9WIKPN"
      }
    },
    {
      "cell_type": "code",
      "source": [
        "string = '10101001'\n",
        "print(all([True if i in '01' else False for i in string]))"
      ],
      "metadata": {
        "colab": {
          "base_uri": "https://localhost:8080/"
        },
        "id": "xzu_FwO5IVrf",
        "outputId": "0209e207-5118-453e-bc91-35220fffd663"
      },
      "execution_count": 48,
      "outputs": [
        {
          "output_type": "stream",
          "name": "stdout",
          "text": [
            "True\n"
          ]
        }
      ]
    },
    {
      "cell_type": "markdown",
      "source": [
        "\n",
        "5. Write a Python program to find uncommon words from two Strings?"
      ],
      "metadata": {
        "id": "FegSU6nUIKWE"
      }
    },
    {
      "cell_type": "code",
      "source": [
        "val_1 = 'my favourite movie is john wick'\n",
        "val_2 = 'my favourite artist is john elvis'\n",
        "\n",
        "print([i for i in val_1.split(\" \") if i not in val_2]+ [i for i in val_2.split(\" \") if i not in val_1])"
      ],
      "metadata": {
        "colab": {
          "base_uri": "https://localhost:8080/"
        },
        "id": "mc-mAvSBIWGI",
        "outputId": "b1a1545c-6666-4515-cdf1-8310b6fcd1d3"
      },
      "execution_count": 30,
      "outputs": [
        {
          "output_type": "stream",
          "name": "stdout",
          "text": [
            "['movie', 'wick', 'artist', 'elvis']\n"
          ]
        }
      ]
    },
    {
      "cell_type": "markdown",
      "source": [
        "\n",
        "\n",
        "6. Write a Python to find all duplicate characters in string?"
      ],
      "metadata": {
        "id": "6MUsLcCYIKfF"
      }
    },
    {
      "cell_type": "code",
      "source": [
        "string = 'my name is anand'\n",
        "print(list(set([i for i in string if string.count(i) > 1 and i.isalpha()])))"
      ],
      "metadata": {
        "colab": {
          "base_uri": "https://localhost:8080/"
        },
        "id": "_iJgMIrlIWhS",
        "outputId": "37c3ca9c-3e3c-4ae1-8367-e2d2a257e9f2"
      },
      "execution_count": 33,
      "outputs": [
        {
          "output_type": "stream",
          "name": "stdout",
          "text": [
            "['n', 'm', 'a']\n"
          ]
        }
      ]
    },
    {
      "cell_type": "markdown",
      "source": [
        "7. Write a Python Program to check if a string contains any special character?"
      ],
      "metadata": {
        "id": "MINSsRXtIKlr"
      }
    },
    {
      "cell_type": "code",
      "source": [
        "string = \"hello this is @n@nd j@ng!r and need $300 for my work\"\n",
        "value = 'my name anand jangir'\n",
        "def checker(string):\n",
        "  for i in string:\n",
        "    if not (i.isalpha() or i.isdigit() or i == \" \"):\n",
        "      return True\n",
        "  return False\n",
        "  \n",
        "print(checker(string), checker(value))"
      ],
      "metadata": {
        "colab": {
          "base_uri": "https://localhost:8080/"
        },
        "id": "ucL_yd04IXAF",
        "outputId": "d9213b97-1e9a-4dfc-a5f5-a5eb9d0a9843"
      },
      "execution_count": 46,
      "outputs": [
        {
          "output_type": "stream",
          "name": "stdout",
          "text": [
            "True False\n"
          ]
        }
      ]
    }
  ]
}