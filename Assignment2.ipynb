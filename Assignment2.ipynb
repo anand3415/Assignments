{
  "nbformat": 4,
  "nbformat_minor": 0,
  "metadata": {
    "colab": {
      "provenance": []
    },
    "kernelspec": {
      "name": "python3",
      "display_name": "Python 3"
    },
    "language_info": {
      "name": "python"
    }
  },
  "cells": [
    {
      "cell_type": "markdown",
      "source": [
        "1. What are the two values of the Boolean data type? How do you write them?"
      ],
      "metadata": {
        "id": "hFQ31OHCbtRn"
      }
    },
    {
      "cell_type": "code",
      "execution_count": null,
      "metadata": {
        "id": "NxTxXVD8asAs"
      },
      "outputs": [],
      "source": [
        "# Two types of Boolean data type are: \n",
        "1. True\n",
        "2. False"
      ]
    },
    {
      "cell_type": "markdown",
      "source": [
        "2. What are the three different types of Boolean operators?"
      ],
      "metadata": {
        "id": "vFcBeh1ZcEmI"
      }
    },
    {
      "cell_type": "code",
      "source": [
        "# Boolean Operators:\n",
        "# 1. or\n",
        "# 2. and\n",
        "# 3. not"
      ],
      "metadata": {
        "id": "YDlGF0mCcI6n"
      },
      "execution_count": 2,
      "outputs": []
    },
    {
      "cell_type": "markdown",
      "source": [
        "3. Make a list of each Boolean operator&#39;s truth tables (i.e. every possible combination of Boolean\n",
        "values for the operator and what it evaluate )."
      ],
      "metadata": {
        "id": "i5xNoQcUcXCr"
      }
    },
    {
      "cell_type": "code",
      "source": [
        "# or:\n",
        "\n",
        "# True or False = True\n",
        "# False or True = True\n",
        "# True or True = True\n",
        "# False or False = False\n",
        "\n",
        "# and:\n",
        "\n",
        "# True and False = False\n",
        "# False and True = False\n",
        "# True and True = True\n",
        "# False and False = False\n",
        "\n",
        "# not:\n",
        "\n",
        "# not True = False\n",
        "# not False = True"
      ],
      "metadata": {
        "id": "69ne5uERcWl2"
      },
      "execution_count": 3,
      "outputs": []
    },
    {
      "cell_type": "markdown",
      "source": [
        "4. What are the values of the following expressions?\n",
        "\n",
        "- (5>4) and (3==5)\n",
        "- not(5>4)\n",
        "- (5>4) or (3==5)\n",
        "- not ((5>4) or (3==5))\n",
        "- (True and True)and(True==False)\n",
        "- (not False)or(not True)"
      ],
      "metadata": {
        "id": "Xcct4WtKd5Qc"
      }
    },
    {
      "cell_type": "code",
      "source": [
        "False \n",
        "False \n",
        "True \n",
        "False \n",
        "False \n",
        "True"
      ],
      "metadata": {
        "id": "LLZMTdo4d4i5"
      },
      "execution_count": null,
      "outputs": []
    },
    {
      "cell_type": "markdown",
      "source": [
        "5. What are the six comparison operators? "
      ],
      "metadata": {
        "id": "ODJe4zG0fLuK"
      }
    },
    {
      "cell_type": "code",
      "source": [
        "# > - greater than\n",
        "# < - less than\n",
        "# == - equals to\n",
        "# >= - greatert than or equals to\n",
        "# <= - less than or equals to\n",
        "# != - not equals to"
      ],
      "metadata": {
        "id": "oG9zLfRie7UU"
      },
      "execution_count": null,
      "outputs": []
    },
    {
      "cell_type": "markdown",
      "source": [
        "6. How do you tell the difference between the equal to and assignment operators?Describe a condition and when you would use one."
      ],
      "metadata": {
        "id": "iinsVnYtfxYj"
      }
    },
    {
      "cell_type": "code",
      "source": [
        "# The main difference between equals to (==) and assignment operator (=) is that equals to operator is to compare two values or values contained in variables and assignment opeartor is used to assign value to a variable.\n",
        "# Condition:\n",
        "# a = 5, here we are assigning the value 5 to an variable namely \"a\". \n",
        "# a == 5, here we are checking if the value contained in variable a is equals to 5."
      ],
      "metadata": {
        "id": "evLaWMQ6fXfK"
      },
      "execution_count": 6,
      "outputs": []
    },
    {
      "cell_type": "markdown",
      "source": [
        "7. Identify the three blocks in this code:"
      ],
      "metadata": {
        "id": "JRJiHgFEg1JG"
      }
    },
    {
      "cell_type": "code",
      "source": [
        "spam = 0\n",
        "if spam == 10:\n",
        "  print('eggs')\n",
        "if spam > 5:\n",
        "  print('bacon')\n",
        "else:\n",
        "  print('ham')\n",
        "  print('spam')\n",
        "  print('spam')\n",
        "\n",
        "  # Three blocks in this code are if,else and print."
      ],
      "metadata": {
        "id": "4e6K_c8Ggxy0"
      },
      "execution_count": null,
      "outputs": []
    },
    {
      "cell_type": "markdown",
      "source": [
        "8. 8. Write code that prints Hello if 1 is stored in spam, prints Howdy if 2 is stored in spam, and prints\n",
        "Greetings! if anything else is stored in spam."
      ],
      "metadata": {
        "id": "2TmoapzaikpK"
      }
    },
    {
      "cell_type": "code",
      "source": [
        "spam = int(input(\"Enter the value of spam= \"))\n",
        "if spam == 1:\n",
        "  print(\"Hello\")\n",
        "elif spam == 2:\n",
        "  print(\"Howdy\")\n",
        "else:\n",
        "  print(\"Greetings!\")"
      ],
      "metadata": {
        "colab": {
          "base_uri": "https://localhost:8080/"
        },
        "id": "RMALdU36hZgr",
        "outputId": "969c5411-95c8-45c5-f27f-3b7ac43f1c18"
      },
      "execution_count": 11,
      "outputs": [
        {
          "output_type": "stream",
          "name": "stdout",
          "text": [
            "Enter the value of spam= 3\n",
            "Greetings!\n"
          ]
        }
      ]
    },
    {
      "cell_type": "markdown",
      "source": [
        "9.If your programme is stuck in an endless loop, what keys you’ll press?"
      ],
      "metadata": {
        "id": "57Jvc7S1jtXu"
      }
    },
    {
      "cell_type": "code",
      "source": [
        "# CTRL + C"
      ],
      "metadata": {
        "id": "AC3EJe1cjhu8"
      },
      "execution_count": 12,
      "outputs": []
    },
    {
      "cell_type": "markdown",
      "source": [
        "10. How can you tell the difference between break and continue?"
      ],
      "metadata": {
        "id": "r2xEJtCtj7gz"
      }
    },
    {
      "cell_type": "code",
      "source": [
        "# break is used to terminate an ongoing loop whereas continue is used to skip the remaining code to next iteration."
      ],
      "metadata": {
        "id": "XySvm1vBj60F"
      },
      "execution_count": 13,
      "outputs": []
    },
    {
      "cell_type": "markdown",
      "source": [
        "11. In a for loop, what is the difference between range(10), range(0, 10), and range(0, 10, 1)?"
      ],
      "metadata": {
        "id": "ZmNBYzoIlPl1"
      }
    },
    {
      "cell_type": "code",
      "source": [
        "# There is no difference in the above given statement they all will give same output.\n",
        "# range(x,n,z) default values of x = 0, z = 1"
      ],
      "metadata": {
        "id": "hbgSmdEglL-6"
      },
      "execution_count": 14,
      "outputs": []
    },
    {
      "cell_type": "markdown",
      "source": [
        "12. Write a short program that prints the numbers 1 to 10 using a for loop. Then write an equivalent\n",
        "program that prints the numbers 1 to 10 using a while loop."
      ],
      "metadata": {
        "id": "FRMOwIFil-6y"
      }
    },
    {
      "cell_type": "code",
      "source": [
        "for i in range(1,11):\n",
        "  print(i)"
      ],
      "metadata": {
        "id": "NbziwMiClza_"
      },
      "execution_count": null,
      "outputs": []
    },
    {
      "cell_type": "code",
      "source": [
        "i = 1\n",
        "while i <= 10:\n",
        "  print(i)\n",
        "  i+=1"
      ],
      "metadata": {
        "colab": {
          "base_uri": "https://localhost:8080/"
        },
        "id": "lJAeUmNamI8f",
        "outputId": "66ccc85b-97dd-460f-d24c-80082a6c05cc"
      },
      "execution_count": 17,
      "outputs": [
        {
          "output_type": "stream",
          "name": "stdout",
          "text": [
            "1\n",
            "2\n",
            "3\n",
            "4\n",
            "5\n",
            "6\n",
            "7\n",
            "8\n",
            "9\n",
            "10\n"
          ]
        }
      ]
    },
    {
      "cell_type": "markdown",
      "source": [
        "13. If you had a function named bacon() inside a module named spam, how would you call it after\n",
        "importing spam?"
      ],
      "metadata": {
        "id": "eKEO4HVum-Ac"
      }
    },
    {
      "cell_type": "code",
      "source": [
        "spam.bacon() #Calling bacon() function after importing spam module"
      ],
      "metadata": {
        "id": "PhQADKYXmVRO"
      },
      "execution_count": null,
      "outputs": []
    }
  ]
}