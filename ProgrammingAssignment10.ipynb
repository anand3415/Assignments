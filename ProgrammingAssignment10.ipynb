{
  "nbformat": 4,
  "nbformat_minor": 0,
  "metadata": {
    "colab": {
      "provenance": []
    },
    "kernelspec": {
      "name": "python3",
      "display_name": "Python 3"
    },
    "language_info": {
      "name": "python"
    }
  },
  "cells": [
    {
      "cell_type": "code",
      "source": [
        "num = [45,34,23,67,45,23,12,64,24,87,34]"
      ],
      "metadata": {
        "id": "2_z-iGC8Gnc8"
      },
      "execution_count": 2,
      "outputs": []
    },
    {
      "cell_type": "markdown",
      "source": [
        "1. Write a Python program to find sum of elements in list?\n",
        "\n",
        "\n",
        "\n",
        "\n",
        "\n"
      ],
      "metadata": {
        "id": "zZhXNYGpFMWE"
      }
    },
    {
      "cell_type": "code",
      "source": [
        "print(sum(num))"
      ],
      "metadata": {
        "colab": {
          "base_uri": "https://localhost:8080/"
        },
        "id": "bXAGe1vbGblL",
        "outputId": "af8ce3c7-76ce-4439-c7b0-5f5fef4991f7"
      },
      "execution_count": 3,
      "outputs": [
        {
          "output_type": "stream",
          "name": "stdout",
          "text": [
            "458\n"
          ]
        }
      ]
    },
    {
      "cell_type": "markdown",
      "source": [
        "2. Write a Python program to Multiply all numbers in the list?"
      ],
      "metadata": {
        "id": "C0jcEz1kGFQf"
      }
    },
    {
      "cell_type": "code",
      "source": [
        "from numpy import prod \n",
        "print(prod(num))"
      ],
      "metadata": {
        "colab": {
          "base_uri": "https://localhost:8080/"
        },
        "id": "WW8cOCM0Gb8K",
        "outputId": "024b4a94-70a5-499c-b1e7-777528aa7d35"
      },
      "execution_count": 4,
      "outputs": [
        {
          "output_type": "stream",
          "name": "stdout",
          "text": [
            "133046989091020800\n"
          ]
        }
      ]
    },
    {
      "cell_type": "markdown",
      "source": [
        "\n",
        "3. Write a Python program to find smallest number in a list?"
      ],
      "metadata": {
        "id": "LYpJuBaoGFh0"
      }
    },
    {
      "cell_type": "code",
      "source": [
        "print(min(num))"
      ],
      "metadata": {
        "colab": {
          "base_uri": "https://localhost:8080/"
        },
        "id": "zlurMZvaGcVI",
        "outputId": "c1f89bda-5d7c-4480-d295-f86608c8e2c3"
      },
      "execution_count": 5,
      "outputs": [
        {
          "output_type": "stream",
          "name": "stdout",
          "text": [
            "12\n"
          ]
        }
      ]
    },
    {
      "cell_type": "markdown",
      "source": [
        "\n",
        "4. Write a Python program to find largest number in a list?"
      ],
      "metadata": {
        "id": "pcR3tSp9GFoB"
      }
    },
    {
      "cell_type": "code",
      "source": [
        "print(max(num))"
      ],
      "metadata": {
        "colab": {
          "base_uri": "https://localhost:8080/"
        },
        "id": "Ny75R_dmGc7B",
        "outputId": "b70a07aa-6e56-4a85-ca03-fbff65d2552f"
      },
      "execution_count": 6,
      "outputs": [
        {
          "output_type": "stream",
          "name": "stdout",
          "text": [
            "87\n"
          ]
        }
      ]
    },
    {
      "cell_type": "markdown",
      "source": [
        "\n",
        "5. Write a Python program to find second largest number in a list?"
      ],
      "metadata": {
        "id": "HiC2bt26GGFY"
      }
    },
    {
      "cell_type": "code",
      "source": [
        "print(sorted(num)[-2])"
      ],
      "metadata": {
        "colab": {
          "base_uri": "https://localhost:8080/"
        },
        "id": "tGcp6ntVGdZW",
        "outputId": "d104b64a-7453-41d2-90c5-fc34d3f70a3c"
      },
      "execution_count": 7,
      "outputs": [
        {
          "output_type": "stream",
          "name": "stdout",
          "text": [
            "67\n"
          ]
        }
      ]
    },
    {
      "cell_type": "markdown",
      "source": [
        "\n",
        "6. Write a Python program to find N largest elements from a list?"
      ],
      "metadata": {
        "id": "ANTArNXKGGMQ"
      }
    },
    {
      "cell_type": "code",
      "source": [
        "n = int(input(\"Enter the number: \"))\n",
        "print(sorted(num, reverse = True)[n-1])"
      ],
      "metadata": {
        "colab": {
          "base_uri": "https://localhost:8080/"
        },
        "id": "M-43babyGd2O",
        "outputId": "6b652e70-0ca2-4ea9-9546-e1956188c3e8"
      },
      "execution_count": 8,
      "outputs": [
        {
          "output_type": "stream",
          "name": "stdout",
          "text": [
            "Enter the number: 5\n",
            "45\n"
          ]
        }
      ]
    },
    {
      "cell_type": "markdown",
      "source": [
        "7. Write a Python program to print even numbers in a list?"
      ],
      "metadata": {
        "id": "gKyB5ZFkGGVR"
      }
    },
    {
      "cell_type": "code",
      "source": [
        "print([i for i in num if i%2 == 0])"
      ],
      "metadata": {
        "colab": {
          "base_uri": "https://localhost:8080/"
        },
        "id": "6SxUHI77GkUB",
        "outputId": "e42c512e-8714-4b86-ffe6-ba2b440741d0"
      },
      "execution_count": 9,
      "outputs": [
        {
          "output_type": "stream",
          "name": "stdout",
          "text": [
            "[34, 12, 64, 24, 34]\n"
          ]
        }
      ]
    },
    {
      "cell_type": "markdown",
      "source": [
        "\n",
        "8. Write a Python program to print odd numbers in a List?"
      ],
      "metadata": {
        "id": "x9_S30KIGGda"
      }
    },
    {
      "cell_type": "code",
      "source": [
        "print([i for i in num if i%2 == 1])"
      ],
      "metadata": {
        "colab": {
          "base_uri": "https://localhost:8080/"
        },
        "id": "VX2sM6C1Gk-T",
        "outputId": "726654da-248c-4f21-d123-2e044a8cff81"
      },
      "execution_count": 10,
      "outputs": [
        {
          "output_type": "stream",
          "name": "stdout",
          "text": [
            "[45, 23, 67, 45, 23, 87]\n"
          ]
        }
      ]
    },
    {
      "cell_type": "markdown",
      "source": [
        "\n",
        "9. Write a Python program to Remove empty List from List?"
      ],
      "metadata": {
        "id": "mf0HwIAcGGlS"
      }
    },
    {
      "cell_type": "code",
      "source": [
        "value = [[1,2,3], [2,3,4], [4,5,6], []]\n",
        "new = [i for i in value if len(i) != 0]\n",
        "print(new)"
      ],
      "metadata": {
        "colab": {
          "base_uri": "https://localhost:8080/"
        },
        "id": "EApsil6RGlb4",
        "outputId": "77b17e43-2c88-4db5-ceb8-26f190e071bb"
      },
      "execution_count": 12,
      "outputs": [
        {
          "output_type": "stream",
          "name": "stdout",
          "text": [
            "[[1, 2, 3], [2, 3, 4], [4, 5, 6]]\n"
          ]
        }
      ]
    },
    {
      "cell_type": "markdown",
      "source": [
        "10. Write a Python program to Cloning or Copying a list?"
      ],
      "metadata": {
        "id": "7VSAt7ZIGGuK"
      }
    },
    {
      "cell_type": "code",
      "source": [
        "val_2 = num.copy()\n",
        "print(val_2)"
      ],
      "metadata": {
        "colab": {
          "base_uri": "https://localhost:8080/"
        },
        "id": "7xPVarXRGmCC",
        "outputId": "488c0eb3-a313-4ff6-a6f1-ce0d75de9daa"
      },
      "execution_count": 14,
      "outputs": [
        {
          "output_type": "stream",
          "name": "stdout",
          "text": [
            "[45, 34, 23, 67, 45, 23, 12, 64, 24, 87, 34]\n"
          ]
        }
      ]
    },
    {
      "cell_type": "markdown",
      "source": [
        "11. Write a Python program to Count occurrences of an element in a list?\n"
      ],
      "metadata": {
        "id": "VM-F6wBhGG18"
      }
    },
    {
      "cell_type": "code",
      "source": [
        "print(num.count(23))"
      ],
      "metadata": {
        "colab": {
          "base_uri": "https://localhost:8080/"
        },
        "id": "mZv5J69BGmUB",
        "outputId": "ad818515-e4e4-4925-e693-1ea9e47e9ba0"
      },
      "execution_count": 15,
      "outputs": [
        {
          "output_type": "stream",
          "name": "stdout",
          "text": [
            "2\n"
          ]
        }
      ]
    }
  ]
}