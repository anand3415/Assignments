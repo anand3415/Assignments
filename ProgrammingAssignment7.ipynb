{
  "nbformat": 4,
  "nbformat_minor": 0,
  "metadata": {
    "colab": {
      "provenance": []
    },
    "kernelspec": {
      "name": "python3",
      "display_name": "Python 3"
    },
    "language_info": {
      "name": "python"
    }
  },
  "cells": [
    {
      "cell_type": "markdown",
      "source": [
        "1. Write a Python Program to find sum of array?\n",
        "\n"
      ],
      "metadata": {
        "id": "w-MeulqXXtIr"
      }
    },
    {
      "cell_type": "code",
      "source": [
        "array_sum = lambda val: sum(val)"
      ],
      "metadata": {
        "id": "LB-FlrW1X7fI"
      },
      "execution_count": 41,
      "outputs": []
    },
    {
      "cell_type": "code",
      "source": [
        "array_sum([1,2,3,4,5])"
      ],
      "metadata": {
        "colab": {
          "base_uri": "https://localhost:8080/"
        },
        "id": "quOGwRJzYfnz",
        "outputId": "03e6229f-c3b2-4c96-9e81-4aa27f87c72b"
      },
      "execution_count": 42,
      "outputs": [
        {
          "output_type": "execute_result",
          "data": {
            "text/plain": [
              "15"
            ]
          },
          "metadata": {},
          "execution_count": 42
        }
      ]
    },
    {
      "cell_type": "markdown",
      "source": [
        "2. Write a Python Program to find largest element in an array?"
      ],
      "metadata": {
        "id": "bEJnznG_Xw4N"
      }
    },
    {
      "cell_type": "code",
      "source": [
        "array = lambda l: max(l)"
      ],
      "metadata": {
        "id": "TsW5sETlX70o"
      },
      "execution_count": 40,
      "outputs": []
    },
    {
      "cell_type": "code",
      "source": [
        "array([1,2,3,4,15])"
      ],
      "metadata": {
        "colab": {
          "base_uri": "https://localhost:8080/"
        },
        "id": "nHXJb5TEYy0t",
        "outputId": "aeb85584-4f3b-405a-d6f5-b4db5ddfe463"
      },
      "execution_count": 24,
      "outputs": [
        {
          "output_type": "execute_result",
          "data": {
            "text/plain": [
              "15"
            ]
          },
          "metadata": {},
          "execution_count": 24
        }
      ]
    },
    {
      "cell_type": "markdown",
      "source": [
        "\n",
        "3. Write a Python Program for array rotation?"
      ],
      "metadata": {
        "id": "rElD9JkNXxJv"
      }
    },
    {
      "cell_type": "code",
      "source": [
        "import numpy as np\n",
        "val = [1,2,3,4,5,6,7,8,9]\n",
        "\n",
        "np.roll(val,-2)"
      ],
      "metadata": {
        "colab": {
          "base_uri": "https://localhost:8080/"
        },
        "id": "pEUDbZQvX8K4",
        "outputId": "87f8ad57-8b4d-4908-c747-ab242cbbffc6"
      },
      "execution_count": 45,
      "outputs": [
        {
          "output_type": "execute_result",
          "data": {
            "text/plain": [
              "array([3, 4, 5, 6, 7, 8, 9, 1, 2])"
            ]
          },
          "metadata": {},
          "execution_count": 45
        }
      ]
    },
    {
      "cell_type": "markdown",
      "source": [
        "4. Write a Python Program to Split the array and add the first part to the end?"
      ],
      "metadata": {
        "id": "_HC8lqC_XxuG"
      }
    },
    {
      "cell_type": "code",
      "source": [
        "val = [1,2,3,4,5,6,7,8,9,10]\n",
        "print(val[len(val)//2:] + val[:len(val)//2])"
      ],
      "metadata": {
        "colab": {
          "base_uri": "https://localhost:8080/"
        },
        "id": "E0F62H0vX8l3",
        "outputId": "1e8ebc9e-7149-44bc-98e4-0655bf9ae218"
      },
      "execution_count": 43,
      "outputs": [
        {
          "output_type": "stream",
          "name": "stdout",
          "text": [
            "[6, 7, 8, 9, 10, 1, 2, 3, 4, 5]\n"
          ]
        }
      ]
    },
    {
      "cell_type": "markdown",
      "source": [
        "\n",
        "5. Write a Python Program to check if given array is Monotonic?"
      ],
      "metadata": {
        "id": "iAJG7nFjXx5m"
      }
    },
    {
      "cell_type": "code",
      "source": [
        "def is_mono(val):\n",
        "  for i in range(1,len(val)-1):\n",
        "    if abs(val[i] - val[i-1]) != 1:\n",
        "      return False\n",
        "  return True"
      ],
      "metadata": {
        "id": "waJ8uXbVX8_K"
      },
      "execution_count": 37,
      "outputs": []
    },
    {
      "cell_type": "code",
      "source": [
        "val = [1,2,1,2,3,5,4,3,4,3]\n",
        "\n",
        "print(is_mono(val))"
      ],
      "metadata": {
        "colab": {
          "base_uri": "https://localhost:8080/"
        },
        "id": "U80xes_8bcMQ",
        "outputId": "c312041e-2f56-461a-8c34-6e8ab6d0b9a9"
      },
      "execution_count": 39,
      "outputs": [
        {
          "output_type": "stream",
          "name": "stdout",
          "text": [
            "False\n"
          ]
        }
      ]
    }
  ]
}