{
  "nbformat": 4,
  "nbformat_minor": 0,
  "metadata": {
    "colab": {
      "provenance": []
    },
    "kernelspec": {
      "name": "python3",
      "display_name": "Python 3"
    },
    "language_info": {
      "name": "python"
    }
  },
  "cells": [
    {
      "cell_type": "markdown",
      "source": [
        "1. Why are functions advantageous to have in your programs?"
      ],
      "metadata": {
        "id": "ugxIMt0WBbcb"
      }
    },
    {
      "cell_type": "code",
      "execution_count": 1,
      "metadata": {
        "id": "MWyTYcdABWjt"
      },
      "outputs": [],
      "source": [
        "# using functions, we can avoid writing the same code again and again in a program.\n",
        "# we can call functions multiple times in a program and anywhere.\n",
        "# we can track a program easily using functions by dividing it into multiple functions."
      ]
    },
    {
      "cell_type": "markdown",
      "source": [
        "2. When does the code in a function run: when its specified or when its called?"
      ],
      "metadata": {
        "id": "twBfRHyBDO2G"
      }
    },
    {
      "cell_type": "code",
      "source": [
        "# The code in a function runs when it is called because when we are writing a code in a function, it is specified."
      ],
      "metadata": {
        "id": "mBYyKuzfDNie"
      },
      "execution_count": 2,
      "outputs": []
    },
    {
      "cell_type": "markdown",
      "source": [
        "3. What statement creates a function?"
      ],
      "metadata": {
        "id": "XQw-s0sZEWGD"
      }
    },
    {
      "cell_type": "code",
      "source": [
        "# def keyword is used to create a function."
      ],
      "metadata": {
        "id": "0XDMH0dbEU2s"
      },
      "execution_count": 3,
      "outputs": []
    },
    {
      "cell_type": "markdown",
      "source": [
        "4. What is the difference between a function and a function call?"
      ],
      "metadata": {
        "id": "SG8WV2uEEnTn"
      }
    },
    {
      "cell_type": "code",
      "source": [
        "# function means collection of lines of code that accomplish a certain task.\n",
        "# calling a function means executing the function."
      ],
      "metadata": {
        "id": "ZupkvMNDEmf3"
      },
      "execution_count": 4,
      "outputs": []
    },
    {
      "cell_type": "markdown",
      "source": [
        "5. How many global scopes are there in a Python program? How many local scopes?"
      ],
      "metadata": {
        "id": "wPGDj81wFurX"
      }
    },
    {
      "cell_type": "code",
      "source": [
        "# all the variables defined outside a funtion are global scopes and the variables defined inside a function are local scopes.\n",
        "# There is no limit of the number of global scopes or local scopes in a program."
      ],
      "metadata": {
        "id": "tmWmF0bkFs_a"
      },
      "execution_count": 5,
      "outputs": []
    },
    {
      "cell_type": "markdown",
      "source": [
        "6. What happens to variables in a local scope when the function call returns?"
      ],
      "metadata": {
        "id": "Y_bzYOv1Hh8R"
      }
    },
    {
      "cell_type": "code",
      "source": [
        "# There is no change in the local scope variables."
      ],
      "metadata": {
        "id": "Q22t3c_2HhJo"
      },
      "execution_count": 6,
      "outputs": []
    },
    {
      "cell_type": "markdown",
      "source": [
        "7. What is the concept of a return value? Is it possible to have a return value in an expression?"
      ],
      "metadata": {
        "id": "p0uobK0KIfAz"
      }
    },
    {
      "cell_type": "code",
      "source": [
        "# return is used to return a value to the caller.\n",
        "# Yes, it is possible to have a return value in an expression thus can be stored in a variable."
      ],
      "metadata": {
        "id": "ncd9R3jzIeSH"
      },
      "execution_count": 7,
      "outputs": []
    },
    {
      "cell_type": "markdown",
      "source": [
        "8. If a function does not have a return statement, what is the return value of a call to that function?"
      ],
      "metadata": {
        "id": "iHnDiQXlJ9FF"
      }
    },
    {
      "cell_type": "code",
      "source": [
        "# it will return nothing because return statement is needed."
      ],
      "metadata": {
        "id": "izX98OJQJ7So"
      },
      "execution_count": 8,
      "outputs": []
    },
    {
      "cell_type": "markdown",
      "source": [
        "9. How do you make a function variable refer to the global variable?"
      ],
      "metadata": {
        "id": "cEEG_tPZKUCO"
      }
    },
    {
      "cell_type": "code",
      "source": [
        "# by using global keyword before defining a variable in a function."
      ],
      "metadata": {
        "id": "rra0lChPKR8t"
      },
      "execution_count": 9,
      "outputs": []
    },
    {
      "cell_type": "markdown",
      "source": [
        "10. What is the data type of None?"
      ],
      "metadata": {
        "id": "T_Xrh2bUKuMO"
      }
    },
    {
      "cell_type": "code",
      "source": [
        "# NoneType is the data type of None."
      ],
      "metadata": {
        "id": "R9avbGUDKsY4"
      },
      "execution_count": 10,
      "outputs": []
    },
    {
      "cell_type": "markdown",
      "source": [
        "11. What does the sentence import areallyourpetsnamederic do?"
      ],
      "metadata": {
        "id": "5JmD8r2PLetT"
      }
    },
    {
      "cell_type": "code",
      "source": [
        "# it imports the class named areallyourpetsnamederic."
      ],
      "metadata": {
        "id": "AMXb7LjmLeLN"
      },
      "execution_count": 11,
      "outputs": []
    },
    {
      "cell_type": "markdown",
      "source": [
        "12. If you had a bacon() feature in a spam module, what would you call it after importing spam?"
      ],
      "metadata": {
        "id": "vZYPWQW5L3Vl"
      }
    },
    {
      "cell_type": "code",
      "source": [
        "# spam.bacon()"
      ],
      "metadata": {
        "id": "zogDyB-0L2rR"
      },
      "execution_count": 12,
      "outputs": []
    },
    {
      "cell_type": "markdown",
      "source": [
        "13. What can you do to save a programme from crashing if it encounters an error?"
      ],
      "metadata": {
        "id": "A5bxo1yXMH4n"
      }
    },
    {
      "cell_type": "code",
      "source": [
        "# We could use try and except clauses."
      ],
      "metadata": {
        "id": "6iuJhimTMHSl"
      },
      "execution_count": 13,
      "outputs": []
    },
    {
      "cell_type": "markdown",
      "source": [
        "14. What is the purpose of the try clause? What is the purpose of the except clause?"
      ],
      "metadata": {
        "id": "RRqerp2lM2GZ"
      }
    },
    {
      "cell_type": "code",
      "source": [
        "# try clause is used to skip to except clause if the program included in the blocks encounters any error and except clause is used to implement the code in its blocks thereafter."
      ],
      "metadata": {
        "id": "VMO1Cu1qMvDZ"
      },
      "execution_count": null,
      "outputs": []
    }
  ]
}