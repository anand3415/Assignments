{
  "nbformat": 4,
  "nbformat_minor": 0,
  "metadata": {
    "colab": {
      "provenance": []
    },
    "kernelspec": {
      "name": "python3",
      "display_name": "Python 3"
    },
    "language_info": {
      "name": "python"
    }
  },
  "cells": [
    {
      "cell_type": "markdown",
      "source": [
        "1. Write a Python Program to Find LCM?\n",
        "\n",
        "\n",
        "\n"
      ],
      "metadata": {
        "id": "jytT7TzXgNus"
      }
    },
    {
      "cell_type": "code",
      "source": [
        "from math import gcd\n",
        "a = int(input())\n",
        "b = int(input())\n",
        "\n",
        "lcm = a*b // gcd(a,b)\n",
        "print(lcm)"
      ],
      "metadata": {
        "colab": {
          "base_uri": "https://localhost:8080/"
        },
        "id": "B-qTjFyGgbmG",
        "outputId": "759af317-654f-4336-9577-d11eda5e7d36"
      },
      "execution_count": 18,
      "outputs": [
        {
          "output_type": "stream",
          "name": "stdout",
          "text": [
            "2\n",
            "3\n",
            "6\n"
          ]
        }
      ]
    },
    {
      "cell_type": "markdown",
      "source": [
        "2. Write a Python Program to Find HCF?"
      ],
      "metadata": {
        "id": "1JuuME_sgQfe"
      }
    },
    {
      "cell_type": "code",
      "source": [
        "import math\n",
        "\n",
        "n1 = int(input())\n",
        "n2 = int(input())\n",
        "\n",
        "hcf = math.gcd(n1, n2)\n",
        "print(hcf)"
      ],
      "metadata": {
        "colab": {
          "base_uri": "https://localhost:8080/"
        },
        "id": "roHEJNDggcTK",
        "outputId": "822edf15-f587-4b75-8a66-1e66d4427e3a"
      },
      "execution_count": 16,
      "outputs": [
        {
          "output_type": "stream",
          "name": "stdout",
          "text": [
            "4\n",
            "2\n",
            "2\n"
          ]
        }
      ]
    },
    {
      "cell_type": "markdown",
      "source": [
        "3. Write a Python Program to Convert Decimal to Binary, Octal and Hexadecimal?"
      ],
      "metadata": {
        "id": "hAvwiEUjgQ1c"
      }
    },
    {
      "cell_type": "code",
      "source": [
        "n = int(input())\n",
        "binary = bin(n)\n",
        "hexa = hex(n)\n",
        "octal = oct(n)\n",
        "print(binary)\n",
        "print(hexa)\n",
        "print(octal)"
      ],
      "metadata": {
        "colab": {
          "base_uri": "https://localhost:8080/"
        },
        "id": "mB1ZR4yrgcxn",
        "outputId": "773208f0-f443-42e6-de27-9283f163f9fa"
      },
      "execution_count": 24,
      "outputs": [
        {
          "output_type": "stream",
          "name": "stdout",
          "text": [
            "15\n",
            "0b1111\n",
            "0xf\n",
            "0o17\n"
          ]
        }
      ]
    },
    {
      "cell_type": "markdown",
      "source": [
        "4. Write a Python Program To Find ASCII value of a character?"
      ],
      "metadata": {
        "id": "hS8YgrQ_gRCY"
      }
    },
    {
      "cell_type": "code",
      "source": [
        "character = input(\"Enter a character: \")\n",
        "print(ord(character))"
      ],
      "metadata": {
        "colab": {
          "base_uri": "https://localhost:8080/"
        },
        "id": "u_qjg1gkgdTo",
        "outputId": "897313b5-42ad-42eb-fefb-7f9e0e061151"
      },
      "execution_count": 10,
      "outputs": [
        {
          "output_type": "stream",
          "name": "stdout",
          "text": [
            "Enter a character: O\n",
            "79\n"
          ]
        }
      ]
    },
    {
      "cell_type": "markdown",
      "source": [
        "5. Write a Python Program to Make a Simple Calculator with 4 basic mathematical operations?"
      ],
      "metadata": {
        "id": "rY1QgAzBgRqG"
      }
    },
    {
      "cell_type": "code",
      "source": [
        "class Calculator:\n",
        "\n",
        "  def __init__(anand,a,b):\n",
        "    anand.a = a\n",
        "    anand.b = b\n",
        "\n",
        "  def add(anand):\n",
        "    return anand.a + anand.b\n",
        "\n",
        "  def sub(anand):\n",
        "    return anand.a - anand.b\n",
        "\n",
        "  def mul(anand):\n",
        "    return anand.a * anand.b\n",
        "\n",
        "  def div(anand):\n",
        "    return anand.a / anand.b"
      ],
      "metadata": {
        "id": "brYG707Agd2s"
      },
      "execution_count": 11,
      "outputs": []
    },
    {
      "cell_type": "code",
      "source": [
        "m = Calculator(4,5)"
      ],
      "metadata": {
        "id": "36PJxD6tjGxA"
      },
      "execution_count": 12,
      "outputs": []
    },
    {
      "cell_type": "code",
      "source": [
        "m.add()"
      ],
      "metadata": {
        "colab": {
          "base_uri": "https://localhost:8080/"
        },
        "id": "4PmcdZ0ujRVz",
        "outputId": "9a12863f-88ec-48a5-a02a-ffeaf97fad5d"
      },
      "execution_count": 13,
      "outputs": [
        {
          "output_type": "execute_result",
          "data": {
            "text/plain": [
              "9"
            ]
          },
          "metadata": {},
          "execution_count": 13
        }
      ]
    },
    {
      "cell_type": "code",
      "source": [
        "m.mul()"
      ],
      "metadata": {
        "colab": {
          "base_uri": "https://localhost:8080/"
        },
        "id": "iIXNMvzTjUsz",
        "outputId": "c36ad156-e488-449b-da10-16338d8f6113"
      },
      "execution_count": 14,
      "outputs": [
        {
          "output_type": "execute_result",
          "data": {
            "text/plain": [
              "20"
            ]
          },
          "metadata": {},
          "execution_count": 14
        }
      ]
    },
    {
      "cell_type": "code",
      "source": [
        "m.sub()"
      ],
      "metadata": {
        "colab": {
          "base_uri": "https://localhost:8080/"
        },
        "id": "9LK1YlPXjZeH",
        "outputId": "618192f3-8b65-4fcd-b347-dcd1153b3bfa"
      },
      "execution_count": 25,
      "outputs": [
        {
          "output_type": "execute_result",
          "data": {
            "text/plain": [
              "-1"
            ]
          },
          "metadata": {},
          "execution_count": 25
        }
      ]
    },
    {
      "cell_type": "code",
      "source": [
        "m.div()"
      ],
      "metadata": {
        "colab": {
          "base_uri": "https://localhost:8080/"
        },
        "id": "j_0P6l9dlW75",
        "outputId": "3ca41e0b-2931-4222-c609-e09f3dc00692"
      },
      "execution_count": 26,
      "outputs": [
        {
          "output_type": "execute_result",
          "data": {
            "text/plain": [
              "0.8"
            ]
          },
          "metadata": {},
          "execution_count": 26
        }
      ]
    },
    {
      "cell_type": "code",
      "source": [],
      "metadata": {
        "id": "_su5HySplYMj"
      },
      "execution_count": null,
      "outputs": []
    }
  ]
}