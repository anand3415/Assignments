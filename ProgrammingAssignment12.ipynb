{
  "nbformat": 4,
  "nbformat_minor": 0,
  "metadata": {
    "colab": {
      "provenance": []
    },
    "kernelspec": {
      "name": "python3",
      "display_name": "Python 3"
    },
    "language_info": {
      "name": "python"
    }
  },
  "cells": [
    {
      "cell_type": "markdown",
      "source": [
        "1. Write a Python program to Extract Unique values dictionary values?"
      ],
      "metadata": {
        "id": "4ekOYBc5gxnT"
      }
    },
    {
      "cell_type": "code",
      "execution_count": 3,
      "metadata": {
        "colab": {
          "base_uri": "https://localhost:8080/"
        },
        "id": "fJAJ5JwVgm1l",
        "outputId": "657a91d4-e873-4fab-fd3e-ad5a64831b04"
      },
      "outputs": [
        {
          "output_type": "stream",
          "name": "stdout",
          "text": [
            "[12, 14, 15, 16, 19, 25]\n"
          ]
        }
      ],
      "source": [
        "val = {\n",
        "    'tiger':12,\n",
        "    'deer':12,\n",
        "    'lion':15,\n",
        "    'giraffe':19,\n",
        "    'koala':19,\n",
        "    'dog':25,\n",
        "    'cat':14,\n",
        "    'elephant':16,\n",
        "}\n",
        "unique = list(set(i for i in val.values()))\n",
        "print(unique)"
      ]
    },
    {
      "cell_type": "markdown",
      "source": [
        "2. Write a Python program to find the sum of all items in a dictionary?"
      ],
      "metadata": {
        "id": "0nyKjSh8g2N8"
      }
    },
    {
      "cell_type": "code",
      "source": [
        "val = {\n",
        "    'a':12,\n",
        "    'b':43,\n",
        "    'c':23,\n",
        "    'd':54,\n",
        "    'e':16,\n",
        "    'f':52,\n",
        "    'g':72,\n",
        "}\n",
        "print(sum(i for i in val.values()))"
      ],
      "metadata": {
        "colab": {
          "base_uri": "https://localhost:8080/"
        },
        "id": "UaKkFrGMhITq",
        "outputId": "9bdf81da-41ac-41cb-8d4d-7409f1e9b770"
      },
      "execution_count": 4,
      "outputs": [
        {
          "output_type": "stream",
          "name": "stdout",
          "text": [
            "272\n"
          ]
        }
      ]
    },
    {
      "cell_type": "markdown",
      "source": [
        "3. Write a Python program to Merging two Dictionaries?"
      ],
      "metadata": {
        "id": "w7egQJZ_g2vq"
      }
    },
    {
      "cell_type": "code",
      "source": [
        "val_1 = {'a':12,'b':34,'c':52,'d':54,'e':12,'f':64,'g':36}\n",
        "val_2 = {'h':23,'i':64,'j':46,'k':15,'l':64,'m':27,'n':62,'o':83}\n",
        "\n",
        "new = val_1 | val_2\n",
        "print(new)"
      ],
      "metadata": {
        "colab": {
          "base_uri": "https://localhost:8080/"
        },
        "id": "Rvzvm9pqhIzY",
        "outputId": "78c9c5f7-3986-4476-9155-28c9cc507872"
      },
      "execution_count": 5,
      "outputs": [
        {
          "output_type": "stream",
          "name": "stdout",
          "text": [
            "{'a': 12, 'b': 34, 'c': 52, 'd': 54, 'e': 12, 'f': 64, 'g': 36, 'h': 23, 'i': 64, 'j': 46, 'k': 15, 'l': 64, 'm': 27, 'n': 62, 'o': 83}\n"
          ]
        }
      ]
    },
    {
      "cell_type": "markdown",
      "source": [
        "4. Write a Python program to convert key-values list to flat dictionary?"
      ],
      "metadata": {
        "id": "ljDeCRjkg3HD"
      }
    },
    {
      "cell_type": "code",
      "source": [
        "country = {\n",
        "    'states':['rajasthan','maharashtra','west bengal', 'tamil nadu'],\n",
        "    'capitals':['jaipur', 'mumbai', 'kolkata', 'chennai']\n",
        "}\n",
        "\n",
        "flatt = dict(zip(country['states'], country['capitals']))\n",
        "print(flatt)"
      ],
      "metadata": {
        "colab": {
          "base_uri": "https://localhost:8080/"
        },
        "id": "klt3DuP_hJJj",
        "outputId": "e857a3ed-d9ac-4ef1-b36a-404e3cb0edec"
      },
      "execution_count": 9,
      "outputs": [
        {
          "output_type": "stream",
          "name": "stdout",
          "text": [
            "{'rajasthan': 'jaipur', 'maharashtra': 'mumbai', 'west bengal': 'kolkata', 'tamil nadu': 'chennai'}\n"
          ]
        }
      ]
    },
    {
      "cell_type": "markdown",
      "source": [
        "5. Write a Python program to insertion at the beginning in OrderedDict?"
      ],
      "metadata": {
        "id": "n09pTy5lg3aw"
      }
    },
    {
      "cell_type": "code",
      "source": [
        "numbers = {\n",
        "    'two':2,\n",
        "    'three':3,\n",
        "    'four':4,\n",
        "    'five':5,\n",
        "    'six':6,\n",
        "    'seven':7\n",
        "}\n",
        "new = {'one':1}\n",
        "new.update(numbers)\n",
        "print(new)"
      ],
      "metadata": {
        "colab": {
          "base_uri": "https://localhost:8080/"
        },
        "id": "LW0tUJbUhJvx",
        "outputId": "92b82d5f-8f24-40c1-a8bf-ec8a207bd5a0"
      },
      "execution_count": 12,
      "outputs": [
        {
          "output_type": "stream",
          "name": "stdout",
          "text": [
            "{'one': 1, 'two': 2, 'three': 3, 'four': 4, 'five': 5, 'six': 6, 'seven': 7}\n"
          ]
        }
      ]
    },
    {
      "cell_type": "markdown",
      "source": [
        "6. Write a Python program to check order of character in string using OrderedDict()?"
      ],
      "metadata": {
        "id": "vHUi2XLJg30n"
      }
    },
    {
      "cell_type": "code",
      "source": [
        "from collections import OrderedDict\n",
        "val = 'hello guys'\n",
        "pattern = 'eos'\n",
        "\n",
        "new = OrderedDict.fromkeys(val)\n",
        "\n",
        "def check(val, pattern):\n",
        "  a = 0 \n",
        "  for key,values in new.items():\n",
        "    if key == pattern[a]:\n",
        "      a += 1\n",
        "    if a == len(pattern):\n",
        "      return True\n",
        "  return False\n",
        "\n",
        "print(check(val,pattern))"
      ],
      "metadata": {
        "colab": {
          "base_uri": "https://localhost:8080/"
        },
        "id": "JMpM5viRhKNk",
        "outputId": "75e33aed-c82f-4333-f1a5-c1fa895176c7"
      },
      "execution_count": 22,
      "outputs": [
        {
          "output_type": "stream",
          "name": "stdout",
          "text": [
            "True\n"
          ]
        }
      ]
    },
    {
      "cell_type": "markdown",
      "source": [
        "7. Write a Python program to sort Python Dictionaries by Key or Value?"
      ],
      "metadata": {
        "id": "iAPjuBJYhFE-"
      }
    },
    {
      "cell_type": "code",
      "source": [
        "from collections import OrderedDict\n",
        "val = {5:12,3:54,1:62,7:34,8:26,23:11}\n",
        "\n",
        "new = OrderedDict(sorted(val.items()))\n",
        "print(new)"
      ],
      "metadata": {
        "colab": {
          "base_uri": "https://localhost:8080/"
        },
        "id": "fxjylg_AhLA0",
        "outputId": "f9c0caaa-c795-4f54-be4f-98398deaba29"
      },
      "execution_count": 30,
      "outputs": [
        {
          "output_type": "stream",
          "name": "stdout",
          "text": [
            "OrderedDict([(1, 62), (3, 54), (5, 12), (7, 34), (8, 26), (23, 11)])\n"
          ]
        }
      ]
    }
  ]
}