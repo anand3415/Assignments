{
  "nbformat": 4,
  "nbformat_minor": 0,
  "metadata": {
    "colab": {
      "provenance": []
    },
    "kernelspec": {
      "name": "python3",
      "display_name": "Python 3"
    },
    "language_info": {
      "name": "python"
    }
  },
  "cells": [
    {
      "cell_type": "markdown",
      "source": [
        "<aside>\n",
        "💡 **Question 1**\n",
        "\n",
        "Given an integer `n`, return *`true` if it is a power of two. Otherwise, return `false`*.\n",
        "\n",
        "An integer `n` is a power of two, if there exists an integer `x` such that `n == 2x`.\n",
        "\n",
        "**Example 1:**\n",
        "Input: n = 1\n",
        "\n",
        "Output: true\n",
        "\n",
        "**Example 2:**\n",
        "Input: n = 16\n",
        "\n",
        "Output: true\n",
        "\n",
        "**Example 3:**\n",
        "Input: n = 3\n",
        "\n",
        "Output: false\n",
        "\n",
        "</aside>"
      ],
      "metadata": {
        "id": "abf9peZnHS84"
      }
    },
    {
      "cell_type": "code",
      "execution_count": 37,
      "metadata": {
        "colab": {
          "base_uri": "https://localhost:8080/"
        },
        "id": "bATT-pLhHL5B",
        "outputId": "8b2f6b60-4dfe-42a2-e5a3-996c84989488"
      },
      "outputs": [
        {
          "output_type": "stream",
          "name": "stdout",
          "text": [
            "True\n",
            "True\n",
            "False\n"
          ]
        }
      ],
      "source": [
        "def is_power_of_two(n):\n",
        "    if n == 1:\n",
        "        return True\n",
        "    elif n <= 0 or n % 2 != 0:\n",
        "        return False\n",
        "    else:\n",
        "        return is_power_of_two(n // 2)\n",
        "\n",
        "\n",
        "n = 1\n",
        "result = is_power_of_two(n)\n",
        "print(result)  # Output: True\n",
        "\n",
        "n = 16\n",
        "result = is_power_of_two(n)\n",
        "print(result)  # Output: True\n",
        "\n",
        "n = 3\n",
        "result = is_power_of_two(n)\n",
        "print(result)  # Output: False\n"
      ]
    },
    {
      "cell_type": "markdown",
      "source": [
        "<aside>\n",
        "💡 **Question 2**\n",
        "\n",
        "Given a number n, find the sum of the first natural numbers.\n",
        "\n",
        "**Example 1:**\n",
        "\n",
        "Input: n = 3\n",
        "\n",
        "Output: 6\n",
        "\n",
        "**Example 2:**\n",
        "\n",
        "Input  : 5\n",
        "\n",
        "Output : 15\n",
        "\n",
        "</aside>"
      ],
      "metadata": {
        "id": "ku9HwIzxIk_s"
      }
    },
    {
      "cell_type": "code",
      "source": [
        "def sum_of_naturals(n):\n",
        "    if n == 1:\n",
        "        return 1\n",
        "    else:\n",
        "        return n + sum_of_naturals(n - 1)\n",
        "\n",
        "n = 3\n",
        "result = sum_of_naturals(n)\n",
        "print(result)  # Output: 6\n",
        "\n",
        "n = 5\n",
        "result = sum_of_naturals(n)\n",
        "print(result)  # Output: 15\n"
      ],
      "metadata": {
        "colab": {
          "base_uri": "https://localhost:8080/"
        },
        "id": "GT7oTrzZIlT-",
        "outputId": "b46c0772-45e6-4815-cc55-7d9ef0fd18a3"
      },
      "execution_count": 38,
      "outputs": [
        {
          "output_type": "stream",
          "name": "stdout",
          "text": [
            "6\n",
            "15\n"
          ]
        }
      ]
    },
    {
      "cell_type": "markdown",
      "source": [
        "<aside>\n",
        "💡 **Question 3**\n",
        "\n",
        "****Given a positive integer, N. Find the factorial of N.\n",
        "\n",
        "**Example 1:**\n",
        "\n",
        "Input: N = 5\n",
        "\n",
        "Output: 120\n",
        "\n",
        "**Example 2:**\n",
        "\n",
        "Input: N = 4\n",
        "\n",
        "Output: 24\n",
        "\n",
        "</aside>"
      ],
      "metadata": {
        "id": "eD8WaMz9Ilji"
      }
    },
    {
      "cell_type": "code",
      "source": [
        "def factorial(N):\n",
        "    if N == 0 or N == 1:\n",
        "        return 1\n",
        "    else:\n",
        "        return N * factorial(N - 1)\n",
        "\n",
        "N = 5\n",
        "result = factorial(N)\n",
        "print(result)  # Output: 120\n",
        "\n",
        "N = 4\n",
        "result = factorial(N)\n",
        "print(result)  # Output: 24"
      ],
      "metadata": {
        "colab": {
          "base_uri": "https://localhost:8080/"
        },
        "id": "I-fKb8etIl3k",
        "outputId": "9ffd55e7-4a9b-4619-a989-307a5040d581"
      },
      "execution_count": 39,
      "outputs": [
        {
          "output_type": "stream",
          "name": "stdout",
          "text": [
            "120\n",
            "24\n"
          ]
        }
      ]
    },
    {
      "cell_type": "markdown",
      "source": [
        "<aside>\n",
        "💡 **Question 4**\n",
        "\n",
        "Given a number N and a power P, the task is to find the exponent of this number raised to the given power, i.e. N^P.\n",
        "\n",
        "**Example 1 :**\n",
        "\n",
        "Input: N = 5, P = 2\n",
        "\n",
        "Output: 25\n",
        "\n",
        "**Example 2 :**\n",
        "Input: N = 2, P = 5\n",
        "\n",
        "Output: 32\n",
        "\n",
        "</aside>"
      ],
      "metadata": {
        "id": "vAWfZRK6Imca"
      }
    },
    {
      "cell_type": "code",
      "source": [
        "def power(N, P):\n",
        "    if P == 0:\n",
        "        return 1\n",
        "    elif P == 1:\n",
        "        return N\n",
        "    else:\n",
        "        return N * power(N, P - 1)\n",
        "\n",
        "N = 5\n",
        "P = 2\n",
        "result = power(N, P)\n",
        "print(result)  # Output: 25\n",
        "\n",
        "N = 2\n",
        "P = 5\n",
        "result = power(N, P)\n",
        "print(result)  # Output: 32\n"
      ],
      "metadata": {
        "colab": {
          "base_uri": "https://localhost:8080/"
        },
        "id": "b_GIWt4BImri",
        "outputId": "91e8bf58-e3a4-4f6e-e64f-db0b31b6cc9c"
      },
      "execution_count": 40,
      "outputs": [
        {
          "output_type": "stream",
          "name": "stdout",
          "text": [
            "25\n",
            "32\n"
          ]
        }
      ]
    },
    {
      "cell_type": "markdown",
      "source": [
        "<aside>\n",
        "💡 **Question 5**\n",
        "\n",
        "Given an array of integers **arr**, the task is to find maximum element of that array using recursion.\n",
        "\n",
        "**Example 1:**\n",
        "\n",
        "Input: arr = {1, 4, 3, -5, -4, 8, 6};\n",
        "Output: 8\n",
        "\n",
        "**Example 2:**\n",
        "\n",
        "Input: arr = {1, 4, 45, 6, 10, -8};\n",
        "Output: 45\n",
        "\n",
        "</aside>"
      ],
      "metadata": {
        "id": "etcNEEKbIm6i"
      }
    },
    {
      "cell_type": "code",
      "source": [
        "def find_maximum(arr):\n",
        "    if len(arr) == 1:\n",
        "        return arr[0]\n",
        "    else:\n",
        "        return max(arr[0], find_maximum(arr[1:]))\n",
        "\n",
        "arr = [1, 4, 3, -5, -4, 8, 6]\n",
        "result = find_maximum(arr)\n",
        "print(result)  # Output: 8\n",
        "\n",
        "arr = [1, 4, 45, 6, 10, -8]\n",
        "result = find_maximum(arr)\n",
        "print(result)  # Output: 45\n"
      ],
      "metadata": {
        "colab": {
          "base_uri": "https://localhost:8080/"
        },
        "id": "IJX9Cb17InLM",
        "outputId": "5396d135-ef7f-4cfe-ecfa-cc57941c80b4"
      },
      "execution_count": 41,
      "outputs": [
        {
          "output_type": "stream",
          "name": "stdout",
          "text": [
            "8\n",
            "45\n"
          ]
        }
      ]
    },
    {
      "cell_type": "markdown",
      "source": [
        "<aside>\n",
        "💡 **Question 6**\n",
        "\n",
        "Given first term (a), common difference (d) and a integer N of the Arithmetic Progression series, the task is to find Nth term of the series.\n",
        "\n",
        "**Example 1:**\n",
        "\n",
        "Input : a = 2 d = 1 N = 5\n",
        "Output : 6\n",
        "The 5th term of the series is : 6\n",
        "\n",
        "**Example 2:**\n",
        "\n",
        "Input : a = 5 d = 2 N = 10\n",
        "Output : 23\n",
        "The 10th term of the series is : 23\n",
        "\n",
        "</aside>"
      ],
      "metadata": {
        "id": "Hmne25_HKg8o"
      }
    },
    {
      "cell_type": "code",
      "source": [
        "def nth_term_of_ap(a, d, N):\n",
        "    if N == 1:\n",
        "        return a\n",
        "    else:\n",
        "        return nth_term_of_ap(a + d, d, N - 1)\n",
        "\n",
        "a = 2\n",
        "d = 1\n",
        "N = 5\n",
        "result = nth_term_of_ap(a, d, N)\n",
        "print(result)  # Output: 6\n",
        "\n",
        "a = 5\n",
        "d = 2\n",
        "N = 10\n",
        "result = nth_term_of_ap(a, d, N)\n",
        "print(result)  # Output: 23\n"
      ],
      "metadata": {
        "colab": {
          "base_uri": "https://localhost:8080/"
        },
        "id": "EZDdFe18KhRT",
        "outputId": "400307c0-d9c6-4ae6-a631-862cb32e97ed"
      },
      "execution_count": 42,
      "outputs": [
        {
          "output_type": "stream",
          "name": "stdout",
          "text": [
            "6\n",
            "23\n"
          ]
        }
      ]
    },
    {
      "cell_type": "markdown",
      "source": [
        "<aside>\n",
        "💡 **Question 7**\n",
        "\n",
        "Given a string S, the task is to write a program to print all permutations of a given string.\n",
        "\n",
        "**Example 1:**\n",
        "\n",
        "***Input:***\n",
        "\n",
        "*S = “ABC”*\n",
        "\n",
        "***Output:***\n",
        "\n",
        "*“ABC”, “ACB”, “BAC”, “BCA”, “CBA”, “CAB”*\n",
        "\n",
        "**Example 2:**\n",
        "\n",
        "***Input:***\n",
        "\n",
        "*S = “XY”*\n",
        "\n",
        "***Output:***\n",
        "\n",
        "*“XY”, “YX”*\n",
        "\n",
        "</aside>"
      ],
      "metadata": {
        "id": "sANFWddyKiur"
      }
    },
    {
      "cell_type": "code",
      "source": [
        "def permute_string(S, l, r):\n",
        "    if l == r:\n",
        "        print(\"\".join(S))\n",
        "    else:\n",
        "        for i in range(l, r + 1):\n",
        "            S[l], S[i] = S[i], S[l]\n",
        "            permute_string(S, l + 1, r)\n",
        "            S[l], S[i] = S[i], S[l]  # Backtrack\n",
        "\n",
        "def print_permutations(S):\n",
        "    n = len(S)\n",
        "    permute_string(list(S), 0, n - 1)\n",
        "\n",
        "S = \"ABC\"\n",
        "print_permutations(S)\n",
        "\n",
        "S = \"XY\"\n",
        "print_permutations(S)\n",
        "\n"
      ],
      "metadata": {
        "colab": {
          "base_uri": "https://localhost:8080/"
        },
        "id": "SxsN7fNyKi_t",
        "outputId": "0eb85c3f-92ad-4f70-a6d8-e04f5b2821ef"
      },
      "execution_count": 43,
      "outputs": [
        {
          "output_type": "stream",
          "name": "stdout",
          "text": [
            "ABC\n",
            "ACB\n",
            "BAC\n",
            "BCA\n",
            "CBA\n",
            "CAB\n",
            "XY\n",
            "YX\n"
          ]
        }
      ]
    },
    {
      "cell_type": "markdown",
      "source": [
        "<aside>\n",
        "💡 **Question 8**\n",
        "\n",
        "Given an array, find a product of all array elements.\n",
        "\n",
        "**Example 1:**\n",
        "\n",
        "Input  : arr[] = {1, 2, 3, 4, 5}\n",
        "Output : 120\n",
        "**Example 2:**\n",
        "\n",
        "Input  : arr[] = {1, 6, 3}\n",
        "Output : 18\n",
        "\n",
        "</aside>"
      ],
      "metadata": {
        "id": "j7eclN_-KjYg"
      }
    },
    {
      "cell_type": "code",
      "source": [
        "def product_of_array(arr, n):\n",
        "    if n == 1:\n",
        "        return arr[0]\n",
        "    else:\n",
        "        return arr[n - 1] * product_of_array(arr, n - 1)\n",
        "\n",
        "arr = [1, 2, 3, 4, 5]\n",
        "n = len(arr)\n",
        "result = product_of_array(arr, n)\n",
        "print(result)  # Output: 120\n",
        "\n",
        "arr = [1, 6, 3]\n",
        "n = len(arr)\n",
        "result = product_of_array(arr, n)\n",
        "print(result)  # Output: 18\n"
      ],
      "metadata": {
        "colab": {
          "base_uri": "https://localhost:8080/"
        },
        "id": "w6xOFfqZKjrg",
        "outputId": "58ca6146-a95f-43e1-cc79-23889bacd356"
      },
      "execution_count": 44,
      "outputs": [
        {
          "output_type": "stream",
          "name": "stdout",
          "text": [
            "120\n",
            "18\n"
          ]
        }
      ]
    }
  ]
}