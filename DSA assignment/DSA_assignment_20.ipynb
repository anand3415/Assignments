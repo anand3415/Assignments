{
  "nbformat": 4,
  "nbformat_minor": 0,
  "metadata": {
    "colab": {
      "provenance": []
    },
    "kernelspec": {
      "name": "python3",
      "display_name": "Python 3"
    },
    "language_info": {
      "name": "python"
    }
  },
  "cells": [
    {
      "cell_type": "markdown",
      "source": [
        "<aside>\n",
        "💡 Question-1\n",
        "\n",
        "Given a binary tree, your task is to find subtree with maximum sum in tree.\n",
        "\n",
        "Examples:\n",
        "\n",
        "Input1 :\n",
        "\n",
        "       1\n",
        "\n",
        "     /   \\\n",
        "\n",
        "   2      3\n",
        "\n",
        "  / \\    / \\\n",
        "\n",
        "4   5  6   7\n",
        "\n",
        "Output1 : 28\n",
        "\n",
        "As all the tree elements are positive, the largest subtree sum is equal to sum of all tree elements.\n",
        "\n",
        "Input2 :\n",
        "\n",
        "       1\n",
        "\n",
        "     /    \\\n",
        "\n",
        "  -2      3\n",
        "\n",
        "  / \\    /  \\\n",
        "\n",
        "4   5  -6   2\n",
        "\n",
        "Output2 : 7\n",
        "\n",
        "Subtree with largest sum is :\n",
        "\n",
        " -2\n",
        "\n",
        " / \\\n",
        "\n",
        "4   5\n",
        "\n",
        "Also, entire tree sum is also 7.\n",
        "\n",
        "</aside>"
      ],
      "metadata": {
        "id": "xk6_O4fMGn7P"
      }
    },
    {
      "cell_type": "code",
      "source": [
        "class TreeNode:\n",
        "    def __init__(self, val):\n",
        "        self.val = val\n",
        "        self.left = None\n",
        "        self.right = None\n",
        "\n",
        "\n",
        "def max_subtree_sum(root):\n",
        "    max_sum = float('-inf')\n",
        "\n",
        "    def subtree_sum(node):\n",
        "        nonlocal max_sum\n",
        "\n",
        "        if not node:\n",
        "            return 0\n",
        "\n",
        "        left_sum = subtree_sum(node.left)\n",
        "        right_sum = subtree_sum(node.right)\n",
        "\n",
        "\n",
        "        subtree_total = left_sum + right_sum + node.val\n",
        "\n",
        "\n",
        "        max_sum = max(max_sum, subtree_total)\n",
        "\n",
        "\n",
        "        return max(0, left_sum + right_sum + node.val)\n",
        "\n",
        "    subtree_sum(root)\n",
        "    return max_sum\n",
        "\n",
        "\n",
        "\n",
        "\n",
        "root1 = TreeNode(1)\n",
        "root1.left = TreeNode(2)\n",
        "root1.right = TreeNode(3)\n",
        "root1.left.left = TreeNode(4)\n",
        "root1.left.right = TreeNode(5)\n",
        "root1.right.left = TreeNode(6)\n",
        "root1.right.right = TreeNode(7)\n",
        "print(max_subtree_sum(root1))\n",
        "\n"
      ],
      "metadata": {
        "colab": {
          "base_uri": "https://localhost:8080/"
        },
        "id": "VrsX5Rz5HFhR",
        "outputId": "d8b45689-2909-492e-87ea-507c1806119f"
      },
      "execution_count": 9,
      "outputs": [
        {
          "output_type": "stream",
          "name": "stdout",
          "text": [
            "28\n"
          ]
        }
      ]
    },
    {
      "cell_type": "markdown",
      "source": [
        "<aside>\n",
        "💡 Question-2\n",
        "\n",
        "Construct the BST (Binary Search Tree) from its given level order traversal.\n",
        "\n",
        "Example:\n",
        "\n",
        "Input: arr[] = {7, 4, 12, 3, 6, 8, 1, 5, 10}\n",
        "\n",
        "Output: BST:\n",
        "\n",
        "            7\n",
        "\n",
        "         /    \\\n",
        "\n",
        "       4     12\n",
        "\n",
        "     /  \\     /\n",
        "\n",
        "    3   6  8\n",
        "\n",
        "   /    /     \\\n",
        "\n",
        " 1    5      10\n",
        "\n",
        "</aside>"
      ],
      "metadata": {
        "id": "koLVFo8EGn9s"
      }
    },
    {
      "cell_type": "code",
      "source": [
        "class TreeNode:\n",
        "    def __init__(self, val):\n",
        "        self.val = val\n",
        "        self.left = None\n",
        "        self.right = None\n",
        "\n",
        "\n",
        "def insert_node(root, val):\n",
        "    if not root:\n",
        "        return TreeNode(val)\n",
        "\n",
        "    if val < root.val:\n",
        "        root.left = insert_node(root.left, val)\n",
        "    else:\n",
        "        root.right = insert_node(root.right, val)\n",
        "\n",
        "    return root\n",
        "\n",
        "\n",
        "def construct_bst(level_order):\n",
        "    if not level_order:\n",
        "        return None\n",
        "\n",
        "    root = None\n",
        "\n",
        "    for val in level_order:\n",
        "        root = insert_node(root, val)\n",
        "\n",
        "    return root\n",
        "\n",
        "\n",
        "def inorder_traversal(root):\n",
        "    if root:\n",
        "        inorder_traversal(root.left)\n",
        "        print(root.val, end=' ')\n",
        "        inorder_traversal(root.right)\n",
        "\n",
        "\n",
        "\n",
        "level_order = [7, 4, 12, 3, 6, 8, 1, 5, 10]\n",
        "root = construct_bst(level_order)\n",
        "inorder_traversal(root)\n"
      ],
      "metadata": {
        "colab": {
          "base_uri": "https://localhost:8080/"
        },
        "id": "iNdbSNsRHPXX",
        "outputId": "a58dd66f-e786-41c8-b456-ee986fd44956"
      },
      "execution_count": 10,
      "outputs": [
        {
          "output_type": "stream",
          "name": "stdout",
          "text": [
            "1 3 4 5 6 7 8 10 12 "
          ]
        }
      ]
    },
    {
      "cell_type": "markdown",
      "source": [
        "<aside>\n",
        "💡 Question-3\n",
        "\n",
        "Given an array of size n. The problem is to check whether the given array can represent the level order traversal of a Binary Search Tree or not.\n",
        "\n",
        "Examples:\n",
        "\n",
        "Input1 : arr[] = {7, 4, 12, 3, 6, 8, 1, 5, 10}\n",
        "\n",
        "Output1 : Yes\n",
        "\n",
        "For the given arr[], the Binary Search Tree is:\n",
        "\n",
        "            7\n",
        "\n",
        "         /    \\\n",
        "\n",
        "       4     12\n",
        "\n",
        "     /  \\     /\n",
        "\n",
        "    3   6  8\n",
        "\n",
        "   /    /     \\\n",
        "\n",
        " 1    5      10\n",
        "\n",
        "Input2 : arr[] = {11, 6, 13, 5, 12, 10}\n",
        "\n",
        "Output2 : No\n",
        "\n",
        "The given arr[] does not represent the level order traversal of a BST.\n",
        "\n",
        "</aside>"
      ],
      "metadata": {
        "id": "7f2JFcv5GoAF"
      }
    },
    {
      "cell_type": "code",
      "source": [
        "def is_level_order_bst(arr):\n",
        "    n = len(arr)\n",
        "    if n == 0:\n",
        "        return True\n",
        "\n",
        "    min_value = float('-inf')\n",
        "    max_value = float('inf')\n",
        "    i = 1\n",
        "\n",
        "    while i < n:\n",
        "        if arr[i] < min_value or arr[i] > max_value:\n",
        "            return False\n",
        "\n",
        "        if i < n - 1 and arr[i] > arr[i+1]:\n",
        "            max_value = arr[i]\n",
        "        else:\n",
        "            min_value = arr[i]\n",
        "\n",
        "        i += 1\n",
        "\n",
        "    return True\n",
        "\n",
        "\n",
        "\n",
        "arr1 = [7, 4, 12, 3, 6, 8, 1, 5, 10]\n",
        "print(is_level_order_bst(arr1))\n",
        "\n",
        "arr2 = [11, 6, 13, 5, 12, 10]\n",
        "print(is_level_order_bst(arr2))"
      ],
      "metadata": {
        "colab": {
          "base_uri": "https://localhost:8080/"
        },
        "id": "kumEgVu1HzTW",
        "outputId": "120c5d3a-10ef-4f82-e385-53e794e4fa94"
      },
      "execution_count": 11,
      "outputs": [
        {
          "output_type": "stream",
          "name": "stdout",
          "text": [
            "False\n",
            "False\n"
          ]
        }
      ]
    },
    {
      "cell_type": "code",
      "source": [],
      "metadata": {
        "id": "-mV_pA7qIEK6"
      },
      "execution_count": null,
      "outputs": []
    }
  ]
}