{
  "nbformat": 4,
  "nbformat_minor": 0,
  "metadata": {
    "colab": {
      "provenance": []
    },
    "kernelspec": {
      "name": "python3",
      "display_name": "Python 3"
    },
    "language_info": {
      "name": "python"
    }
  },
  "cells": [
    {
      "cell_type": "markdown",
      "source": [
        "<aside>\n",
        "💡 **Question 1**\n",
        "\n",
        "Given a non-negative integer `x`, return *the square root of* `x` *rounded down to the nearest integer*. The returned integer should be **non-negative** as well.\n",
        "\n",
        "You **must not use** any built-in exponent function or operator.\n",
        "\n",
        "- For example, do not use `pow(x, 0.5)` in c++ or `x ** 0.5` in python.\n",
        "\n",
        "**Example 1:**\n",
        "\n",
        "```\n",
        "Input: x = 4\n",
        "Output: 2\n",
        "Explanation: The square root of 4 is 2, so we return 2.\n",
        "\n",
        "```\n",
        "\n",
        "**Example 2:**\n",
        "```\n",
        "Input: x = 8\n",
        "Output: 2\n",
        "Explanation: The square root of 8 is 2.82842..., and since we round it down to the nearest integer, 2 is returned.\n",
        "```\n",
        "</aside>"
      ],
      "metadata": {
        "id": "abf9peZnHS84"
      }
    },
    {
      "cell_type": "code",
      "execution_count": 54,
      "metadata": {
        "colab": {
          "base_uri": "https://localhost:8080/"
        },
        "id": "bATT-pLhHL5B",
        "outputId": "dfce068c-97f0-42a4-b210-3ff25f6da388"
      },
      "outputs": [
        {
          "output_type": "stream",
          "name": "stdout",
          "text": [
            "2\n",
            "2\n"
          ]
        }
      ],
      "source": [
        "def mySqrt(x):\n",
        "    if x == 0 or x == 1:\n",
        "        return x\n",
        "    else:\n",
        "        return binary_search(0, x, x)\n",
        "\n",
        "\n",
        "def binary_search(low, high, target):\n",
        "    mid = (low + high) // 2\n",
        "    if mid * mid == target:\n",
        "        return mid\n",
        "    elif mid * mid > target:\n",
        "        return binary_search(low, mid - 1, target)\n",
        "    else:\n",
        "        if (mid + 1) * (mid + 1) > target:\n",
        "            return mid\n",
        "        else:\n",
        "            return binary_search(mid + 1, high, target)\n",
        "\n",
        "\n",
        "x = 4\n",
        "result = mySqrt(x)\n",
        "print(result)\n",
        "# Output: 2\n",
        "\n",
        "x = 8\n",
        "result = mySqrt(x)\n",
        "print(result)\n",
        "# Output: 2"
      ]
    },
    {
      "cell_type": "markdown",
      "source": [
        "<aside>\n",
        "💡 **Question 2**\n",
        "\n",
        "A peak element is an element that is strictly greater than its neighbors.\n",
        "\n",
        "Given a **0-indexed** integer array `nums`, find a peak element, and return its index. If the array contains multiple peaks, return the index to **any of the peaks**.\n",
        "\n",
        "You may imagine that `nums[-1] = nums[n] = -∞`. In other words, an element is always considered to be strictly greater than a neighbor that is outside the array.\n",
        "\n",
        "You must write an algorithm that runs in `O(log n)` time.\n",
        "\n",
        "**Example 1:**\n",
        "\n",
        "```\n",
        "Input: nums = [1,2,3,1]\n",
        "Output: 2\n",
        "Explanation: 3 is a peak element and your function should return the index number 2.\n",
        "```\n",
        "\n",
        "**Example 2:**\n",
        "```\n",
        "Input: nums = [1,2,1,3,5,6,4]\n",
        "Output: 5\n",
        "Explanation: Your function can return either index number 1 where the peak element is 2, or index number 5 where the peak element is 6.\n",
        "```\n",
        "</aside>"
      ],
      "metadata": {
        "id": "ku9HwIzxIk_s"
      }
    },
    {
      "cell_type": "code",
      "source": [
        "def findPeakElement(nums):\n",
        "    return binary_search(nums, 0, len(nums) - 1)\n",
        "\n",
        "\n",
        "def binary_search(nums, low, high):\n",
        "    if low == high:\n",
        "        return low\n",
        "    else:\n",
        "        mid = (low + high) // 2\n",
        "        if nums[mid] > nums[mid + 1]:\n",
        "            return binary_search(nums, low, mid)\n",
        "        else:\n",
        "            return binary_search(nums, mid + 1, high)\n",
        "\n",
        "nums = [1, 2, 3, 1]\n",
        "result = findPeakElement(nums)\n",
        "print(result)\n",
        "# Output: 2\n",
        "\n",
        "nums = [1, 2, 1, 3, 5, 6, 4]\n",
        "result = findPeakElement(nums)\n",
        "print(result)\n",
        "# Output: 5\n"
      ],
      "metadata": {
        "colab": {
          "base_uri": "https://localhost:8080/"
        },
        "id": "GT7oTrzZIlT-",
        "outputId": "7f6fda55-85db-4a12-c39f-855010e4257d"
      },
      "execution_count": 55,
      "outputs": [
        {
          "output_type": "stream",
          "name": "stdout",
          "text": [
            "2\n",
            "5\n"
          ]
        }
      ]
    },
    {
      "cell_type": "markdown",
      "source": [
        "<aside>\n",
        "💡 **Question 3**\n",
        "\n",
        "****\n",
        "\n",
        "Given an array `nums` containing `n` distinct numbers in the range `[0, n]`, return *the only number in the range that is missing from the array.*\n",
        "\n",
        "**Example 1:**\n",
        "\n",
        "```\n",
        "Input: nums = [3,0,1]\n",
        "Output: 2\n",
        "Explanation: n = 3 since there are 3 numbers, so all numbers are in the range [0,3]. 2 is the missing number in the range since it does not appear in nums.\n",
        "\n",
        "```\n",
        "\n",
        "**Example 2:**\n",
        "\n",
        "```\n",
        "Input: nums = [0,1]\n",
        "Output: 2\n",
        "Explanation: n = 2 since there are 2 numbers, so all numbers are in the range [0,2]. 2 is the missing number in the range since it does not appear in nums.\n",
        "\n",
        "```\n",
        "\n",
        "**Example 3:**\n",
        "```\n",
        "Input: nums = [9,6,4,2,3,5,7,0,1]\n",
        "Output: 8\n",
        "Explanation: n = 9 since there are 9 numbers, so all numbers are in the range [0,9]. 8 is the missing number in the range since it does not appear in nums.\n",
        "```\n",
        "</aside>"
      ],
      "metadata": {
        "id": "eD8WaMz9Ilji"
      }
    },
    {
      "cell_type": "code",
      "source": [
        "def missingNumber(nums):\n",
        "    n = len(nums)\n",
        "    return findMissing(nums, 0, n)\n",
        "\n",
        "\n",
        "def findMissing(nums, start, end):\n",
        "    if start == end:\n",
        "        return start\n",
        "    else:\n",
        "        mid = (start + end) // 2\n",
        "        if nums[mid] == mid:\n",
        "            return findMissing(nums, mid + 1, end)\n",
        "        else:\n",
        "            return findMissing(nums, start, mid)\n",
        "\n",
        "nums = [3, 0, 1]\n",
        "result = missingNumber(nums)\n",
        "print(result)\n",
        "# Output: 2\n",
        "\n",
        "nums = [0, 1]\n",
        "result = missingNumber(nums)\n",
        "print(result)\n",
        "# Output: 2\n",
        "\n",
        "nums = [9, 6, 4, 2, 3, 5, 7, 0, 1]\n",
        "result = missingNumber(nums)\n",
        "print(result)\n",
        "# Output: 8\n"
      ],
      "metadata": {
        "colab": {
          "base_uri": "https://localhost:8080/"
        },
        "id": "I-fKb8etIl3k",
        "outputId": "5ed768c2-d990-4af5-e514-283a87dd7be6"
      },
      "execution_count": 56,
      "outputs": [
        {
          "output_type": "stream",
          "name": "stdout",
          "text": [
            "0\n",
            "2\n",
            "0\n"
          ]
        }
      ]
    },
    {
      "cell_type": "markdown",
      "source": [
        "<aside>\n",
        "💡 **Question 4**\n",
        "\n",
        "Given a string calculate length of the string using recursion.\n",
        "\n",
        "**Examples:**\n",
        "```\n",
        "Input : str = \"abcd\"<aside>\n",
        "💡 **Question 4**\n",
        "\n",
        "Given an array of integers `nums` containing `n + 1` integers where each integer is in the range `[1, n]` inclusive.\n",
        "\n",
        "There is only **one repeated number** in `nums`, return *this repeated number*.\n",
        "\n",
        "You must solve the problem **without** modifying the array `nums` and uses only constant extra space.\n",
        "```\n",
        "**Example 1:**\n",
        "\n",
        "```\n",
        "Input: nums = [1,3,4,2,2]\n",
        "Output: 2\n",
        "\n",
        "```\n",
        "\n",
        "**Example 2:**\n",
        "```\n",
        "Input: nums = [3,1,3,4,2]\n",
        "Output: 3\n",
        "```\n",
        "</aside>"
      ],
      "metadata": {
        "id": "vAWfZRK6Imca"
      }
    },
    {
      "cell_type": "code",
      "source": [
        "def findDuplicate(nums):\n",
        "    n = len(nums) - 1\n",
        "    return findDuplicateHelper(nums, 1, n)\n",
        "\n",
        "\n",
        "def findDuplicateHelper(nums, start, end):\n",
        "    if start == end:\n",
        "        return start\n",
        "\n",
        "    mid = (start + end) // 2\n",
        "    count = countInRange(nums, start, mid)\n",
        "\n",
        "    if count > mid - start + 1:\n",
        "        return findDuplicateHelper(nums, start, mid)\n",
        "    else:\n",
        "        return findDuplicateHelper(nums, mid + 1, end)\n",
        "\n",
        "\n",
        "def countInRange(nums, start, end):\n",
        "    count = 0\n",
        "    for num in nums:\n",
        "        if start <= num <= end:\n",
        "            count += 1\n",
        "    return count\n",
        "\n",
        "nums = [1, 3, 4, 2, 2]\n",
        "result = findDuplicate(nums)\n",
        "print(result)\n",
        "# Output: 2\n",
        "\n",
        "nums = [3, 1, 3, 4, 2]\n",
        "result = findDuplicate(nums)\n",
        "print(result)\n",
        "# Output: 3\n"
      ],
      "metadata": {
        "colab": {
          "base_uri": "https://localhost:8080/"
        },
        "id": "b_GIWt4BImri",
        "outputId": "8a8cf7ce-3f28-4e45-acd8-d2bc06798d9f"
      },
      "execution_count": 58,
      "outputs": [
        {
          "output_type": "stream",
          "name": "stdout",
          "text": [
            "2\n",
            "3\n"
          ]
        }
      ]
    },
    {
      "cell_type": "markdown",
      "source": [
        "<aside>\n",
        "💡 **Question 5**\n",
        "\n",
        "Given two integer arrays `nums1` and `nums2`, return *an array of their intersection*. Each element in the result must be **unique** and you may return the result in **any order**.\n",
        "\n",
        "**Example 1:**\n",
        "\n",
        "```\n",
        "Input: nums1 = [1,2,2,1], nums2 = [2,2]\n",
        "Output: [2]\n",
        "\n",
        "```\n",
        "\n",
        "**Example 2:**\n",
        "```\n",
        "Input: nums1 = [4,9,5], nums2 = [9,4,9,8,4]\n",
        "Output: [9,4]\n",
        "Explanation: [4,9] is also accepted.\n",
        "```\n",
        "</aside>"
      ],
      "metadata": {
        "id": "etcNEEKbIm6i"
      }
    },
    {
      "cell_type": "code",
      "source": [
        "def intersection(nums1, nums2):\n",
        "    set1 = set(nums1)\n",
        "    set2 = set(nums2)\n",
        "    return list(set1.intersection(set2))\n",
        "\n",
        "nums1 = [1, 2, 2, 1]\n",
        "nums2 = [2, 2]\n",
        "result = intersection(nums1, nums2)\n",
        "print(result)\n",
        "# Output: [2]\n",
        "\n",
        "nums1 = [4, 9, 5]\n",
        "nums2 = [9, 4, 9, 8, 4]\n",
        "result = intersection(nums1, nums2)\n",
        "print(result)\n",
        "# Output: [9, 4]\n"
      ],
      "metadata": {
        "colab": {
          "base_uri": "https://localhost:8080/"
        },
        "id": "IJX9Cb17InLM",
        "outputId": "0e3e9781-abbc-4038-8116-b7f649ecceb5"
      },
      "execution_count": 59,
      "outputs": [
        {
          "output_type": "stream",
          "name": "stdout",
          "text": [
            "[2]\n",
            "[9, 4]\n"
          ]
        }
      ]
    },
    {
      "cell_type": "markdown",
      "source": [
        "<aside>\n",
        "💡 **Question 6**\n",
        "\n",
        "Suppose an array of length `n` sorted in ascending order is **rotated** between `1` and `n` times. For example, the array `nums = [0,1,2,4,5,6,7]` might become:\n",
        "\n",
        "- `[4,5,6,7,0,1,2]` if it was rotated `4` times.\n",
        "- `[0,1,2,4,5,6,7]` if it was rotated `7` times.\n",
        "\n",
        "Notice that **rotating** an array `[a[0], a[1], a[2], ..., a[n-1]]` 1 time results in the array `[a[n-1], a[0], a[1], a[2], ..., a[n-2]]`.\n",
        "\n",
        "Given the sorted rotated array `nums` of **unique** elements, return *the minimum element of this array*.\n",
        "\n",
        "You must write an algorithm that runs in `O(log n) time.`\n",
        "\n",
        "**Example 1:**\n",
        "\n",
        "```\n",
        "Input: nums = [3,4,5,1,2]\n",
        "Output: 1\n",
        "Explanation: The original array was [1,2,3,4,5] rotated 3 times.\n",
        "\n",
        "```\n",
        "\n",
        "**Example 2:**\n",
        "\n",
        "```\n",
        "Input: nums = [4,5,6,7,0,1,2]\n",
        "Output: 0\n",
        "Explanation: The original array was [0,1,2,4,5,6,7] and it was rotated 4 times.\n",
        "\n",
        "```\n",
        "\n",
        "**Example 3:**\n",
        "```\n",
        "Input: nums = [11,13,15,17]\n",
        "Output: 11\n",
        "Explanation: The original array was [11,13,15,17] and it was rotated 4 times.\n",
        "```\n",
        "</aside>"
      ],
      "metadata": {
        "id": "Hmne25_HKg8o"
      }
    },
    {
      "cell_type": "code",
      "source": [
        "def findMin(nums):\n",
        "    left = 0\n",
        "    right = len(nums) - 1\n",
        "\n",
        "    while left < right:\n",
        "        mid = left + (right - left) // 2\n",
        "\n",
        "        if nums[mid] > nums[right]:\n",
        "            left = mid + 1\n",
        "        else:\n",
        "            right = mid\n",
        "\n",
        "    return nums[left]\n",
        "\n",
        "nums = [3, 4, 5, 1, 2]\n",
        "min_element = findMin(nums)\n",
        "print(min_element)\n",
        "# Output: 1\n",
        "\n",
        "nums = [4, 5, 6, 7, 0, 1, 2]\n",
        "min_element = findMin(nums)\n",
        "print(min_element)\n",
        "# Output: 0\n",
        "\n",
        "nums = [11, 13, 15, 17]\n",
        "min_element = findMin(nums)\n",
        "print(min_element)\n",
        "# Output: 11\n"
      ],
      "metadata": {
        "colab": {
          "base_uri": "https://localhost:8080/"
        },
        "id": "EZDdFe18KhRT",
        "outputId": "6d9a257e-eaeb-42e1-d64f-4d575161356d"
      },
      "execution_count": 60,
      "outputs": [
        {
          "output_type": "stream",
          "name": "stdout",
          "text": [
            "1\n",
            "0\n",
            "11\n"
          ]
        }
      ]
    },
    {
      "cell_type": "markdown",
      "source": [
        "<aside>\n",
        "💡 **Question 7**\n",
        "\n",
        "Given an array of integers `nums` sorted in non-decreasing order, find the starting and ending position of a given `target` value.\n",
        "\n",
        "If `target` is not found in the array, return `[-1, -1]`.\n",
        "\n",
        "You must write an algorithm with `O(log n)` runtime complexity.\n",
        "\n",
        "**Example 1:**\n",
        "\n",
        "```\n",
        "Input: nums = [5,7,7,8,8,10], target = 8\n",
        "Output: [3,4]\n",
        "\n",
        "```\n",
        "\n",
        "**Example 2:**\n",
        "\n",
        "```\n",
        "Input: nums = [5,7,7,8,8,10], target = 6\n",
        "Output: [-1,-1]\n",
        "\n",
        "```\n",
        "\n",
        "**Example 3:**\n",
        "```\n",
        "Input: nums = [], target = 0\n",
        "Output: [-1,-1]\n",
        "```\n",
        "</aside>"
      ],
      "metadata": {
        "id": "sANFWddyKiur"
      }
    },
    {
      "cell_type": "code",
      "source": [
        "def searchRange(nums, target):\n",
        "    def findFirst(nums, target):\n",
        "        left = 0\n",
        "        right = len(nums) - 1\n",
        "        index = -1\n",
        "\n",
        "        while left <= right:\n",
        "            mid = left + (right - left) // 2\n",
        "\n",
        "            if nums[mid] >= target:\n",
        "                right = mid - 1\n",
        "                if nums[mid] == target:\n",
        "                    index = mid\n",
        "            else:\n",
        "                left = mid + 1\n",
        "\n",
        "        return index\n",
        "\n",
        "    def findLast(nums, target):\n",
        "        left = 0\n",
        "        right = len(nums) - 1\n",
        "        index = -1\n",
        "\n",
        "        while left <= right:\n",
        "            mid = left + (right - left) // 2\n",
        "\n",
        "            if nums[mid] <= target:\n",
        "                left = mid + 1\n",
        "                if nums[mid] == target:\n",
        "                    index = mid\n",
        "            else:\n",
        "                right = mid - 1\n",
        "\n",
        "        return index\n",
        "\n",
        "    first = findFirst(nums, target)\n",
        "    last = findLast(nums, target)\n",
        "\n",
        "    return [first, last]\n",
        "\n",
        "nums = [5, 7, 7, 8, 8, 10]\n",
        "target = 8\n",
        "result = searchRange(nums, target)\n",
        "print(result)\n",
        "# Output: [3, 4]\n",
        "\n",
        "nums = [5, 7, 7, 8, 8, 10]\n",
        "target = 6\n",
        "result = searchRange(nums, target)\n",
        "print(result)\n",
        "# Output: [-1, -1]\n",
        "\n",
        "nums = []\n",
        "target = 0\n",
        "result = searchRange(nums, target)\n",
        "print(result)\n",
        "# Output: [-1, -1]\n"
      ],
      "metadata": {
        "colab": {
          "base_uri": "https://localhost:8080/"
        },
        "id": "SxsN7fNyKi_t",
        "outputId": "672ef9f0-4e31-44b0-ec0a-41c2f9a460d7"
      },
      "execution_count": 61,
      "outputs": [
        {
          "output_type": "stream",
          "name": "stdout",
          "text": [
            "[3, 4]\n",
            "[-1, -1]\n",
            "[-1, -1]\n"
          ]
        }
      ]
    },
    {
      "cell_type": "markdown",
      "source": [
        "<aside>\n",
        "💡 **Question 8**\n",
        "\n",
        "Given two integer arrays `nums1` and `nums2`, return *an array of their intersection*. Each element in the result must appear as many times as it shows in both arrays and you may return the result in **any order**.\n",
        "\n",
        "**Example 1:**\n",
        "\n",
        "```\n",
        "Input: nums1 = [1,2,2,1], nums2 = [2,2]\n",
        "Output: [2,2]\n",
        "\n",
        "```\n",
        "\n",
        "**Example 2:**\n",
        "```\n",
        "Input: nums1 = [4,9,5], nums2 = [9,4,9,8,4]\n",
        "Output: [4,9]\n",
        "Explanation: [9,4] is also accepted.\n",
        "```\n",
        "</aside>"
      ],
      "metadata": {
        "id": "j7eclN_-KjYg"
      }
    },
    {
      "cell_type": "code",
      "source": [
        "from collections import Counter\n",
        "\n",
        "def intersect(nums1, nums2):\n",
        "    counter = Counter(nums1)\n",
        "    result = []\n",
        "\n",
        "    for num in nums2:\n",
        "        if counter[num] > 0:\n",
        "            result.append(num)\n",
        "            counter[num] -= 1\n",
        "\n",
        "    return result\n",
        "\n",
        "nums1 = [1, 2, 2, 1]\n",
        "nums2 = [2, 2]\n",
        "result = intersect(nums1, nums2)\n",
        "print(result)\n",
        "# Output: [2, 2]\n",
        "\n",
        "nums1 = [4, 9, 5]\n",
        "nums2 = [9, 4, 9, 8, 4]\n",
        "result = intersect(nums1, nums2)\n",
        "print(result)\n",
        "# Output: [4, 9]\n"
      ],
      "metadata": {
        "colab": {
          "base_uri": "https://localhost:8080/"
        },
        "id": "w6xOFfqZKjrg",
        "outputId": "e252f40e-4661-47d5-9337-2bebfdbd974a"
      },
      "execution_count": 62,
      "outputs": [
        {
          "output_type": "stream",
          "name": "stdout",
          "text": [
            "[2, 2]\n",
            "[9, 4]\n"
          ]
        }
      ]
    }
  ]
}