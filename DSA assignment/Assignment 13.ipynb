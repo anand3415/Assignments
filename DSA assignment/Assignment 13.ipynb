{
  "nbformat": 4,
  "nbformat_minor": 0,
  "metadata": {
    "colab": {
      "provenance": []
    },
    "kernelspec": {
      "name": "python3",
      "display_name": "Python 3"
    },
    "language_info": {
      "name": "python"
    }
  },
  "cells": [
    {
      "cell_type": "markdown",
      "source": [
        "<aside>\n",
        "💡 **Question 1**\n",
        "\n",
        "Given two linked list of the same size, the task is to create a new linked list using those linked lists. The condition is that the greater node among both linked list will be added to the new linked list.\n",
        "\n",
        "**Example 1:**\n",
        "```\n",
        "Input: list1 = 5->2->3->8\n",
        "list2 = 1->7->4->5\n",
        "Output: New list = 5->7->4->8\n",
        "```\n",
        "**Example 2:**\n",
        "```\n",
        "Input:list1 = 2->8->9->3\n",
        "list2 = 5->3->6->4\n",
        "Output: New list = 5->8->9->4\n",
        "```\n",
        "</aside>"
      ],
      "metadata": {
        "id": "Z1AT_xVXNzMy"
      }
    },
    {
      "cell_type": "code",
      "execution_count": 17,
      "metadata": {
        "colab": {
          "base_uri": "https://localhost:8080/"
        },
        "id": "fhnSmeMSNyeo",
        "outputId": "b60afe95-1ff9-40bf-aed1-b95f644bb891"
      },
      "outputs": [
        {
          "output_type": "stream",
          "name": "stdout",
          "text": [
            "5 7 4 8 "
          ]
        }
      ],
      "source": [
        "class Node:\n",
        "    def __init__(self, data):\n",
        "        self.data = data\n",
        "        self.next = None\n",
        "\n",
        "def create_linked_list(data):\n",
        "    head = None\n",
        "    prev = None\n",
        "    for i in data:\n",
        "        node = Node(i)\n",
        "        if head is None:\n",
        "            head = node\n",
        "        else:\n",
        "            prev.next = node\n",
        "        prev = node\n",
        "    return head\n",
        "\n",
        "def get_greater_node(node1, node2):\n",
        "    if node1.data > node2.data:\n",
        "        return node1\n",
        "    else:\n",
        "        return node2\n",
        "\n",
        "def create_new_linked_list(list1, list2):\n",
        "    head = None\n",
        "    prev = None\n",
        "    while list1 and list2:\n",
        "        node = get_greater_node(list1, list2)\n",
        "        if head is None:\n",
        "            head = node\n",
        "        else:\n",
        "            prev.next = node\n",
        "        prev = node\n",
        "        list1 = list1.next\n",
        "        list2 = list2.next\n",
        "    if list1 is not None:\n",
        "        prev.next = list1\n",
        "    else:\n",
        "        prev.next = list2\n",
        "    return head\n",
        "\n",
        "def print_linked_list(head):\n",
        "    while head:\n",
        "        print(head.data, end=\" \")\n",
        "        head = head.next\n",
        "\n",
        "if __name__ == \"__main__\":\n",
        "    list1 = create_linked_list([5, 2, 3, 8])\n",
        "    list2 = create_linked_list([1, 7, 4, 5])\n",
        "    new_head = create_new_linked_list(list1, list2)\n",
        "    print_linked_list(new_head)"
      ]
    },
    {
      "cell_type": "markdown",
      "source": [
        "<aside>\n",
        "💡 **Question 2**\n",
        "\n",
        "Write a function that takes a list sorted in non-decreasing order and deletes any duplicate nodes from the list. The list should only be traversed once.\n",
        "\n",
        "For example if the linked list is 11->11->11->21->43->43->60 then removeDuplicates() should convert the list to 11->21->43->60.\n",
        "\n",
        "**Example 1:**\n",
        "\n",
        "```\n",
        "Input:\n",
        "LinkedList:\n",
        "11->11->11->21->43->43->60\n",
        "Output:\n",
        "11->21->43->60\n",
        "```\n",
        "\n",
        "**Example 2:**\n",
        "```\n",
        "Input:\n",
        "LinkedList:\n",
        "10->12->12->25->25->25->34\n",
        "Output:\n",
        "10->12->25->34\n",
        "```\n",
        "</aside>"
      ],
      "metadata": {
        "id": "l3fzRvTJNzjt"
      }
    },
    {
      "cell_type": "code",
      "source": [
        "class Node:\n",
        "    def __init__(self, data):\n",
        "        self.data = data\n",
        "        self.next = None\n",
        "\n",
        "def create_linked_list(data):\n",
        "    head = None\n",
        "    prev = None\n",
        "    for i in data:\n",
        "        node = Node(i)\n",
        "        if head is None:\n",
        "            head = node\n",
        "        else:\n",
        "            prev.next = node\n",
        "        prev = node\n",
        "    return head\n",
        "\n",
        "def remove_duplicates(head):\n",
        "    curr = head\n",
        "    while curr:\n",
        "        next_node = curr.next\n",
        "        while next_node and next_node.data == curr.data:\n",
        "            next_node = next_node.next\n",
        "        curr.next = next_node\n",
        "        curr = next_node\n",
        "    return head\n",
        "\n",
        "def print_linked_list(head):\n",
        "    while head:\n",
        "        print(head.data, end=\" \")\n",
        "        head = head.next\n",
        "\n",
        "if __name__ == \"__main__\":\n",
        "    data = [11, 11, 11, 21, 43, 43, 60]\n",
        "    head = create_linked_list(data)\n",
        "    new_head = remove_duplicates(head)\n",
        "    print_linked_list(new_head)\n",
        "\n",
        "    print('\\n')\n",
        "\n",
        "    data = [10,12,12,25,25,25,34]\n",
        "    head = create_linked_list(data)\n",
        "    new_head = remove_duplicates(head)\n",
        "    print_linked_list(new_head)\n",
        ""
      ],
      "metadata": {
        "colab": {
          "base_uri": "https://localhost:8080/"
        },
        "id": "Dfz6sHuUNzwl",
        "outputId": "89c4cb4a-567f-4bc4-c59c-b615cd3df7f8"
      },
      "execution_count": 32,
      "outputs": [
        {
          "output_type": "stream",
          "name": "stdout",
          "text": [
            "11 21 43 60 \n",
            "\n",
            "10 12 25 34 "
          ]
        }
      ]
    },
    {
      "cell_type": "markdown",
      "source": [
        "<aside>\n",
        "💡 **Question 3**\n",
        "\n",
        "Given a linked list of size **N**. The task is to reverse every **k** nodes (where k is an input to the function) in the linked list. If the number of nodes is not a multiple of *k* then left-out nodes, in the end, should be considered as a group and must be reversed (See Example 2 for clarification).\n",
        "\n",
        "**Example 1:**\n",
        "\n",
        "```\n",
        "Input:\n",
        "LinkedList: 1->2->2->4->5->6->7->8\n",
        "K = 4\n",
        "Output:4 2 2 1 8 7 6 5\n",
        "Explanation:\n",
        "The first 4 elements 1,2,2,4 are reversed first\n",
        "and then the next 4 elements 5,6,7,8. Hence, the\n",
        "resultant linked list is 4->2->2->1->8->7->6->5.\n",
        "\n",
        "```\n",
        "\n",
        "**Example 2:**\n",
        "```\n",
        "Input:\n",
        "LinkedList: 1->2->3->4->5\n",
        "K = 3\n",
        "Output:3 2 1 5 4\n",
        "Explanation:\n",
        "The first 3 elements are 1,2,3 are reversed\n",
        "first and then elements 4,5 are reversed.Hence,\n",
        "the resultant linked list is 3->2->1->5->4.\n",
        "```\n",
        "</aside>"
      ],
      "metadata": {
        "id": "h0CayGJoN0Jr"
      }
    },
    {
      "cell_type": "code",
      "source": [
        "class ListNode:\n",
        "    def __init__(self, val=0, next=None):\n",
        "        self.val = val\n",
        "        self.next = next\n",
        "\n",
        "def reverseKNodes(head, k):\n",
        "    if not head or k == 1:\n",
        "        return head\n",
        "\n",
        "    dummy = ListNode(0)\n",
        "    dummy.next = head\n",
        "    prev = dummy\n",
        "\n",
        "    while True:\n",
        "        start = prev.next\n",
        "        end = prev\n",
        "\n",
        "        for _ in range(k):\n",
        "            end = end.next\n",
        "            if not end:\n",
        "                return dummy.next\n",
        "\n",
        "        next_block = end.next\n",
        "        end.next = None\n",
        "        prev.next = reverseList(start)\n",
        "        start.next = next_block\n",
        "        prev = start\n",
        "\n",
        "def reverseList(head):\n",
        "    prev = None\n",
        "    curr = head\n",
        "\n",
        "    while curr:\n",
        "        next_node = curr.next\n",
        "        curr.next = prev\n",
        "        prev = curr\n",
        "        curr = next_node\n",
        "\n",
        "    return prev\n",
        "\n",
        "\n",
        "head = ListNode(1)\n",
        "head.next = ListNode(2)\n",
        "head.next.next = ListNode(2)\n",
        "head.next.next.next = ListNode(4)\n",
        "head.next.next.next.next = ListNode(5)\n",
        "head.next.next.next.next.next = ListNode(6)\n",
        "head.next.next.next.next.next.next = ListNode(7)\n",
        "head.next.next.next.next.next.next.next = ListNode(8)\n",
        "\n",
        "k = 4\n",
        "new_head = reverseKNodes(head, k)\n",
        "\n",
        "# Print the modified linked list\n",
        "curr = new_head\n",
        "while curr:\n",
        "    print(curr.val, end=\" \")\n",
        "    curr = curr.next\n",
        "\n",
        "print('\\n')\n",
        "\n",
        "head = ListNode(1)\n",
        "head.next = ListNode(2)\n",
        "head.next.next = ListNode(3)\n",
        "head.next.next.next = ListNode(4)\n",
        "head.next.next.next.next = ListNode(5)\n",
        "\n",
        "k = 3\n",
        "new_head = reverseKNodes(head, k)\n",
        "\n",
        "# Print the modified linked list\n",
        "curr = new_head\n",
        "while curr:\n",
        "    print(curr.val, end=\" \")\n",
        "    curr = curr.next"
      ],
      "metadata": {
        "colab": {
          "base_uri": "https://localhost:8080/"
        },
        "id": "vROSEyNAN0Xx",
        "outputId": "7b9d7a0b-e495-4bc6-ec06-1a7bc339c897"
      },
      "execution_count": 21,
      "outputs": [
        {
          "output_type": "stream",
          "name": "stdout",
          "text": [
            "4 2 2 1 8 7 6 5 \n",
            "\n",
            "3 2 1 4 5 "
          ]
        }
      ]
    },
    {
      "cell_type": "markdown",
      "source": [
        "<aside>\n",
        "💡 **Question 4**\n",
        "\n",
        "Given a linked list, write a function to reverse every alternate k nodes (where k is an input to the function) in an efficient way. Give the complexity of your algorithm.\n",
        "\n",
        "**Example:**\n",
        "```\n",
        "Inputs:   1->2->3->4->5->6->7->8->9->NULL and k = 3\n",
        "Output:   3->2->1->4->5->6->9->8->7->NULL.\n",
        "```\n",
        "</aside>"
      ],
      "metadata": {
        "id": "GAnNdo8yN0mA"
      }
    },
    {
      "cell_type": "code",
      "source": [
        "class Node:\n",
        "    def __init__(self, data):\n",
        "        self.data = data\n",
        "        self.next = None\n",
        "\n",
        "def create_linked_list(data):\n",
        "    head = None\n",
        "    prev = None\n",
        "    for i in data:\n",
        "        node = Node(i)\n",
        "        if head is None:\n",
        "            head = node\n",
        "        else:\n",
        "            prev.next = node\n",
        "        prev = node\n",
        "    return head\n",
        "\n",
        "def reverse_k_nodes(head, k):\n",
        "    current = head\n",
        "    prev = None\n",
        "    next_node = None\n",
        "    count = 0\n",
        "    while current and count < k:\n",
        "        next_node = current.next\n",
        "        current.next = prev\n",
        "        prev = current\n",
        "        current = next_node\n",
        "        count += 1\n",
        "\n",
        "    if next_node:\n",
        "        head.next = reverse_k_nodes(next_node, k)\n",
        "\n",
        "    return prev\n",
        "\n",
        "def print_linked_list(head):\n",
        "    while head:\n",
        "        print(head.data, end=\" \")\n",
        "        head = head.next\n",
        "\n",
        "if __name__ == \"__main__\":\n",
        "    data = [1, 2, 3, 4, 5, 6, 7, 8, 9]\n",
        "    head = create_linked_list(data)\n",
        "    new_head = reverse_k_nodes(head, 3)\n",
        "    print_linked_list(new_head)"
      ],
      "metadata": {
        "colab": {
          "base_uri": "https://localhost:8080/"
        },
        "id": "J-4iO3LvN04Z",
        "outputId": "8ff66a7c-3ded-444d-94ab-91af3ed5119b"
      },
      "execution_count": 23,
      "outputs": [
        {
          "output_type": "stream",
          "name": "stdout",
          "text": [
            "3 2 1 6 5 4 9 8 7 "
          ]
        }
      ]
    },
    {
      "cell_type": "markdown",
      "source": [
        "<aside>\n",
        "💡 **Question 5**\n",
        "\n",
        "Given a linked list and a key to be deleted. Delete last occurrence of key from linked. The list may have duplicates.\n",
        "\n",
        "**Examples**:\n",
        "```\n",
        "Input:   1->2->3->5->2->10, key = 2\n",
        "Output:  1->2->3->5->10\n",
        "```\n",
        "</aside>"
      ],
      "metadata": {
        "id": "0J-QLqvGN1IV"
      }
    },
    {
      "cell_type": "code",
      "source": [
        "class ListNode:\n",
        "    def __init__(self, val=0, next=None):\n",
        "        self.val = val\n",
        "        self.next = next\n",
        "\n",
        "def deleteLastOccurrence(head, key):\n",
        "    if not head:\n",
        "        return head\n",
        "\n",
        "    dummy = ListNode(0)\n",
        "    dummy.next = head\n",
        "    prev = dummy\n",
        "    last_occurrence = None\n",
        "    curr = head\n",
        "\n",
        "    while curr:\n",
        "        if curr.val == key:\n",
        "            last_occurrence = prev\n",
        "\n",
        "        prev = curr\n",
        "        curr = curr.next\n",
        "\n",
        "    if last_occurrence:\n",
        "        last_occurrence.next = last_occurrence.next.next\n",
        "\n",
        "    return dummy.next\n",
        "\n",
        "head = ListNode(1)\n",
        "head.next = ListNode(2)\n",
        "head.next.next = ListNode(3)\n",
        "head.next.next.next = ListNode(5)\n",
        "head.next.next.next.next = ListNode(2)\n",
        "head.next.next.next.next.next = ListNode(10)\n",
        "\n",
        "key = 2\n",
        "new_head = deleteLastOccurrence(head, key)\n",
        "\n",
        "# Print the modified linked list\n",
        "curr = new_head\n",
        "while curr:\n",
        "    print(curr.val, end=\" \")\n",
        "    curr = curr.next\n"
      ],
      "metadata": {
        "colab": {
          "base_uri": "https://localhost:8080/"
        },
        "id": "hy1F2-ZIN1UM",
        "outputId": "725d92ce-c5b1-444d-ae53-3641f4a3cf49"
      },
      "execution_count": 25,
      "outputs": [
        {
          "output_type": "stream",
          "name": "stdout",
          "text": [
            "1 2 3 5 10 "
          ]
        }
      ]
    },
    {
      "cell_type": "markdown",
      "source": [
        "<aside>\n",
        "💡 **Question 6**\n",
        "\n",
        "Given two sorted linked lists consisting of **N** and **M** nodes respectively. The task is to merge both of the lists (in place) and return the head of the merged list.\n",
        "\n",
        "**Examples:**\n",
        "\n",
        "Input: a: 5->10->15, b: 2->3->20\n",
        "\n",
        "Output: 2->3->5->10->15->20\n",
        "\n",
        "Input: a: 1->1, b: 2->4\n",
        "\n",
        "Output: 1->1->2->4\n",
        "\n",
        "</aside>"
      ],
      "metadata": {
        "id": "pGHWhdAZN1o1"
      }
    },
    {
      "cell_type": "code",
      "source": [
        "class ListNode:\n",
        "    def __init__(self, val=0, next=None):\n",
        "        self.val = val\n",
        "        self.next = next\n",
        "\n",
        "def mergeLists(a, b):\n",
        "    if not a:\n",
        "        return b\n",
        "    if not b:\n",
        "        return a\n",
        "\n",
        "    if a.val < b.val:\n",
        "        head = a\n",
        "        a = a.next\n",
        "    else:\n",
        "        head = b\n",
        "        b = b.next\n",
        "\n",
        "    curr = head\n",
        "\n",
        "    while a and b:\n",
        "        if a.val < b.val:\n",
        "            curr.next = a\n",
        "            a = a.next\n",
        "        else:\n",
        "            curr.next = b\n",
        "            b = b.next\n",
        "        curr = curr.next\n",
        "\n",
        "    if a:\n",
        "        curr.next = a\n",
        "    elif b:\n",
        "        curr.next = b\n",
        "\n",
        "    return head\n",
        "\n",
        "\n",
        "# Create the first linked list: 5->10->15\n",
        "a = ListNode(5)\n",
        "a.next = ListNode(10)\n",
        "a.next.next = ListNode(15)\n",
        "\n",
        "# Create the second linked list: 2->3->20\n",
        "b = ListNode(2)\n",
        "b.next = ListNode(3)\n",
        "b.next.next = ListNode(20)\n",
        "\n",
        "merged = mergeLists(a, b)\n",
        "\n",
        "# Print the merged linked list\n",
        "curr = merged\n",
        "while curr:\n",
        "    print(curr.val, end=\" \")\n",
        "    curr = curr.next\n"
      ],
      "metadata": {
        "colab": {
          "base_uri": "https://localhost:8080/"
        },
        "id": "lPgkh3rrN2GQ",
        "outputId": "416c4cdd-3940-49ce-ec23-df82edef4493"
      },
      "execution_count": 27,
      "outputs": [
        {
          "output_type": "stream",
          "name": "stdout",
          "text": [
            "2 3 5 10 15 20 "
          ]
        }
      ]
    },
    {
      "cell_type": "markdown",
      "source": [
        "<aside>\n",
        "💡 **Question 7**\n",
        "\n",
        "Given a **Doubly Linked List**, the task is to reverse the given Doubly Linked List.\n",
        "\n",
        "**Example:**\n",
        "```\n",
        "Original Linked list 10 8 4 2\n",
        "Reversed Linked list 2 4 8 10\n",
        "```\n",
        "</aside>"
      ],
      "metadata": {
        "id": "lw4z6he2N2R2"
      }
    },
    {
      "cell_type": "code",
      "source": [
        "class Node:\n",
        "    def __init__(self, data):\n",
        "        self.data = data\n",
        "        self.prev = None\n",
        "        self.next = None\n",
        "\n",
        "def create_doubly_linked_list(data):\n",
        "    head = None\n",
        "    prev = None\n",
        "    for i in data:\n",
        "        node = Node(i)\n",
        "        if head is None:\n",
        "            head = node\n",
        "        else:\n",
        "            prev.next = node\n",
        "        node.prev = prev\n",
        "        prev = node\n",
        "    return head\n",
        "\n",
        "def reverse_doubly_linked_list(head):\n",
        "    prev = None\n",
        "    curr = head\n",
        "    while curr:\n",
        "        next_node = curr.next\n",
        "        curr.next = prev\n",
        "        curr.prev = next_node\n",
        "        prev = curr\n",
        "        curr = next_node\n",
        "    return prev\n",
        "\n",
        "def print_doubly_linked_list(head):\n",
        "    while head:\n",
        "        print(head.data, end=\" \")\n",
        "        head = head.next\n",
        "\n",
        "if __name__ == \"__main__\":\n",
        "    data = [10, 8, 4, 2]\n",
        "    head = create_doubly_linked_list(data)\n",
        "    reversed_head = reverse_doubly_linked_list(head)\n",
        "    print_doubly_linked_list(reversed_head)"
      ],
      "metadata": {
        "colab": {
          "base_uri": "https://localhost:8080/"
        },
        "id": "fYRteYplN2hS",
        "outputId": "c4fed9d3-5608-47a9-845b-15e0f8d162c0"
      },
      "execution_count": 28,
      "outputs": [
        {
          "output_type": "stream",
          "name": "stdout",
          "text": [
            "2 4 8 10 "
          ]
        }
      ]
    },
    {
      "cell_type": "markdown",
      "source": [
        "<aside>\n",
        "💡 **Question 8**\n",
        "\n",
        "Given a doubly linked list and a position. The task is to delete a node from given position in a doubly linked list.\n",
        "\n",
        "**Example 1:**\n",
        "\n",
        "```\n",
        "Input:\n",
        "LinkedList = 1 <--> 3 <--> 4\n",
        "x = 3\n",
        "Output:1 3\n",
        "Explanation:After deleting the node at\n",
        "position 3 (position starts from 1),\n",
        "the linked list will be now as 1->3.\n",
        "\n",
        "```\n",
        "\n",
        "**Example 2:**\n",
        "```\n",
        "Input:\n",
        "LinkedList = 1 <--> 5 <--> 2 <--> 9\n",
        "x = 1\n",
        "Output:5 2 9\n",
        "```\n",
        "</aside>"
      ],
      "metadata": {
        "id": "S7fQtJ9PQxl5"
      }
    },
    {
      "cell_type": "code",
      "source": [
        "class Node:\n",
        "    def __init__(self, data):\n",
        "        self.data = data\n",
        "        self.prev = None\n",
        "        self.next = None\n",
        "\n",
        "def create_doubly_linked_list(data):\n",
        "    head = None\n",
        "    prev = None\n",
        "    for i in data:\n",
        "        node = Node(i)\n",
        "        if head is None:\n",
        "            head = node\n",
        "        else:\n",
        "            prev.next = node\n",
        "        node.prev = prev\n",
        "        prev = node\n",
        "    return head\n",
        "\n",
        "def delete_node_at_position(head, position):\n",
        "    if position == 1:\n",
        "        head = head.next\n",
        "        head.prev = None\n",
        "        return head\n",
        "    curr = head\n",
        "    count = 1\n",
        "    while curr and count < position:\n",
        "        curr = curr.next\n",
        "        count += 1\n",
        "    if curr is None:\n",
        "        return head\n",
        "    curr.prev.next = curr.next\n",
        "    if curr.next:\n",
        "        curr.next.prev = curr.prev\n",
        "    return head\n",
        "\n",
        "def print_doubly_linked_list(head):\n",
        "    while head:\n",
        "        print(head.data, end=\" \")\n",
        "        head = head.next\n",
        "\n",
        "if __name__ == \"__main__\":\n",
        "    data = [1, 5, 2, 9]\n",
        "    head = create_doubly_linked_list(data)\n",
        "    new_head = delete_node_at_position(head, 1)\n",
        "    print_doubly_linked_list(new_head)"
      ],
      "metadata": {
        "colab": {
          "base_uri": "https://localhost:8080/"
        },
        "id": "y3yMCucLQxzN",
        "outputId": "b37cfb1e-4b58-4f1c-c6f9-4b0b14932d81"
      },
      "execution_count": 29,
      "outputs": [
        {
          "output_type": "stream",
          "name": "stdout",
          "text": [
            "5 2 9 "
          ]
        }
      ]
    }
  ]
}