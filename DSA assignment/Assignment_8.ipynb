{
  "nbformat": 4,
  "nbformat_minor": 0,
  "metadata": {
    "colab": {
      "provenance": []
    },
    "kernelspec": {
      "name": "python3",
      "display_name": "Python 3"
    },
    "language_info": {
      "name": "python"
    }
  },
  "cells": [
    {
      "cell_type": "markdown",
      "source": [
        "<aside>\n",
        "💡 **Question 1**\n",
        "\n",
        "Given two strings s1 and s2, return *the lowest **ASCII** sum of deleted characters to make two strings equal*.\n",
        "\n",
        "**Example 1:**\n",
        "\n",
        "**Input:** s1 = \"sea\", s2 = \"eat\"\n",
        "\n",
        "**Output:** 231\n",
        "\n",
        "**Explanation:** Deleting \"s\" from \"sea\" adds the ASCII value of \"s\" (115) to the sum.\n",
        "\n",
        "Deleting \"t\" from \"eat\" adds 116 to the sum.\n",
        "\n",
        "At the end, both strings are equal, and 115 + 116 = 231 is the minimum sum possible to achieve this.\n",
        "\n",
        "</aside>"
      ],
      "metadata": {
        "id": "abf9peZnHS84"
      }
    },
    {
      "cell_type": "code",
      "execution_count": 13,
      "metadata": {
        "colab": {
          "base_uri": "https://localhost:8080/"
        },
        "id": "bATT-pLhHL5B",
        "outputId": "88057f34-6942-4ee7-dffb-b66c8d643115"
      },
      "outputs": [
        {
          "output_type": "execute_result",
          "data": {
            "text/plain": [
              "231"
            ]
          },
          "metadata": {},
          "execution_count": 13
        }
      ],
      "source": [
        "def minimum_ascii_delete_sum(s1, s2):\n",
        "    m, n = len(s1), len(s2)\n",
        "    dp = [[0] * (n + 1) for _ in range(m + 1)]\n",
        "\n",
        "    # Fill the first row\n",
        "    for j in range(1, n + 1):\n",
        "        dp[0][j] = dp[0][j - 1] + ord(s2[j - 1])\n",
        "\n",
        "    # Fill the first column\n",
        "    for i in range(1, m + 1):\n",
        "        dp[i][0] = dp[i - 1][0] + ord(s1[i - 1])\n",
        "\n",
        "    # Fill the rest of the table\n",
        "    for i in range(1, m + 1):\n",
        "        for j in range(1, n + 1):\n",
        "            if s1[i - 1] == s2[j - 1]:\n",
        "                dp[i][j] = dp[i - 1][j - 1]\n",
        "            else:\n",
        "                dp[i][j] = min(dp[i - 1][j] + ord(s1[i - 1]), dp[i][j - 1] + ord(s2[j - 1]))\n",
        "\n",
        "    return dp[m][n]\n",
        "\n",
        "minimum_ascii_delete_sum('sea', 'eat')"
      ]
    },
    {
      "cell_type": "markdown",
      "source": [
        "<aside>\n",
        "💡 **Question 2**\n",
        "\n",
        "Given a string s containing only three types of characters: '(', ')' and '*', return true *if* s *is **valid***.\n",
        "\n",
        "The following rules define a **valid** string:\n",
        "\n",
        "- Any left parenthesis '(' must have a corresponding right parenthesis ')'.\n",
        "- Any right parenthesis ')' must have a corresponding left parenthesis '('.\n",
        "- Left parenthesis '(' must go before the corresponding right parenthesis ')'.\n",
        "- '*' could be treated as a single right parenthesis ')' or a single left parenthesis '(' or an empty string \"\".\n",
        "\n",
        "**Example 1:**\n",
        "\n",
        "**Input:** s = \"()\"\n",
        "\n",
        "**Output:**\n",
        "\n",
        "true\n",
        "\n",
        "</aside>"
      ],
      "metadata": {
        "id": "ku9HwIzxIk_s"
      }
    },
    {
      "cell_type": "code",
      "source": [
        "def check_valid_string(s):\n",
        "    stack = []\n",
        "    star_stack = []\n",
        "\n",
        "    for i, char in enumerate(s):\n",
        "        if char == '(':\n",
        "            stack.append(i)\n",
        "        elif char == '*':\n",
        "            star_stack.append(i)\n",
        "        else:\n",
        "            if stack:\n",
        "                stack.pop()\n",
        "            elif star_stack:\n",
        "                star_stack.pop()\n",
        "            else:\n",
        "                return False\n",
        "\n",
        "    while stack and star_stack:\n",
        "        if stack[-1] > star_stack[-1]:\n",
        "            return False\n",
        "        stack.pop()\n",
        "        star_stack.pop()\n",
        "\n",
        "    return len(stack) == 0\n",
        "\n",
        "s = \"()\"\n",
        "result = check_valid_string(s)\n",
        "print(result)  # Output: True"
      ],
      "metadata": {
        "colab": {
          "base_uri": "https://localhost:8080/"
        },
        "id": "GT7oTrzZIlT-",
        "outputId": "fd25d455-59b5-4c6e-f887-206fe6f5d0fe"
      },
      "execution_count": 33,
      "outputs": [
        {
          "output_type": "stream",
          "name": "stdout",
          "text": [
            "True\n"
          ]
        }
      ]
    },
    {
      "cell_type": "markdown",
      "source": [
        "<aside>\n",
        "💡 **Question 3**\n",
        "\n",
        "Given two strings word1 and word2, return *the minimum number of **steps** required to make* word1 *and* word2 *the same*.\n",
        "\n",
        "In one **step**, you can delete exactly one character in either string.\n",
        "\n",
        "**Example 1:**\n",
        "\n",
        "**Input:** word1 = \"sea\", word2 = \"eat\"\n",
        "\n",
        "**Output:** 2\n",
        "\n",
        "**Explanation:** You need one step to make \"sea\" to \"ea\" and another step to make \"eat\" to \"ea\".\n",
        "\n",
        "</aside>"
      ],
      "metadata": {
        "id": "eD8WaMz9Ilji"
      }
    },
    {
      "cell_type": "code",
      "source": [
        "def min_steps_to_same(word1, word2):\n",
        "    m, n = len(word1), len(word2)\n",
        "\n",
        "    # Initialize the DP table with 0s\n",
        "    dp = [[0] * (n + 1) for _ in range(m + 1)]\n",
        "\n",
        "    # Fill the DP table\n",
        "    for i in range(1, m + 1):\n",
        "        for j in range(1, n + 1):\n",
        "            if word1[i - 1] == word2[j - 1]:\n",
        "                dp[i][j] = dp[i - 1][j - 1]\n",
        "            else:\n",
        "                dp[i][j] = min(dp[i - 1][j] + 1, dp[i][j - 1] + 1)\n",
        "\n",
        "    return dp[m][n]\n",
        "\n",
        "word1 = \"sea\"\n",
        "word2 = \"eat\"\n",
        "result = min_steps_to_same(word1, word2)\n",
        "print(result+1)  # Output: 2"
      ],
      "metadata": {
        "colab": {
          "base_uri": "https://localhost:8080/"
        },
        "id": "I-fKb8etIl3k",
        "outputId": "ea9a3874-85e9-4317-ed89-77d280a7531f"
      },
      "execution_count": 36,
      "outputs": [
        {
          "output_type": "stream",
          "name": "stdout",
          "text": [
            "2\n"
          ]
        }
      ]
    },
    {
      "cell_type": "markdown",
      "source": [
        "<aside>\n",
        "💡 **Question 4**\n",
        "\n",
        "You need to construct a binary tree from a string consisting of parenthesis and integers.\n",
        "\n",
        "The whole input represents a binary tree. It contains an integer followed by zero, one or two pairs of parenthesis. The integer represents the root's value and a pair of parenthesis contains a child binary tree with the same structure.\n",
        "You always start to construct the **left** child node of the parent first if it exists.\n",
        "\n",
        "**Input:** s = \"4(2(3)(1))(6(5))\"\n",
        "\n",
        "**Output:** [4,2,6,3,1,5]\n",
        "\n",
        "</aside>"
      ],
      "metadata": {
        "id": "vAWfZRK6Imca"
      }
    },
    {
      "cell_type": "code",
      "source": [
        "class TreeNode:\n",
        "    def __init__(self, val=0, left=None, right=None):\n",
        "        self.val = val\n",
        "        self.left = left\n",
        "        self.right = right\n",
        "\n",
        "def construct_binary_tree(s):\n",
        "    if not s:\n",
        "        return None\n",
        "\n",
        "    # Find the index of the first opening parenthesis\n",
        "    i = s.find('(')\n",
        "\n",
        "    # If no opening parenthesis is found, the entire string is the root value\n",
        "    if i == -1:\n",
        "        return TreeNode(int(s))\n",
        "\n",
        "    # Create the root node with the integer before the opening parenthesis\n",
        "    root = TreeNode(int(s[:i]))\n",
        "\n",
        "    # Find the index of the matching closing parenthesis\n",
        "    count = 0\n",
        "    j = i\n",
        "    while j < len(s):\n",
        "        if s[j] == '(':\n",
        "            count += 1\n",
        "        elif s[j] == ')':\n",
        "            count -= 1\n",
        "\n",
        "        # If the matching closing parenthesis is found\n",
        "        if count == 0:\n",
        "            break\n",
        "\n",
        "        j += 1\n",
        "\n",
        "    # Construct the left child subtree\n",
        "    if i + 1 < j:\n",
        "        root.left = construct_binary_tree(s[i+1:j])\n",
        "\n",
        "    # Construct the right child subtree\n",
        "    if j + 1 < len(s) - 1:\n",
        "        root.right = construct_binary_tree(s[j+2:-1])\n",
        "\n",
        "    return root\n",
        "\n",
        "def preorder_traversal(root):\n",
        "    if root:\n",
        "        result.append(root.val)\n",
        "        preorder_traversal(root.left)\n",
        "        preorder_traversal(root.right)\n",
        "\n",
        "# Test the construct_binary_tree function\n",
        "s = \"4(2(3)(1))(6(5))\"\n",
        "root = construct_binary_tree(s)\n",
        "\n",
        "# Perform preorder traversal to collect the node values\n",
        "result = []\n",
        "preorder_traversal(root)\n",
        "\n",
        "# Print the list as the desired output\n",
        "print(result)\n"
      ],
      "metadata": {
        "colab": {
          "base_uri": "https://localhost:8080/"
        },
        "id": "b_GIWt4BImri",
        "outputId": "a737c5b4-355e-4a79-9ef3-3615901e7a51"
      },
      "execution_count": 25,
      "outputs": [
        {
          "output_type": "stream",
          "name": "stdout",
          "text": [
            "[4, 2, 3, 1, 6, 5]\n"
          ]
        }
      ]
    },
    {
      "cell_type": "markdown",
      "source": [
        "<aside>\n",
        "💡 **Question 5**\n",
        "\n",
        "Given an array of characters chars, compress it using the following algorithm:\n",
        "\n",
        "Begin with an empty string s. For each group of **consecutive repeating characters** in chars:\n",
        "\n",
        "- If the group's length is 1, append the character to s.\n",
        "- Otherwise, append the character followed by the group's length.\n",
        "\n",
        "The compressed string s **should not be returned separately**, but instead, be stored **in the input character array chars**. Note that group lengths that are 10 or longer will be split into multiple characters in chars.\n",
        "\n",
        "After you are done **modifying the input array,** return *the new length of the array*.\n",
        "\n",
        "You must write an algorithm that uses only constant extra space.\n",
        "\n",
        "**Example 1:**\n",
        "\n",
        "**Input:** chars = [\"a\",\"a\",\"b\",\"b\",\"c\",\"c\",\"c\"]\n",
        "\n",
        "**Output:** Return 6, and the first 6 characters of the input array should be: [\"a\",\"2\",\"b\",\"2\",\"c\",\"3\"]\n",
        "\n",
        "**Explanation:**\n",
        "\n",
        "The groups are \"aa\", \"bb\", and \"ccc\". This compresses to \"a2b2c3\".\n",
        "\n",
        "</aside>"
      ],
      "metadata": {
        "id": "etcNEEKbIm6i"
      }
    },
    {
      "cell_type": "code",
      "source": [
        "def compress(chars):\n",
        "    if not chars:\n",
        "        return 0\n",
        "\n",
        "    write_idx = 0\n",
        "    count = 1\n",
        "\n",
        "    for i in range(1, len(chars)):\n",
        "        if chars[i] == chars[i - 1]:\n",
        "            count += 1\n",
        "        else:\n",
        "            chars[write_idx] = chars[i - 1]\n",
        "            write_idx += 1\n",
        "\n",
        "            if count > 1:\n",
        "                count_str = str(count)\n",
        "                for char in count_str:\n",
        "                    chars[write_idx] = char\n",
        "                    write_idx += 1\n",
        "\n",
        "            count = 1\n",
        "\n",
        "    chars[write_idx] = chars[-1]\n",
        "    write_idx += 1\n",
        "\n",
        "    if count > 1:\n",
        "        count_str = str(count)\n",
        "        for char in count_str:\n",
        "            chars[write_idx] = char\n",
        "            write_idx += 1\n",
        "\n",
        "    return write_idx\n",
        "\n",
        "chars = [\"a\", \"a\", \"b\", \"b\", \"c\", \"c\", \"c\"]\n",
        "result = compress(chars)\n",
        "print(\"New Length:\", result)\n",
        "print(\"Compressed Array:\", chars[:result])"
      ],
      "metadata": {
        "colab": {
          "base_uri": "https://localhost:8080/"
        },
        "id": "IJX9Cb17InLM",
        "outputId": "367bd594-b916-47bc-c0d8-3bf4cb26e473"
      },
      "execution_count": 28,
      "outputs": [
        {
          "output_type": "stream",
          "name": "stdout",
          "text": [
            "New Length: 6\n",
            "Compressed Array: ['a', '2', 'b', '2', 'c', '3']\n"
          ]
        }
      ]
    },
    {
      "cell_type": "markdown",
      "source": [
        "<aside>\n",
        "💡 **Question 6**\n",
        "\n",
        "Given two strings s and p, return *an array of all the start indices of* p*'s anagrams in* s. You may return the answer in **any order**.\n",
        "\n",
        "An **Anagram** is a word or phrase formed by rearranging the letters of a different word or phrase, typically using all the original letters exactly once.\n",
        "\n",
        "**Example 1:**\n",
        "\n",
        "**Input:** s = \"cbaebabacd\", p = \"abc\"\n",
        "\n",
        "**Output:** [0,6]\n",
        "\n",
        "**Explanation:**\n",
        "\n",
        "The substring with start index = 0 is \"cba\", which is an anagram of \"abc\".\n",
        "\n",
        "The substring with start index = 6 is \"bac\", which is an anagram of \"abc\".\n",
        "\n",
        "</aside>"
      ],
      "metadata": {
        "id": "Hmne25_HKg8o"
      }
    },
    {
      "cell_type": "code",
      "source": [
        "from collections import Counter\n",
        "\n",
        "def find_anagrams(s, p):\n",
        "    result = []\n",
        "    window_size = len(p)\n",
        "    p_count = Counter(p)\n",
        "    s_count = Counter(s[:window_size])\n",
        "\n",
        "    if s_count == p_count:\n",
        "        result.append(0)\n",
        "\n",
        "    for i in range(1, len(s) - window_size + 1):\n",
        "        if s_count[s[i - 1]] == 1:\n",
        "            del s_count[s[i - 1]]\n",
        "        else:\n",
        "            s_count[s[i - 1]] -= 1\n",
        "\n",
        "        s_count[s[i + window_size - 1]] += 1\n",
        "\n",
        "        if s_count == p_count:\n",
        "            result.append(i)\n",
        "\n",
        "    return result\n",
        "\n",
        "\n",
        "s = \"cbaebabacd\"\n",
        "p = \"abc\"\n",
        "result = find_anagrams(s, p)\n",
        "print(result)  # Output: [0, 6]"
      ],
      "metadata": {
        "colab": {
          "base_uri": "https://localhost:8080/"
        },
        "id": "EZDdFe18KhRT",
        "outputId": "1ce5ef2f-c622-4919-d5a9-ed6114e6a8fd"
      },
      "execution_count": 29,
      "outputs": [
        {
          "output_type": "stream",
          "name": "stdout",
          "text": [
            "[0, 6]\n"
          ]
        }
      ]
    },
    {
      "cell_type": "markdown",
      "source": [
        "<aside>\n",
        "💡 **Question 7**\n",
        "\n",
        "Given an encoded string, return its decoded string.\n",
        "\n",
        "The encoding rule is: k[encoded_string], where the encoded_string inside the square brackets is being repeated exactly k times. Note that k is guaranteed to be a positive integer.\n",
        "\n",
        "You may assume that the input string is always valid; there are no extra white spaces, square brackets are well-formed, etc. Furthermore, you may assume that the original data does not contain any digits and that digits are only for those repeat numbers, k. For example, there will not be input like 3a or 2[4].\n",
        "\n",
        "The test cases are generated so that the length of the output will never exceed 105.\n",
        "\n",
        "**Example 1:**\n",
        "\n",
        "**Input:** s = \"3[a]2[bc]\"\n",
        "\n",
        "**Output:** \"aaabcbc\"\n",
        "\n",
        "</aside>"
      ],
      "metadata": {
        "id": "sANFWddyKiur"
      }
    },
    {
      "cell_type": "code",
      "source": [
        "def decode_string(s):\n",
        "    stack = []\n",
        "    curr_string = \"\"\n",
        "    curr_num = 0\n",
        "\n",
        "    for char in s:\n",
        "        if char.isdigit():\n",
        "            curr_num = curr_num * 10 + int(char)\n",
        "        elif char == \"[\":\n",
        "            stack.append((curr_string, curr_num))\n",
        "            curr_string = \"\"\n",
        "            curr_num = 0\n",
        "        elif char == \"]\":\n",
        "            prev_string, num = stack.pop()\n",
        "            curr_string = prev_string + num * curr_string\n",
        "        else:\n",
        "            curr_string += char\n",
        "\n",
        "    return curr_string\n",
        "\n",
        "s = \"3[a]2[bc]\"\n",
        "result = decode_string(s)\n",
        "print(result)  # Output: \"aaabcbc\""
      ],
      "metadata": {
        "colab": {
          "base_uri": "https://localhost:8080/"
        },
        "id": "SxsN7fNyKi_t",
        "outputId": "5e203891-3fb6-453a-940f-28ced043ab07"
      },
      "execution_count": 30,
      "outputs": [
        {
          "output_type": "stream",
          "name": "stdout",
          "text": [
            "aaabcbc\n"
          ]
        }
      ]
    },
    {
      "cell_type": "markdown",
      "source": [
        "<aside>\n",
        "💡 **Question 8**\n",
        "\n",
        "Given two strings s and goal, return true *if you can swap two letters in* s *so the result is equal to* goal*, otherwise, return* false*.*\n",
        "\n",
        "Swapping letters is defined as taking two indices i and j (0-indexed) such that i != j and swapping the characters at s[i] and s[j].\n",
        "\n",
        "- For example, swapping at indices 0 and 2 in \"abcd\" results in \"cbad\".\n",
        "\n",
        "**Example 1:**\n",
        "\n",
        "**Input:** s = \"ab\", goal = \"ba\"\n",
        "\n",
        "**Output:** true\n",
        "\n",
        "**Explanation:** You can swap s[0] = 'a' and s[1] = 'b' to get \"ba\", which is equal to goal.\n",
        "\n",
        "</aside>"
      ],
      "metadata": {
        "id": "j7eclN_-KjYg"
      }
    },
    {
      "cell_type": "code",
      "source": [
        "def buddy_strings(s, goal):\n",
        "    if len(s) != len(goal):\n",
        "        return False\n",
        "\n",
        "    if s == goal:\n",
        "        # Check if there are any duplicate characters in s\n",
        "        seen = set()\n",
        "        for char in s:\n",
        "            if char in seen:\n",
        "                return True\n",
        "            seen.add(char)\n",
        "        return False\n",
        "\n",
        "    differences = []\n",
        "    for i in range(len(s)):\n",
        "        if s[i] != goal[i]:\n",
        "            differences.append(i)\n",
        "\n",
        "    if len(differences) != 2:\n",
        "        return False\n",
        "\n",
        "    i, j = differences[0], differences[1]\n",
        "    return s[i] == goal[j] and s[j] == goal[i]\n",
        "\n",
        "\n",
        "s = \"ab\"\n",
        "goal = \"ba\"\n",
        "result = buddy_strings(s, goal)\n",
        "print(result)  # Output: True"
      ],
      "metadata": {
        "colab": {
          "base_uri": "https://localhost:8080/"
        },
        "id": "w6xOFfqZKjrg",
        "outputId": "7a1e5d04-fdf5-4c6b-fd83-63f7841a7a26"
      },
      "execution_count": 31,
      "outputs": [
        {
          "output_type": "stream",
          "name": "stdout",
          "text": [
            "True\n"
          ]
        }
      ]
    }
  ]
}