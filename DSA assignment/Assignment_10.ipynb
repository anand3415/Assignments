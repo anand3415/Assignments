{
  "nbformat": 4,
  "nbformat_minor": 0,
  "metadata": {
    "colab": {
      "provenance": []
    },
    "kernelspec": {
      "name": "python3",
      "display_name": "Python 3"
    },
    "language_info": {
      "name": "python"
    }
  },
  "cells": [
    {
      "cell_type": "markdown",
      "source": [
        "<aside>\n",
        "💡 **Question 1**\n",
        "\n",
        "Given an integer `n`, return *`true` if it is a power of three. Otherwise, return `false`*.\n",
        "\n",
        "An integer `n` is a power of three, if there exists an integer `x` such that `n == 3x`.\n",
        "\n",
        "**Example 1:**\n",
        "\n",
        "```\n",
        "Input: n = 27\n",
        "Output: true\n",
        "Explanation: 27 = 33\n",
        "```\n",
        "\n",
        "**Example 2:**\n",
        "\n",
        "```\n",
        "Input: n = 0\n",
        "Output: false\n",
        "Explanation: There is no x where 3x = 0.\n",
        "\n",
        "```\n",
        "\n",
        "**Example 3:**\n",
        "```\n",
        "Input: n = -1\n",
        "Output: false\n",
        "Explanation: There is no x where 3x = (-1).\n",
        "```\n",
        "</aside>"
      ],
      "metadata": {
        "id": "abf9peZnHS84"
      }
    },
    {
      "cell_type": "code",
      "execution_count": 45,
      "metadata": {
        "colab": {
          "base_uri": "https://localhost:8080/"
        },
        "id": "bATT-pLhHL5B",
        "outputId": "29d24364-8329-4fa4-8f47-272450817101"
      },
      "outputs": [
        {
          "output_type": "stream",
          "name": "stdout",
          "text": [
            "True\n",
            "False\n",
            "False\n"
          ]
        }
      ],
      "source": [
        "def is_power_of_three(n):\n",
        "    if n == 1:\n",
        "        return True\n",
        "    elif n <= 0 or n % 3 != 0:\n",
        "        return False\n",
        "    else:\n",
        "        return is_power_of_three(n // 3)\n",
        "\n",
        "\n",
        "n = 27\n",
        "result = is_power_of_three(n)\n",
        "print(result)  # Output: True\n",
        "\n",
        "n = 0\n",
        "result = is_power_of_three(n)\n",
        "print(result)  # Output: False\n",
        "\n",
        "n = -1\n",
        "result = is_power_of_three(n)\n",
        "print(result)  # Output: False\n"
      ]
    },
    {
      "cell_type": "markdown",
      "source": [
        "<aside>\n",
        "💡 **Question 2**\n",
        "\n",
        "You have a list `arr` of all integers in the range `[1, n]` sorted in a strictly increasing order. Apply the following algorithm on `arr`:\n",
        "\n",
        "- Starting from left to right, remove the first number and every other number afterward until you reach the end of the list.\n",
        "- Repeat the previous step again, but this time from right to left, remove the rightmost number and every other number from the remaining numbers.\n",
        "- Keep repeating the steps again, alternating left to right and right to left, until a single number remains.\n",
        "\n",
        "Given the integer `n`, return *the last number that remains in* `arr`.\n",
        "\n",
        "**Example 1:**\n",
        "\n",
        "```\n",
        "Input: n = 9\n",
        "Output: 6\n",
        "Explanation:\n",
        "arr = [1, 2,3, 4,5, 6,7, 8,9]\n",
        "arr = [2,4, 6,8]\n",
        "arr = [2, 6]\n",
        "arr = [6]\n",
        "\n",
        "```\n",
        "\n",
        "**Example 2:**\n",
        "```\n",
        "Input: n = 1\n",
        "Output: 1\n",
        "```\n",
        "</aside>"
      ],
      "metadata": {
        "id": "ku9HwIzxIk_s"
      }
    },
    {
      "cell_type": "code",
      "source": [
        "def last_remaining(n):\n",
        "    if n == 1:\n",
        "        return 1\n",
        "    else:\n",
        "        return 2 * (n // 2 + 1 - last_remaining(n // 2))\n",
        "\n",
        "n = 9\n",
        "result = last_remaining(n)\n",
        "print(result)  # Output: 6\n",
        "\n",
        "n = 1\n",
        "result = last_remaining(n)\n",
        "print(result)  # Output: 1\n"
      ],
      "metadata": {
        "colab": {
          "base_uri": "https://localhost:8080/"
        },
        "id": "GT7oTrzZIlT-",
        "outputId": "8d88ed89-e460-49fe-a262-b5aba68e6bea"
      },
      "execution_count": 46,
      "outputs": [
        {
          "output_type": "stream",
          "name": "stdout",
          "text": [
            "6\n",
            "1\n"
          ]
        }
      ]
    },
    {
      "cell_type": "markdown",
      "source": [
        "<aside>\n",
        "💡 **Question 3**\n",
        "\n",
        "****Given a set represented as a string, write a recursive code to print all subsets of it. The subsets can be printed in any order.\n",
        "\n",
        "**Example 1:**\n",
        "\n",
        "Input :  set = “abc”\n",
        "\n",
        "Output : { “”, “a”, “b”, “c”, “ab”, “ac”, “bc”, “abc”}\n",
        "\n",
        "**Example 2:**\n",
        "\n",
        "Input : set = “abcd”\n",
        "\n",
        "Output : { “”, “a” ,”ab” ,”abc” ,”abcd”, “abd” ,”ac” ,”acd”, “ad” ,”b”, “bc” ,”bcd” ,”bd” ,”c” ,”cd” ,”d” }\n",
        "\n",
        "</aside>"
      ],
      "metadata": {
        "id": "eD8WaMz9Ilji"
      }
    },
    {
      "cell_type": "code",
      "source": [
        "def print_subsets(s, curr_subset, index):\n",
        "    n = len(s)\n",
        "\n",
        "    if index == n:\n",
        "        print(curr_subset)\n",
        "        return\n",
        "\n",
        "    # Include current character in the subset\n",
        "    print_subsets(s, curr_subset + s[index], index + 1)\n",
        "\n",
        "    # Exclude current character from the subset\n",
        "    print_subsets(s, curr_subset, index + 1)\n",
        "\n",
        "def print_all_subsets(s):\n",
        "    print_subsets(s, \"\", 0)\n",
        "\n",
        "\n",
        "s = \"abc\"\n",
        "print_all_subsets(s)\n",
        "\n",
        "s = \"abcd\"\n",
        "print_all_subsets(s)"
      ],
      "metadata": {
        "colab": {
          "base_uri": "https://localhost:8080/"
        },
        "id": "I-fKb8etIl3k",
        "outputId": "a87505a3-7233-4596-da59-1054338d709d"
      },
      "execution_count": 47,
      "outputs": [
        {
          "output_type": "stream",
          "name": "stdout",
          "text": [
            "abc\n",
            "ab\n",
            "ac\n",
            "a\n",
            "bc\n",
            "b\n",
            "c\n",
            "\n",
            "abcd\n",
            "abc\n",
            "abd\n",
            "ab\n",
            "acd\n",
            "ac\n",
            "ad\n",
            "a\n",
            "bcd\n",
            "bc\n",
            "bd\n",
            "b\n",
            "cd\n",
            "c\n",
            "d\n",
            "\n"
          ]
        }
      ]
    },
    {
      "cell_type": "markdown",
      "source": [
        "<aside>\n",
        "💡 **Question 4**\n",
        "\n",
        "Given a string calculate length of the string using recursion.\n",
        "\n",
        "**Examples:**\n",
        "```\n",
        "Input : str = \"abcd\"\n",
        "Output :4\n",
        "\n",
        "Input : str = \"GEEKSFORGEEKS\"\n",
        "Output :13\n",
        "```\n",
        "</aside>"
      ],
      "metadata": {
        "id": "vAWfZRK6Imca"
      }
    },
    {
      "cell_type": "code",
      "source": [
        "def string_length(string):\n",
        "    if string == \"\":\n",
        "        return 0\n",
        "    else:\n",
        "        return 1 + string_length(string[1:])\n",
        "\n",
        "\n",
        "string = \"abcd\"\n",
        "length = string_length(string)\n",
        "print(length)  # Output: 4\n",
        "\n",
        "string = \"GEEKSFORGEEKS\"\n",
        "length = string_length(string)\n",
        "print(length)  # Output: 13\n"
      ],
      "metadata": {
        "colab": {
          "base_uri": "https://localhost:8080/"
        },
        "id": "b_GIWt4BImri",
        "outputId": "1453bd2b-d588-45f7-e315-659d88123eb2"
      },
      "execution_count": 48,
      "outputs": [
        {
          "output_type": "stream",
          "name": "stdout",
          "text": [
            "4\n",
            "13\n"
          ]
        }
      ]
    },
    {
      "cell_type": "markdown",
      "source": [
        "<aside>\n",
        "💡 **Question 5**\n",
        "\n",
        "We are given a string S, we need to find count of all contiguous substrings starting and ending with same character.\n",
        "\n",
        "**Examples :**\n",
        "```\n",
        "Input  : S = \"abcab\"\n",
        "Output : 7\n",
        "There are 15 substrings of \"abcab\"\n",
        "a, ab, abc, abca, abcab, b, bc, bca\n",
        "bcab, c, ca, cab, a, ab, b\n",
        "Out of the above substrings, there\n",
        "are 7 substrings : a, abca, b, bcab,\n",
        "c, a and b.\n",
        "\n",
        "Input  : S = \"aba\"\n",
        "Output : 4\n",
        "The substrings are a, b, a and aba\n",
        "```\n",
        "</aside>"
      ],
      "metadata": {
        "id": "etcNEEKbIm6i"
      }
    },
    {
      "cell_type": "code",
      "source": [
        "def count_contiguous_substrings(string):\n",
        "    n = len(string)\n",
        "    count = 0\n",
        "\n",
        "    for i in range(n):\n",
        "        j = i\n",
        "        while j < n:\n",
        "            if string[i] == string[j]:\n",
        "                count += 1\n",
        "            j += 1\n",
        "\n",
        "    return count\n",
        "\n",
        "string = \"abcab\"\n",
        "count = count_contiguous_substrings(string)\n",
        "print(count)  # Output: 7\n",
        "\n",
        "string = \"aba\"\n",
        "count = count_contiguous_substrings(string)\n",
        "print(count)  # Output: 4\n"
      ],
      "metadata": {
        "colab": {
          "base_uri": "https://localhost:8080/"
        },
        "id": "IJX9Cb17InLM",
        "outputId": "95b256c2-8ab2-44ec-953a-f4ecaa6aa9aa"
      },
      "execution_count": 50,
      "outputs": [
        {
          "output_type": "stream",
          "name": "stdout",
          "text": [
            "7\n",
            "4\n"
          ]
        }
      ]
    },
    {
      "cell_type": "markdown",
      "source": [
        "<aside>\n",
        "💡 **Question 6**\n",
        "\n",
        "The [tower of Hanoi](https://en.wikipedia.org/wiki/Tower_of_Hanoi) is a famous puzzle where we have three rods and **N** disks. The objective of the puzzle is to move the entire stack to another rod. You are given the number of discs **N**. Initially, these discs are in the rod 1. You need to print all the steps of discs movement so that all the discs reach the 3rd rod. Also, you need to find the total moves.**Note:** The discs are arranged such that the **top disc is numbered 1** and the **bottom-most disc is numbered N**. Also, all the discs have **different sizes** and a bigger disc **cannot** be put on the top of a smaller disc. Refer the provided link to get a better clarity about the puzzle.\n",
        "\n",
        "**Example 1:**\n",
        "\n",
        "```\n",
        "Input:\n",
        "N = 2\n",
        "Output:\n",
        "move disk 1 from rod 1 to rod 2\n",
        "move disk 2 from rod 1 to rod 3\n",
        "move disk 1 from rod 2 to rod 3\n",
        "3\n",
        "Explanation:For N=2 , steps will be\n",
        "as follows in the example and total\n",
        "3 steps will be taken.\n",
        "```\n",
        "\n",
        "**Example 2:**\n",
        "```\n",
        "Input:\n",
        "N = 3\n",
        "Output:\n",
        "move disk 1 from rod 1 to rod 3\n",
        "move disk 2 from rod 1 to rod 2\n",
        "move disk 1 from rod 3 to rod 2\n",
        "move disk 3 from rod 1 to rod 3\n",
        "move disk 1 from rod 2 to rod 1\n",
        "move disk 2 from rod 2 to rod 3\n",
        "move disk 1 from rod 1 to rod 3\n",
        "7\n",
        "Explanation:For N=3 , steps will be\n",
        "as follows in the example and total\n",
        "7 steps will be taken.\n",
        "```\n",
        "</aside>"
      ],
      "metadata": {
        "id": "Hmne25_HKg8o"
      }
    },
    {
      "cell_type": "code",
      "source": [
        "def tower_of_hanoi(n, source, auxiliary, destination):\n",
        "    if n == 1:\n",
        "        print(\"move disk 1 from rod\", source, \"to rod\", destination)\n",
        "        return 1\n",
        "    else:\n",
        "        count = (\n",
        "            tower_of_hanoi(n - 1, source, destination, auxiliary)\n",
        "            + 1\n",
        "            + tower_of_hanoi(n - 1, auxiliary, source, destination)\n",
        "        )\n",
        "        print(\"move disk\", n, \"from rod\", source, \"to rod\", destination)\n",
        "        return count\n",
        "\n",
        "\n",
        "def solve_tower_of_hanoi(n):\n",
        "    source = 1\n",
        "    auxiliary = 2\n",
        "    destination = 3\n",
        "    count = tower_of_hanoi(n, source, auxiliary, destination)\n",
        "    print(count)\n",
        "\n",
        "\n",
        "n = 2\n",
        "solve_tower_of_hanoi(n)\n",
        "\n",
        "n = 3\n",
        "solve_tower_of_hanoi(n)"
      ],
      "metadata": {
        "colab": {
          "base_uri": "https://localhost:8080/"
        },
        "id": "EZDdFe18KhRT",
        "outputId": "b00ec062-a424-447a-9807-86d310d8fb0f"
      },
      "execution_count": 51,
      "outputs": [
        {
          "output_type": "stream",
          "name": "stdout",
          "text": [
            "move disk 1 from rod 1 to rod 2\n",
            "move disk 1 from rod 2 to rod 3\n",
            "move disk 2 from rod 1 to rod 3\n",
            "3\n",
            "move disk 1 from rod 1 to rod 3\n",
            "move disk 1 from rod 3 to rod 2\n",
            "move disk 2 from rod 1 to rod 2\n",
            "move disk 1 from rod 2 to rod 1\n",
            "move disk 1 from rod 1 to rod 3\n",
            "move disk 2 from rod 2 to rod 3\n",
            "move disk 3 from rod 1 to rod 3\n",
            "7\n"
          ]
        }
      ]
    },
    {
      "cell_type": "markdown",
      "source": [
        "<aside>\n",
        "💡 **Question 7**\n",
        "\n",
        "Given a string **str**, the task is to print all the permutations of **str**. A **permutation** is an arrangement of all or part of a set of objects, with regard to the order of the arrangement. For instance, the words ‘bat’ and ‘tab’ represents two distinct permutation (or arrangements) of a similar three letter word.\n",
        "\n",
        "**Examples:**\n",
        "\n",
        "> Input: str = “cd”\n",
        ">\n",
        ">\n",
        "> **Output:** cd dc\n",
        ">\n",
        "> **Input:** str = “abb”\n",
        ">\n",
        "> **Output:** abb abb bab bba bab bba\n",
        ">\n",
        "</aside>"
      ],
      "metadata": {
        "id": "sANFWddyKiur"
      }
    },
    {
      "cell_type": "code",
      "source": [
        "def swap(string, i, j):\n",
        "    # Utility function to swap characters at positions i and j in a string\n",
        "    temp = list(string)\n",
        "    temp[i], temp[j] = temp[j], temp[i]\n",
        "    return ''.join(temp)\n",
        "\n",
        "\n",
        "def permutations(string, left, right):\n",
        "    if left == right:\n",
        "        print(string)\n",
        "    else:\n",
        "        for i in range(left, right + 1):\n",
        "            # Fix the character at position left and recursively generate permutations for the remaining positions\n",
        "            string = swap(string, left, i)\n",
        "            permutations(string, left + 1, right)\n",
        "            # Backtrack by swapping the characters back to their original positions\n",
        "            string = swap(string, left, i)\n",
        "\n",
        "\n",
        "def print_all_permutations(string):\n",
        "    n = len(string)\n",
        "    permutations(string, 0, n - 1)\n",
        "\n",
        "string = \"cd\"\n",
        "print_all_permutations(string)\n",
        "\n",
        "string = \"abb\"\n",
        "print_all_permutations(string)"
      ],
      "metadata": {
        "colab": {
          "base_uri": "https://localhost:8080/"
        },
        "id": "SxsN7fNyKi_t",
        "outputId": "707446b2-7c35-4284-e052-12103f22ef5c"
      },
      "execution_count": 52,
      "outputs": [
        {
          "output_type": "stream",
          "name": "stdout",
          "text": [
            "cd\n",
            "dc\n",
            "abb\n",
            "abb\n",
            "bab\n",
            "bba\n",
            "bba\n",
            "bab\n"
          ]
        }
      ]
    },
    {
      "cell_type": "markdown",
      "source": [
        "<aside>\n",
        "💡 **Question 8**\n",
        "\n",
        "Given a string, count total number of consonants in it. A consonant is an English alphabet character that is not vowel (a, e, i, o and u). Examples of constants are b, c, d, f, and g.\n",
        "\n",
        "**Examples :**\n",
        "```\n",
        "Input : abc de\n",
        "Output : 3\n",
        "There are three consonants b, c and d.\n",
        "\n",
        "Input : geeksforgeeks portal\n",
        "Output : 12\n",
        "```\n",
        "</aside>"
      ],
      "metadata": {
        "id": "j7eclN_-KjYg"
      }
    },
    {
      "cell_type": "code",
      "source": [
        "def is_consonant(character):\n",
        "    # Function to check if a character is a consonant\n",
        "    vowels = ['a', 'e', 'i', 'o', 'u']\n",
        "    return character.isalpha() and character.lower() not in vowels\n",
        "\n",
        "\n",
        "def count_consonants(string):\n",
        "    if string == \"\":\n",
        "        return 0\n",
        "    else:\n",
        "        first_character = string[0]\n",
        "        rest_of_string = string[1:]\n",
        "        count = count_consonants(rest_of_string)\n",
        "        if is_consonant(first_character):\n",
        "            count += 1\n",
        "        return count\n",
        "\n",
        "\n",
        "def print_consonant_count(string):\n",
        "    count = count_consonants(string)\n",
        "    print(count)\n",
        "\n",
        "\n",
        "string = \"abc de\"\n",
        "print_consonant_count(string)\n",
        "# Output: 3\n",
        "\n",
        "string = \"geeksforgeeks portal\"\n",
        "print_consonant_count(string)\n",
        "# Output: 12"
      ],
      "metadata": {
        "colab": {
          "base_uri": "https://localhost:8080/"
        },
        "id": "w6xOFfqZKjrg",
        "outputId": "3c749e59-7e25-4bbe-812e-1012ace3bec8"
      },
      "execution_count": 53,
      "outputs": [
        {
          "output_type": "stream",
          "name": "stdout",
          "text": [
            "3\n",
            "12\n"
          ]
        }
      ]
    }
  ]
}