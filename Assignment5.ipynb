{
  "nbformat": 4,
  "nbformat_minor": 0,
  "metadata": {
    "colab": {
      "provenance": []
    },
    "kernelspec": {
      "name": "python3",
      "display_name": "Python 3"
    },
    "language_info": {
      "name": "python"
    }
  },
  "cells": [
    {
      "cell_type": "markdown",
      "source": [
        "1. What does an empty dictionary&#39;s code look like?"
      ],
      "metadata": {
        "id": "zZhXNYGpFMWE"
      }
    },
    {
      "cell_type": "code",
      "execution_count": null,
      "metadata": {
        "id": "gfppMK5bFFRq"
      },
      "outputs": [],
      "source": [
        "a = {}"
      ]
    },
    {
      "cell_type": "markdown",
      "source": [
        "2. What is the value of a dictionary value with the key &#39;foo&#39; and the value 42?"
      ],
      "metadata": {
        "id": "sV7yOM1yFfaS"
      }
    },
    {
      "cell_type": "code",
      "source": [
        "a = {\"foo\" : 42}"
      ],
      "metadata": {
        "id": "GHJG6_bIFiK4"
      },
      "execution_count": 1,
      "outputs": []
    },
    {
      "cell_type": "markdown",
      "source": [
        "3. What is the most significant distinction between a dictionary and a list?"
      ],
      "metadata": {
        "id": "GMmeCEblF4lq"
      }
    },
    {
      "cell_type": "code",
      "source": [
        "# In dictionary we take out values from keys and in list we do indexing and values stored inn dictionary are unordered whereas values in list are ordered."
      ],
      "metadata": {
        "id": "TTLZuVd8FvC2"
      },
      "execution_count": 6,
      "outputs": []
    },
    {
      "cell_type": "markdown",
      "source": [
        "4. What happens if you try to access spam[&#39;foo&#39;] if spam is {&#39;bar&#39;: 100}?"
      ],
      "metadata": {
        "id": "wSCTIlR0GIFe"
      }
    },
    {
      "cell_type": "code",
      "source": [
        "spam = {'bar':100}"
      ],
      "metadata": {
        "id": "KPeUT-eoGHDV"
      },
      "execution_count": 7,
      "outputs": []
    },
    {
      "cell_type": "code",
      "source": [
        "spam['foo'] # This raises KeyError because the key 'foo' is not present in the dictionary spam."
      ],
      "metadata": {
        "id": "YFHOtDwAGSC0"
      },
      "execution_count": 9,
      "outputs": []
    },
    {
      "cell_type": "markdown",
      "source": [
        "5. If a dictionary is stored in spam, what is the difference between the expressions &#39;cat&#39; in spam and\n",
        "&#39;cat&#39; in spam.keys()?"
      ],
      "metadata": {
        "id": "ENuFpgdfG3Nj"
      }
    },
    {
      "cell_type": "code",
      "source": [
        "# There is no difference as both check through the keys of a dictionary."
      ],
      "metadata": {
        "id": "rfD8iUSeGWXB"
      },
      "execution_count": 10,
      "outputs": []
    },
    {
      "cell_type": "markdown",
      "source": [
        "6. If a dictionary is stored in spam, what is the difference between the expressions &#39;cat&#39; in spam and\n",
        "&#39;cat&#39; in spam.values()?"
      ],
      "metadata": {
        "id": "XO4przHhIG5F"
      }
    },
    {
      "cell_type": "code",
      "source": [
        "# 'cat' in spam checks if cat key exists in the dictionary spam whereas 'cat' in spam.values() checks if such value exists in any of the keys present in spam."
      ],
      "metadata": {
        "id": "xaHyEEOkIGVI"
      },
      "execution_count": 11,
      "outputs": []
    },
    {
      "cell_type": "markdown",
      "source": [
        "7. What is a shortcut for the following code?\n",
        "if &#39;color&#39; not in spam:\n",
        "spam[&#39;color&#39;] = &#39;black&#39;"
      ],
      "metadata": {
        "id": "uw4e5cuiIx3y"
      }
    },
    {
      "cell_type": "code",
      "source": [
        "spam['color'] = 'black'"
      ],
      "metadata": {
        "id": "cVMZwvjzIvjH"
      },
      "execution_count": 12,
      "outputs": []
    },
    {
      "cell_type": "markdown",
      "source": [
        "8. How do you &quot;pretty print&quot; dictionary values using which module and function?"
      ],
      "metadata": {
        "id": "gx8fJKOCJBdD"
      }
    },
    {
      "cell_type": "code",
      "source": [
        "#pprint.pprint() is used in dictionary using module and function."
      ],
      "metadata": {
        "id": "NGhqjXtlI_6o"
      },
      "execution_count": null,
      "outputs": []
    }
  ]
}