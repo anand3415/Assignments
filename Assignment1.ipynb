{
  "nbformat": 4,
  "nbformat_minor": 0,
  "metadata": {
    "colab": {
      "provenance": []
    },
    "kernelspec": {
      "name": "python3",
      "display_name": "Python 3"
    },
    "language_info": {
      "name": "python"
    }
  },
  "cells": [
    {
      "cell_type": "markdown",
      "source": [
        "1. In the below elements which of them are values or an expression? eg:- values can be integer or string and expressions will be mathematical operators."
      ],
      "metadata": {
        "id": "PzDNxJaC2MFV"
      }
    },
    {
      "cell_type": "code",
      "execution_count": null,
      "metadata": {
        "id": "mbvmHAPo2Dw5"
      },
      "outputs": [],
      "source": [
        "# * :- This element is an expression because this is asterisk symbol used to multiply two values.\n",
        "\n",
        "# 'hello' :- This element is a value because it is a string.\n",
        "\n",
        "# -87.8 :- This element is a value because it is a float value.\n",
        "\n",
        "# - :- This element is an expression used to subtract two values.\n",
        "\n",
        "# / :- This element is an expressiom used to divide two values.\n",
        "\n",
        "# + :- This element is an expression used to add two values.\n",
        "\n",
        "# 6 :- This element is a value because this is an interger value."
      ]
    },
    {
      "cell_type": "markdown",
      "source": [
        "2. What is the difference between string and variable?"
      ],
      "metadata": {
        "id": "EKIVgoHW5GCJ"
      }
    },
    {
      "cell_type": "code",
      "source": [
        "# String :- String is a collection of characters. For example: \"hello\" , \"123\" , 'axp345'.\n",
        "# Variable :- Variables are symbols that are used to store data in a program. For example: data_1 = 1+2j here data_1 is a variable. "
      ],
      "metadata": {
        "id": "OEZo0zFP5K6d"
      },
      "execution_count": null,
      "outputs": []
    },
    {
      "cell_type": "markdown",
      "source": [
        "3. Describe three different data types."
      ],
      "metadata": {
        "id": "PbewAemd6tFU"
      }
    },
    {
      "cell_type": "code",
      "source": [
        "# 1. integer (int) : intergers are numerical data. Ex: 22 , 89, 5\n",
        "# 2. string (str) : string are data. Ex: \"anand\" , 'aj234'\n",
        "# 3. float : float numbers are the decimal values. Ex: 54.32, -89.3"
      ],
      "metadata": {
        "id": "F5_OSja55yvZ"
      },
      "execution_count": null,
      "outputs": []
    },
    {
      "cell_type": "markdown",
      "source": [
        "4. What is an expression made up of? What do all expressions do?"
      ],
      "metadata": {
        "id": "Opf_Wy5j8EFA"
      }
    },
    {
      "cell_type": "code",
      "source": [
        "# Expression are made up of combination of operators and operands that are used to evaluate an equation. Expression represents numbers, strings, variables.\n",
        "# Ex: \n",
        "# a = 1\n",
        "# b = a + 10"
      ],
      "metadata": {
        "id": "vg38si3V7-LT"
      },
      "execution_count": null,
      "outputs": []
    },
    {
      "cell_type": "markdown",
      "source": [
        "5. This assignment statements, like spam = 10. What is the difference between an\n",
        "expression and a statement?"
      ],
      "metadata": {
        "id": "2lbKggf49fpY"
      }
    },
    {
      "cell_type": "code",
      "source": [
        "# spam = 10 is an expression as the value 10 is being assigned to a variable spam.\n",
        "# Expression: Expressions can be assigned to a variable and can be printed thereafter. for example: 2+2, \"hel\" + \"lo\"\n",
        "# Statement: These are instructions that can be used to execute and display a result if there is one. Example: print(), range(), if CONDITION else."
      ],
      "metadata": {
        "id": "pPoS5E8O9e4D"
      },
      "execution_count": null,
      "outputs": []
    },
    {
      "cell_type": "markdown",
      "source": [
        "6. After running the following code, what does the variable bacon contain?\n"
      ],
      "metadata": {
        "id": "DQC1MAC09_yI"
      }
    },
    {
      "cell_type": "code",
      "source": [
        "bacon = 22\n",
        "bacon + 1 \n",
        "# Here the variable bacon contains 22 as we are just printing the value of bacon with 1 added and not changing the assigned value itself."
      ],
      "metadata": {
        "colab": {
          "base_uri": "https://localhost:8080/"
        },
        "id": "SBPtoW58-LGU",
        "outputId": "a183ade8-c5e4-4976-a1eb-9c5a5a82b90a"
      },
      "execution_count": null,
      "outputs": [
        {
          "output_type": "execute_result",
          "data": {
            "text/plain": [
              "23"
            ]
          },
          "metadata": {},
          "execution_count": 5
        }
      ]
    },
    {
      "cell_type": "markdown",
      "source": [
        "7. What should the values of the following two terms be?\n"
      ],
      "metadata": {
        "id": "QqPKVxQbABRn"
      }
    },
    {
      "cell_type": "code",
      "source": [
        "'spam' + 'spamapam'"
      ],
      "metadata": {
        "colab": {
          "base_uri": "https://localhost:8080/",
          "height": 36
        },
        "id": "l2oDWMQj-Qnm",
        "outputId": "d0cb5a8e-5c36-4043-c9bb-1a899fe5e268"
      },
      "execution_count": null,
      "outputs": [
        {
          "output_type": "execute_result",
          "data": {
            "text/plain": [
              "'spamspamapam'"
            ],
            "application/vnd.google.colaboratory.intrinsic+json": {
              "type": "string"
            }
          },
          "metadata": {},
          "execution_count": 6
        }
      ]
    },
    {
      "cell_type": "code",
      "source": [
        "'spam' *3"
      ],
      "metadata": {
        "colab": {
          "base_uri": "https://localhost:8080/",
          "height": 36
        },
        "id": "OzQll_sxANX8",
        "outputId": "374a7b13-b032-4237-df5b-53bb6d9efce2"
      },
      "execution_count": null,
      "outputs": [
        {
          "output_type": "execute_result",
          "data": {
            "text/plain": [
              "'spamspamspam'"
            ],
            "application/vnd.google.colaboratory.intrinsic+json": {
              "type": "string"
            }
          },
          "metadata": {},
          "execution_count": 7
        }
      ]
    },
    {
      "cell_type": "markdown",
      "source": [
        "8. Why is eggs a valid variable name while 100 is invalid?"
      ],
      "metadata": {
        "id": "HFAXVVVTASwu"
      }
    },
    {
      "cell_type": "code",
      "source": [
        "# Beacuse a variable cannot start with a number. we cannot store values in data types."
      ],
      "metadata": {
        "id": "h_y3bLwNAP5_"
      },
      "execution_count": null,
      "outputs": []
    },
    {
      "cell_type": "markdown",
      "source": [
        "9. What three functions can be used to get the integer, floating-point number, or string version of a value?"
      ],
      "metadata": {
        "id": "OLLDyCl1BBAf"
      }
    },
    {
      "cell_type": "code",
      "source": [
        "# int(), float(), str() \n",
        "# Example:\n",
        "a = 1\n",
        "print(int(a)) \n",
        "print(float(a))\n",
        "print(str(a))"
      ],
      "metadata": {
        "colab": {
          "base_uri": "https://localhost:8080/"
        },
        "id": "x2mYqry5A8u5",
        "outputId": "b1e81f05-dd79-41b7-d72a-0b15f280c7af"
      },
      "execution_count": null,
      "outputs": [
        {
          "output_type": "stream",
          "name": "stdout",
          "text": [
            "1\n",
            "1.0\n",
            "1\n"
          ]
        }
      ]
    },
    {
      "cell_type": "markdown",
      "source": [
        "10. Why does this expression cause an error? How can you fix it?"
      ],
      "metadata": {
        "id": "-9oJeSq2B2ix"
      }
    },
    {
      "cell_type": "code",
      "source": [
        "#'I have eaten' + 99 + 'burritos.' \n",
        "# The above expression gives an error because a string can only be combined with another string."
      ],
      "metadata": {
        "id": "eRsSf9TQBdkJ"
      },
      "execution_count": null,
      "outputs": []
    }
  ]
}