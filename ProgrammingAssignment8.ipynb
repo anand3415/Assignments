{
  "nbformat": 4,
  "nbformat_minor": 0,
  "metadata": {
    "colab": {
      "provenance": []
    },
    "kernelspec": {
      "name": "python3",
      "display_name": "Python 3"
    },
    "language_info": {
      "name": "python"
    }
  },
  "cells": [
    {
      "cell_type": "markdown",
      "source": [
        "1. Write a Python Program to Add Two Matrices?\n",
        "\n",
        "\n"
      ],
      "metadata": {
        "id": "zZhXNYGpFMWE"
      }
    },
    {
      "cell_type": "code",
      "source": [
        "x = [[1,1,1],\n",
        "     [2,2,2],\n",
        "     [3,3,3]]"
      ],
      "metadata": {
        "id": "NwGo_FuB9Lp3"
      },
      "execution_count": 1,
      "outputs": []
    },
    {
      "cell_type": "code",
      "source": [
        "y = [[4,4,4],\n",
        "     [5,5,5],\n",
        "     [6,6,6]]"
      ],
      "metadata": {
        "id": "QRLg-Sl3-P8P"
      },
      "execution_count": 3,
      "outputs": []
    },
    {
      "cell_type": "code",
      "source": [
        "result = [[0,0,0],\n",
        "          [0,0,0],\n",
        "          [0,0,0]]\n",
        "for i in range(len(x)):\n",
        "  for j in range(len(x[0])):\n",
        "    result[i][j] = x[i][j] + y[i][j]\n",
        "for p in result:\n",
        "  print(p)\n"
      ],
      "metadata": {
        "colab": {
          "base_uri": "https://localhost:8080/"
        },
        "id": "5LRkV4v4-oP3",
        "outputId": "48a8ec79-9cf3-4177-f74e-984f3d44e34b"
      },
      "execution_count": 5,
      "outputs": [
        {
          "output_type": "stream",
          "name": "stdout",
          "text": [
            "[5, 5, 5]\n",
            "[7, 7, 7]\n",
            "[9, 9, 9]\n"
          ]
        }
      ]
    },
    {
      "cell_type": "markdown",
      "source": [
        "2. Write a Python Program to Multiply Two Matrices?"
      ],
      "metadata": {
        "id": "-Ffp2z6T85sm"
      }
    },
    {
      "cell_type": "code",
      "source": [
        "result = [[0,0,0],\n",
        "          [0,0,0],\n",
        "          [0,0,0]]\n",
        "for i in range(len(x)):\n",
        "  for j in range(len(x[0])):\n",
        "    result[i][j] = x[i][j] * y[i][j]\n",
        "for p in result:\n",
        "  print(p)"
      ],
      "metadata": {
        "colab": {
          "base_uri": "https://localhost:8080/"
        },
        "id": "18816xkP-nSK",
        "outputId": "6efcacf1-0a09-44b8-a6d0-73bd893a77d9"
      },
      "execution_count": 6,
      "outputs": [
        {
          "output_type": "stream",
          "name": "stdout",
          "text": [
            "[4, 4, 4]\n",
            "[10, 10, 10]\n",
            "[18, 18, 18]\n"
          ]
        }
      ]
    },
    {
      "cell_type": "markdown",
      "source": [
        "3. Write a Python Program to Transpose a Matrix?"
      ],
      "metadata": {
        "id": "qvA7FDOY853N"
      }
    },
    {
      "cell_type": "code",
      "source": [
        "val = []\n",
        "for i in range(len(x)):\n",
        "  new = []\n",
        "  for j in range(len(x[0])):\n",
        "    new.append(x[j][i])\n",
        "  val.append(new)\n",
        "\n",
        "print(val)"
      ],
      "metadata": {
        "colab": {
          "base_uri": "https://localhost:8080/"
        },
        "id": "3Id0a4ym9NAv",
        "outputId": "df887c4a-5ed2-4e70-b6d0-e6544c4ec601"
      },
      "execution_count": 13,
      "outputs": [
        {
          "output_type": "stream",
          "name": "stdout",
          "text": [
            "[[1, 2, 3], [1, 2, 3], [1, 2, 3]]\n"
          ]
        }
      ]
    },
    {
      "cell_type": "markdown",
      "source": [
        "4. Write a Python Program to Sort Words in Alphabetic Order?"
      ],
      "metadata": {
        "id": "W1rMLaOD86C7"
      }
    },
    {
      "cell_type": "code",
      "source": [
        "a = [\"z\", \"g\" , \"r\", \"a\", \"d\", \"o\"]\n",
        "a.sort()\n",
        "print(a)"
      ],
      "metadata": {
        "colab": {
          "base_uri": "https://localhost:8080/"
        },
        "id": "UivxUSpu9OAD",
        "outputId": "24362da1-42d7-4fe0-c93a-9a79dab136d9"
      },
      "execution_count": 15,
      "outputs": [
        {
          "output_type": "stream",
          "name": "stdout",
          "text": [
            "['a', 'd', 'g', 'o', 'r', 'z']\n"
          ]
        }
      ]
    },
    {
      "cell_type": "markdown",
      "source": [
        "\n",
        "5. Write a Python Program to Remove Punctuation From a String?"
      ],
      "metadata": {
        "id": "hLRX6lk186S7"
      }
    },
    {
      "cell_type": "code",
      "source": [
        "a = \"Well, you can, but this will make it short.\"\n",
        "\n",
        "new = \"\".join([i for i in a if i.isalpha() or i == \" \"])\n",
        "\n",
        "print(new)"
      ],
      "metadata": {
        "colab": {
          "base_uri": "https://localhost:8080/"
        },
        "id": "b6k16iPl9OuU",
        "outputId": "3a85e5be-91b7-4015-cf1b-0e4c120323a3"
      },
      "execution_count": 20,
      "outputs": [
        {
          "output_type": "stream",
          "name": "stdout",
          "text": [
            "Well you can but this will make it short\n"
          ]
        }
      ]
    }
  ]
}